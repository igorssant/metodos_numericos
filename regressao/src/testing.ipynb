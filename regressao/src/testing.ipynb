{
 "cells": [
  {
   "cell_type": "code",
   "execution_count": 1,
   "metadata": {},
   "outputs": [],
   "source": [
    "from methods.polynomial_regression import create_augmented_matrix, retrieve_coef\n",
    "from methods.linear_regression import linear_regression\n",
    "from numpy.typing import NDArray\n",
    "import numpy as np"
   ]
  },
  {
   "cell_type": "code",
   "execution_count": 2,
   "metadata": {},
   "outputs": [],
   "source": [
    "x :list[np.float64] = list(range(10))\n",
    "y :list[np.float64] = [2, 4, 6, 1, 3, 5, 8, 10, 1, 9]"
   ]
  },
  {
   "cell_type": "code",
   "execution_count": 3,
   "metadata": {},
   "outputs": [
    {
     "name": "stdout",
     "output_type": "stream",
     "text": [
      "Coeficiente linear:  2.581818181818182\n",
      "Coeficiente angular:  0.5151515151515151\n",
      "Erro padrão da estimativa:  3.0619858875830204\n",
      "Coeficiente de determinação:  0.23851715120750644\n"
     ]
    }
   ],
   "source": [
    "a0, a1, erro_padrao_estimativa, r2 = linear_regression(x, y)\n",
    "print(\"Coeficiente linear: \", a0)\n",
    "print(\"Coeficiente angular: \", a1)\n",
    "print(\"Erro padrão da estimativa: \", erro_padrao_estimativa)\n",
    "print(\"Coeficiente de determinação: \", r2)"
   ]
  },
  {
   "cell_type": "code",
   "execution_count": 4,
   "metadata": {},
   "outputs": [
    {
     "name": "stdout",
     "output_type": "stream",
     "text": [
      "A:\n",
      " [[13.  0.  0.]\n",
      " [13. 10.  0.]\n",
      " [13. 10.  5.]]\n",
      "b:\n",
      " [ 18.  42. 108.]\n"
     ]
    }
   ],
   "source": [
    "x = [1, 2, 3]\n",
    "y = [3, 6, 9]\n",
    "grau :int = 2\n",
    "matriz_aumentada :NDArray = create_augmented_matrix(x, y, grau)\n",
    "A :NDArray = matriz_aumentada[:, :-1]\n",
    "b :NDArray = matriz_aumentada[:, -1]\n",
    "print(\"A:\\n\", A)\n",
    "print(\"b:\\n\", b)"
   ]
  },
  {
   "cell_type": "code",
   "execution_count": 6,
   "metadata": {},
   "outputs": [
    {
     "name": "stdout",
     "output_type": "stream",
     "text": [
      "Os coeficientes são:\n",
      " [ 1.38461538  2.4        13.2       ]\n"
     ]
    }
   ],
   "source": [
    "print(\"Os coeficientes são:\\n\", retrieve_coef(A, b))"
   ]
  }
 ],
 "metadata": {
  "kernelspec": {
   "display_name": ".mn-venv",
   "language": "python",
   "name": "python3"
  },
  "language_info": {
   "codemirror_mode": {
    "name": "ipython",
    "version": 3
   },
   "file_extension": ".py",
   "mimetype": "text/x-python",
   "name": "python",
   "nbconvert_exporter": "python",
   "pygments_lexer": "ipython3",
   "version": "3.13.0"
  }
 },
 "nbformat": 4,
 "nbformat_minor": 2
}
