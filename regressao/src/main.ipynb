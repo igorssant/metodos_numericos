{
 "cells": [
  {
   "cell_type": "markdown",
   "metadata": {},
   "source": [
    "# Lista 4 - Metodos Numericos I"
   ]
  },
  {
   "cell_type": "markdown",
   "metadata": {},
   "source": [
    "## Importando pacotes"
   ]
  },
  {
   "cell_type": "code",
   "execution_count": 1,
   "metadata": {},
   "outputs": [],
   "source": [
    "from methods.polynomial_regression import create_augmented_matrix, retrieve_poly_coef\n",
    "from methods.multiple_regression import determinate_elements, retrieve_multiple_coef\n",
    "from methods.linear_regression import linear_regression\n",
    "from numpy.typing import NDArray\n",
    "import numpy as np"
   ]
  },
  {
   "cell_type": "markdown",
   "metadata": {},
   "source": [
    "### Questao 1"
   ]
  },
  {
   "cell_type": "code",
   "execution_count": 2,
   "metadata": {},
   "outputs": [],
   "source": [
    "x :NDArray = np.array([5, 10, 15, 20, 25, 30, 35, 40, 45, 50],\n",
    "                      dtype=np.float64)\n",
    "y :NDArray = np.array([17, 24, 31, 33, 37, 37, 40, 40, 42, 4],\n",
    "                      dtype=np.float64)"
   ]
  },
  {
   "cell_type": "markdown",
   "metadata": {},
   "source": [
    "#### a) uma reta"
   ]
  },
  {
   "cell_type": "code",
   "execution_count": 3,
   "metadata": {},
   "outputs": [
    {
     "name": "stdout",
     "output_type": "stream",
     "text": [
      "Coeficiente linear:  28.0\n",
      "Coeficiente angular:  0.09090909090909091\n",
      "Erro padrão da estimativa:  12.81334531579549\n",
      "Coeficiente de determinação:  0.07535758855716614\n"
     ]
    }
   ],
   "source": [
    "a0, a1, erro_padrao_estimativa, r2 = linear_regression(x, y)\n",
    "print(\"Coeficiente linear: \", a0)\n",
    "print(\"Coeficiente angular: \", a1)\n",
    "print(\"Erro padrão da estimativa: \", erro_padrao_estimativa)\n",
    "print(\"Coeficiente de determinação: \", r2)"
   ]
  },
  {
   "cell_type": "markdown",
   "metadata": {},
   "source": [
    "#### b) y = αe^β"
   ]
  },
  {
   "cell_type": "code",
   "execution_count": null,
   "metadata": {},
   "outputs": [],
   "source": []
  },
  {
   "cell_type": "markdown",
   "metadata": {},
   "source": [
    "#### c) y = αx / (β + x)"
   ]
  },
  {
   "cell_type": "code",
   "execution_count": null,
   "metadata": {},
   "outputs": [],
   "source": []
  },
  {
   "cell_type": "markdown",
   "metadata": {},
   "source": [
    "#### d) Uma parábola"
   ]
  },
  {
   "cell_type": "code",
   "execution_count": null,
   "metadata": {},
   "outputs": [],
   "source": []
  }
 ],
 "metadata": {
  "kernelspec": {
   "display_name": ".mn-venv",
   "language": "python",
   "name": "python3"
  },
  "language_info": {
   "codemirror_mode": {
    "name": "ipython",
    "version": 3
   },
   "file_extension": ".py",
   "mimetype": "text/x-python",
   "name": "python",
   "nbconvert_exporter": "python",
   "pygments_lexer": "ipython3",
   "version": "3.13.0"
  }
 },
 "nbformat": 4,
 "nbformat_minor": 2
}
