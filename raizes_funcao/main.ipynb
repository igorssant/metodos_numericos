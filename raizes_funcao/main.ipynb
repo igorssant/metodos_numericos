{
 "cells": [
  {
   "cell_type": "markdown",
   "id": "47e4bb5f",
   "metadata": {},
   "source": [
    "# Metodos Numericos 1"
   ]
  },
  {
   "cell_type": "markdown",
   "id": "5404529f",
   "metadata": {},
   "source": [
    "## Importando pacotes"
   ]
  },
  {
   "cell_type": "code",
   "execution_count": 1,
   "id": "3fba61dc",
   "metadata": {},
   "outputs": [],
   "source": [
    "import numpy as np\n",
    "from models.bisseccao import Bissection\n",
    "from models.falsa_posicao import FakePosition\n",
    "from models.ponto_fixo import FixedPoint\n",
    "from models.newton_raphson import NewtonRaphson\n",
    "from models.secante import Secant"
   ]
  },
  {
   "cell_type": "markdown",
   "id": "d5657213",
   "metadata": {},
   "source": [
    "## Hiperparametros gerais\n",
    "\n",
    "Serão utilizados em toda parte do notebook"
   ]
  },
  {
   "cell_type": "code",
   "execution_count": 2,
   "id": "d0d5907e",
   "metadata": {},
   "outputs": [],
   "source": [
    "funcao:str = \"x - 5\"\n",
    "xU:np.float64 = np.float64(2.0)\n",
    "xL:np.float64 = np.float64(7.0)\n",
    "tol:np.float64 = np.float64(0.0005)\n",
    "max_iter:int = 20"
   ]
  },
  {
   "cell_type": "markdown",
   "id": "8ed2ba80",
   "metadata": {},
   "source": [
    "## Modelos Numericos"
   ]
  },
  {
   "cell_type": "markdown",
   "id": "c0b8c830",
   "metadata": {},
   "source": [
    "### Metodos Intervalares"
   ]
  },
  {
   "cell_type": "markdown",
   "id": "9b9cec3b",
   "metadata": {},
   "source": [
    "#### Bisseccao"
   ]
  },
  {
   "cell_type": "code",
   "execution_count": 3,
   "id": "c54f89c2",
   "metadata": {},
   "outputs": [
    {
     "data": {
      "text/plain": [
       "np.float64(5.000011444091797)"
      ]
     },
     "execution_count": 3,
     "metadata": {},
     "output_type": "execute_result"
    }
   ],
   "source": [
    "bissection = Bissection(funcao, xL, xU, tol, max_iter)\n",
    "bissection.executeMethod()\n",
    "bissection.getResult()"
   ]
  },
  {
   "cell_type": "markdown",
   "id": "c30d3ab6",
   "metadata": {},
   "source": [
    "#### Falsa Posicao"
   ]
  },
  {
   "cell_type": "code",
   "execution_count": 4,
   "id": "9f06c0c3",
   "metadata": {},
   "outputs": [
    {
     "data": {
      "text/latex": [
       "$\\displaystyle 5.0$"
      ],
      "text/plain": [
       "5.00000000000000"
      ]
     },
     "execution_count": 4,
     "metadata": {},
     "output_type": "execute_result"
    }
   ],
   "source": [
    "fakePosition = FakePosition(funcao, xL, xU, tol, max_iter)\n",
    "fakePosition.executeMethod()\n",
    "fakePosition.getResult()"
   ]
  },
  {
   "cell_type": "markdown",
   "id": "73358cfc",
   "metadata": {},
   "source": [
    "### Metodos Abertos"
   ]
  },
  {
   "cell_type": "markdown",
   "id": "aab9ef95",
   "metadata": {},
   "source": [
    "#### Ponto Fixo"
   ]
  },
  {
   "cell_type": "code",
   "execution_count": 5,
   "id": "bad4eb49",
   "metadata": {},
   "outputs": [
    {
     "data": {
      "text/latex": [
       "$\\displaystyle 5.0$"
      ],
      "text/plain": [
       "5.00000000000000"
      ]
     },
     "execution_count": 5,
     "metadata": {},
     "output_type": "execute_result"
    }
   ],
   "source": [
    "# f(x) = x - 5 \n",
    "# f'(x) = 1\n",
    "# estrutura de g(x)\n",
    "# ==> g(x) = x - (f(x) / f'(x))\n",
    "g_from_function:str = \"x - (x - 5)\"\n",
    "\n",
    "fixedPoint = FixedPoint(g_from_function, xL, tol, max_iter)\n",
    "fixedPoint.executeMethod()\n",
    "fixedPoint.getResult()"
   ]
  },
  {
   "cell_type": "markdown",
   "id": "eb316b6e",
   "metadata": {},
   "source": [
    "#### Newton Raphson"
   ]
  },
  {
   "cell_type": "code",
   "execution_count": 6,
   "id": "332dfe1f",
   "metadata": {},
   "outputs": [
    {
     "data": {
      "text/latex": [
       "$\\displaystyle 5.0$"
      ],
      "text/plain": [
       "5.00000000000000"
      ]
     },
     "execution_count": 6,
     "metadata": {},
     "output_type": "execute_result"
    }
   ],
   "source": [
    "# f(x) = x - 5 \n",
    "# f'(x) = 1\n",
    "derivative:str = \"1\"\n",
    "\n",
    "newtonRaphson = NewtonRaphson(funcao, derivative, xL, tol, max_iter)\n",
    "newtonRaphson.executeMethod()\n",
    "newtonRaphson.getResult()"
   ]
  },
  {
   "cell_type": "markdown",
   "id": "14e857ce",
   "metadata": {},
   "source": [
    "#### Secante"
   ]
  },
  {
   "cell_type": "code",
   "execution_count": 7,
   "id": "d5425d25",
   "metadata": {},
   "outputs": [
    {
     "data": {
      "text/latex": [
       "$\\displaystyle 5.0$"
      ],
      "text/plain": [
       "5.00000000000000"
      ]
     },
     "execution_count": 7,
     "metadata": {},
     "output_type": "execute_result"
    }
   ],
   "source": [
    "secant = Secant(funcao, xL, xU, tol, max_iter)\n",
    "secant.executeMethod()\n",
    "secant.getResult()"
   ]
  }
 ],
 "metadata": {
  "kernelspec": {
   "display_name": ".mn-venv",
   "language": "python",
   "name": "python3"
  },
  "language_info": {
   "codemirror_mode": {
    "name": "ipython",
    "version": 3
   },
   "file_extension": ".py",
   "mimetype": "text/x-python",
   "name": "python",
   "nbconvert_exporter": "python",
   "pygments_lexer": "ipython3",
   "version": "3.13.0"
  }
 },
 "nbformat": 4,
 "nbformat_minor": 5
}
