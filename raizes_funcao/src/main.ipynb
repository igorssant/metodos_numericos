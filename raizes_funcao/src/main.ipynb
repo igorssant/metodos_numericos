{
 "cells": [
  {
   "cell_type": "markdown",
   "id": "47e4bb5f",
   "metadata": {},
   "source": [
    "# Lista 2 - Raizes de função\n"
   ]
  },
  {
   "cell_type": "markdown",
   "id": "5404529f",
   "metadata": {},
   "source": [
    "## Importando os pacotes & configuração global"
   ]
  },
  {
   "cell_type": "code",
   "execution_count": 1,
   "id": "3fba61dc",
   "metadata": {},
   "outputs": [],
   "source": [
    "import numpy as np\n",
    "from methods.bracketing_methods import bissection, false_position\n",
    "from methods.open_methods import newton_raphson, secant, fixed_point\n",
    "import pandas as pd\n",
    "import sympy as sy"
   ]
  },
  {
   "cell_type": "code",
   "execution_count": 2,
   "id": "9fc09d6f",
   "metadata": {},
   "outputs": [],
   "source": [
    "tol: np.float64 = np.float64(0.0001)\n",
    "max_iter: int = 12"
   ]
  },
  {
   "cell_type": "markdown",
   "id": "8ed2ba80",
   "metadata": {},
   "source": [
    "## Testes para f(x) = (x / 1) - tan(x)"
   ]
  },
  {
   "cell_type": "markdown",
   "id": "672226c0",
   "metadata": {},
   "source": [
    "### Configuração"
   ]
  },
  {
   "cell_type": "code",
   "execution_count": 3,
   "id": "bdc26f70",
   "metadata": {},
   "outputs": [],
   "source": [
    "func: str = \"(x/1) - tan(x)\"\n",
    "intervals = [[4.4, 4.7], [7, 7.75], [10, 10.99], [13, 14.13], [16, 17.27]]"
   ]
  },
  {
   "cell_type": "markdown",
   "id": "c0b8c830",
   "metadata": {},
   "source": [
    "### Metodos Intervalares\n"
   ]
  },
  {
   "cell_type": "code",
   "execution_count": 4,
   "id": "c54f89c2",
   "metadata": {},
   "outputs": [],
   "source": [
    "bracketing_methods = [bissection, false_position]\n",
    "bracketing_methods_names = [\"bissection\", \"false_position\"]\n",
    "\n",
    "result_df = pd.DataFrame()\n",
    "\n",
    "for method, method_name in zip(bracketing_methods, bracketing_methods_names):\n",
    "    result = {\n",
    "        \"xl\": [],\n",
    "        \"xu\": [],\n",
    "        \"x\": [],\n",
    "        \"relative_error\": [],\n",
    "        \"tol\": [],\n",
    "        \"iter\": [],\n",
    "        \"function\": [],\n",
    "    }\n",
    "\n",
    "    for interval in intervals:\n",
    "        xl = np.float64(interval[0])\n",
    "        xu = np.float64(interval[1])\n",
    "\n",
    "        for i in range(1, max_iter + 1):\n",
    "            x, xl_returned, xu_returned, relative_error, iter,  = method(\n",
    "                func, xl, xu, tol, i\n",
    "            )\n",
    "\n",
    "            result[\"xl\"].append(xl_returned)\n",
    "            result[\"xu\"].append(xu_returned)\n",
    "            result[\"x\"].append(x)\n",
    "            result[\"relative_error\"].append(relative_error)\n",
    "            result[\"tol\"].append(tol)\n",
    "            result[\"iter\"].append(iter)\n",
    "            result[\"function\"].append(func)\n",
    "\n",
    "            if relative_error < tol:\n",
    "                break\n",
    "\n",
    "    tmp_df = pd.DataFrame(result)\n",
    "    tmp_df[\"method\"] = method_name\n",
    "\n",
    "    result_df = pd.concat([result_df, tmp_df], ignore_index=True)"
   ]
  },
  {
   "cell_type": "markdown",
   "id": "73358cfc",
   "metadata": {},
   "source": [
    "### Metodos Abertos\n"
   ]
  },
  {
   "cell_type": "markdown",
   "id": "aab9ef95",
   "metadata": {},
   "source": [
    "#### Ponto Fixo\n"
   ]
  },
  {
   "cell_type": "code",
   "execution_count": 5,
   "id": "bad4eb49",
   "metadata": {},
   "outputs": [],
   "source": [
    "g_from_function: str = \"tan(x)\" # Não converge\n",
    "\n",
    "result = {\n",
    "    \"xl\": [],\n",
    "    \"xu\": [],\n",
    "    \"x\": [],\n",
    "    \"relative_error\": [],\n",
    "    \"tol\": [],\n",
    "    \"iter\": [],\n",
    "    \"function\": [],\n",
    "}\n",
    "\n",
    "for interval in intervals:\n",
    "    xl = np.float64(interval[0])\n",
    "\n",
    "    for i in range(1, max_iter + 1):\n",
    "        x, x_old, relative_error, iter = fixed_point(g_from_function, xl, tol, i)\n",
    "\n",
    "        result[\"xl\"].append(x_old)\n",
    "        result[\"xu\"].append(x_old)\n",
    "        result[\"x\"].append(x)\n",
    "        result[\"relative_error\"].append(relative_error)\n",
    "        result[\"tol\"].append(tol)\n",
    "        result[\"iter\"].append(iter)\n",
    "        result[\"function\"].append(func)\n",
    "\n",
    "        if relative_error < tol:\n",
    "            break\n",
    "\n",
    "tmp_df = pd.DataFrame(result)\n",
    "tmp_df[\"method\"] = \"Fixed Point\"\n",
    "\n",
    "result_df = pd.concat([result_df, tmp_df], ignore_index=True)"
   ]
  },
  {
   "cell_type": "markdown",
   "id": "eb316b6e",
   "metadata": {},
   "source": [
    "#### Newton Raphson\n"
   ]
  },
  {
   "cell_type": "code",
   "execution_count": 6,
   "id": "332dfe1f",
   "metadata": {},
   "outputs": [],
   "source": [
    "derivative = sy.diff(func, sy.symbols(\"x\"))  # Calcula a derivada\n",
    "derivative = sy.lambdify(sy.symbols(\"x\"), derivative, \"numpy\")  # Converte para função\n",
    "\n",
    "# Ponto de inflexão na vizinhança\n",
    "\n",
    "result = {\n",
    "        \"xl\": [],\n",
    "        \"xu\": [],\n",
    "        \"x\": [],\n",
    "        \"relative_error\": [],\n",
    "        \"tol\": [],\n",
    "        \"iter\": [],\n",
    "        \"function\": [],\n",
    "    }\n",
    "\n",
    "\n",
    "for interval in intervals:\n",
    "    xl = np.float64(interval[0])\n",
    "\n",
    "    for i in range(1, max_iter + 1):\n",
    "        x, x_old, relative_error, iter = newton_raphson(func, derivative, xl, tol, i)\n",
    "\n",
    "        result[\"xl\"].append(x_old)\n",
    "        result[\"xu\"].append(x_old)\n",
    "        result[\"x\"].append(x)\n",
    "        result[\"relative_error\"].append(relative_error)\n",
    "        result[\"tol\"].append(tol)\n",
    "        result[\"iter\"].append(iter)\n",
    "        result[\"function\"].append(func)\n",
    "\n",
    "        if relative_error < tol:\n",
    "            break\n",
    "\n",
    "tmp_df = pd.DataFrame(result)\n",
    "tmp_df[\"method\"] = \"Newton Raphson\"\n",
    "\n",
    "result_df = pd.concat([result_df, tmp_df], ignore_index=True)"
   ]
  },
  {
   "cell_type": "markdown",
   "id": "14e857ce",
   "metadata": {},
   "source": [
    "#### Secante\n"
   ]
  },
  {
   "cell_type": "code",
   "execution_count": 7,
   "id": "d5425d25",
   "metadata": {},
   "outputs": [],
   "source": [
    "result = {\n",
    "        \"xl\": [],\n",
    "        \"xu\": [],\n",
    "        \"x\": [],\n",
    "        \"relative_error\": [],\n",
    "        \"tol\": [],\n",
    "        \"iter\": [],\n",
    "        \"function\": [],\n",
    "    }\n",
    "\n",
    "for interval in intervals:\n",
    "    xl = np.float64(interval[0])\n",
    "    xu = np.float64(interval[1])\n",
    "\n",
    "    for i in range(1, max_iter + 1):\n",
    "        x, xl_returned, xu_returned, relative_error, iter = secant(func, xl, xu, tol, i)\n",
    "\n",
    "        result[\"xl\"].append(xl_returned)\n",
    "        result[\"xu\"].append(xu_returned)\n",
    "        result[\"x\"].append(x)\n",
    "        result[\"relative_error\"].append(relative_error)\n",
    "        result[\"tol\"].append(tol)\n",
    "        result[\"iter\"].append(iter)\n",
    "        result[\"function\"].append(func)\n",
    "\n",
    "        if relative_error < tol:\n",
    "            break\n",
    "\n",
    "tmp_df = pd.DataFrame(result)\n",
    "tmp_df[\"method\"] = \"Secant\"\n",
    "\n",
    "result_df = pd.concat([result_df, tmp_df], ignore_index=True)"
   ]
  },
  {
   "cell_type": "code",
   "execution_count": 8,
   "id": "69e2fd7c",
   "metadata": {},
   "outputs": [],
   "source": [
    "result_df.to_csv(\"../output/methods_result.csv_1\", sep=\";\", index=False, float_format=\"%.10f\")\n",
    "#result_df.to_parquet(\"../output/methods_result_1.parquet\", index=False)"
   ]
  },
  {
   "cell_type": "markdown",
   "id": "7eda012d",
   "metadata": {},
   "source": [
    "## Testes para f(x) = (x / 2) - tan(2x)"
   ]
  },
  {
   "cell_type": "markdown",
   "id": "04b28061",
   "metadata": {},
   "source": [
    "### Configuração"
   ]
  },
  {
   "cell_type": "code",
   "execution_count": 9,
   "id": "b9005249",
   "metadata": {},
   "outputs": [],
   "source": [
    "func:str = \"(x/2) - tan(2*x)\"\n",
    "intervals = [[1.5, 2.1], [3.0, 3.7], [5.0, 5.35], [6.4, 7.0], [9.5, 10.2]]"
   ]
  },
  {
   "cell_type": "markdown",
   "id": "912cc63b",
   "metadata": {},
   "source": [
    "### Metodos Intervalares\n"
   ]
  },
  {
   "cell_type": "code",
   "execution_count": 10,
   "id": "bdf76ab2",
   "metadata": {},
   "outputs": [],
   "source": [
    "bracketing_methods = [bissection, false_position]\n",
    "bracketing_methods_names = [\"bissection\", \"false_position\"]\n",
    "\n",
    "result_df = pd.DataFrame()\n",
    "\n",
    "for method, method_name in zip(bracketing_methods, bracketing_methods_names):\n",
    "    result = {\n",
    "        \"xl\": [],\n",
    "        \"xu\": [],\n",
    "        \"x\": [],\n",
    "        \"relative_error\": [],\n",
    "        \"tol\": [],\n",
    "        \"iter\": [],\n",
    "        \"function\": [],\n",
    "    }\n",
    "\n",
    "    for interval in intervals:\n",
    "        xl = np.float64(interval[0])\n",
    "        xu = np.float64(interval[1])\n",
    "\n",
    "        for i in range(1, max_iter + 1):\n",
    "            x, xl_returned, xu_returned, relative_error, iter,  = method(\n",
    "                func, xl, xu, tol, i\n",
    "            )\n",
    "\n",
    "            result[\"xl\"].append(xl_returned)\n",
    "            result[\"xu\"].append(xu_returned)\n",
    "            result[\"x\"].append(x)\n",
    "            result[\"relative_error\"].append(relative_error)\n",
    "            result[\"tol\"].append(tol)\n",
    "            result[\"iter\"].append(iter)\n",
    "            result[\"function\"].append(func)\n",
    "\n",
    "            if relative_error < tol:\n",
    "                break\n",
    "\n",
    "    tmp_df = pd.DataFrame(result)\n",
    "    tmp_df[\"method\"] = method_name\n",
    "\n",
    "    result_df = pd.concat([result_df, tmp_df], ignore_index=True)"
   ]
  },
  {
   "cell_type": "markdown",
   "id": "959e0c46",
   "metadata": {},
   "source": [
    "### Metodos Abertos\n"
   ]
  },
  {
   "cell_type": "markdown",
   "id": "387cebd8",
   "metadata": {},
   "source": [
    "#### Ponto Fixo\n"
   ]
  },
  {
   "cell_type": "code",
   "execution_count": 11,
   "id": "20e6a92a",
   "metadata": {},
   "outputs": [],
   "source": [
    "g_from_function: str = \"2 * tan(2 * x)\""
   ]
  },
  {
   "cell_type": "code",
   "execution_count": 12,
   "id": "0be817a4",
   "metadata": {},
   "outputs": [],
   "source": [
    "result = {\n",
    "    \"xl\": [],\n",
    "    \"xu\": [],\n",
    "    \"x\": [],\n",
    "    \"relative_error\": [],\n",
    "    \"tol\": [],\n",
    "    \"iter\": [],\n",
    "    \"function\": [],\n",
    "}\n",
    "\n",
    "for interval in intervals:\n",
    "    xl = np.float64(interval[0])\n",
    "\n",
    "    for i in range(1, max_iter + 1):\n",
    "        x, x_old, relative_error, iter = fixed_point(g_from_function, xl, tol, i)\n",
    "\n",
    "        result[\"xl\"].append(x_old)\n",
    "        result[\"xu\"].append(x_old)\n",
    "        result[\"x\"].append(x)\n",
    "        result[\"relative_error\"].append(relative_error)\n",
    "        result[\"tol\"].append(tol)\n",
    "        result[\"iter\"].append(iter)\n",
    "        result[\"function\"].append(func)\n",
    "\n",
    "        if relative_error < tol:\n",
    "            break\n",
    "\n",
    "tmp_df = pd.DataFrame(result)\n",
    "tmp_df[\"method\"] = \"Fixed Point\"\n",
    "\n",
    "result_df = pd.concat([result_df, tmp_df], ignore_index=True)"
   ]
  },
  {
   "cell_type": "markdown",
   "id": "e336ad3e",
   "metadata": {},
   "source": [
    "#### Newton Raphson\n"
   ]
  },
  {
   "cell_type": "code",
   "execution_count": 13,
   "id": "0593d998",
   "metadata": {},
   "outputs": [],
   "source": [
    "derivative = sy.diff(func, sy.symbols(\"x\"))  # Calcula a derivada\n",
    "derivative = sy.lambdify(sy.symbols(\"x\"), derivative, \"numpy\")  # Converte para função\n",
    "\n",
    "result = {\n",
    "    \"xl\": [],\n",
    "    \"xu\": [],\n",
    "    \"x\": [],\n",
    "    \"relative_error\": [],\n",
    "    \"tol\": [],\n",
    "    \"iter\": [],\n",
    "    \"function\": [],\n",
    "}\n",
    "\n",
    "\n",
    "for interval in intervals:\n",
    "    xl = np.float64(interval[0])\n",
    "\n",
    "    for i in range(1, max_iter + 1):\n",
    "        x, x_old, relative_error, iter = newton_raphson(func, derivative, xl, tol, i)\n",
    "\n",
    "        result[\"xl\"].append(x_old)\n",
    "        result[\"xu\"].append(x_old)\n",
    "        result[\"x\"].append(x)\n",
    "        result[\"relative_error\"].append(relative_error)\n",
    "        result[\"tol\"].append(tol)\n",
    "        result[\"iter\"].append(iter)\n",
    "        result[\"function\"].append(func)\n",
    "\n",
    "        if relative_error < tol:\n",
    "            break\n",
    "\n",
    "tmp_df = pd.DataFrame(result)\n",
    "tmp_df[\"method\"] = \"Newton Raphson\"\n",
    "\n",
    "result_df = pd.concat([result_df, tmp_df], ignore_index=True)"
   ]
  },
  {
   "cell_type": "markdown",
   "id": "acc6d9ac",
   "metadata": {},
   "source": [
    "#### Secante\n"
   ]
  },
  {
   "cell_type": "code",
   "execution_count": 14,
   "id": "c03632dd",
   "metadata": {},
   "outputs": [],
   "source": [
    "result = {\n",
    "    \"xl\": [],\n",
    "    \"xu\": [],\n",
    "    \"x\": [],\n",
    "    \"relative_error\": [],\n",
    "    \"tol\": [],\n",
    "    \"iter\": [],\n",
    "    \"function\": [],\n",
    "}\n",
    "\n",
    "for interval in intervals:\n",
    "    xl = np.float64(interval[0])\n",
    "    xu = np.float64(interval[1])\n",
    "\n",
    "    for i in range(1, max_iter + 1):\n",
    "        x, xl_returned, xu_returned, relative_error, iter = secant(func, xl, xu, tol, i)\n",
    "\n",
    "        result[\"xl\"].append(xl_returned)\n",
    "        result[\"xu\"].append(xu_returned)\n",
    "        result[\"x\"].append(x)\n",
    "        result[\"relative_error\"].append(relative_error)\n",
    "        result[\"tol\"].append(tol)\n",
    "        result[\"iter\"].append(iter)\n",
    "        result[\"function\"].append(func)\n",
    "\n",
    "        if relative_error < tol:\n",
    "            break\n",
    "\n",
    "tmp_df = pd.DataFrame(result)\n",
    "tmp_df[\"method\"] = \"Secant\"\n",
    "\n",
    "result_df = pd.concat([result_df, tmp_df], ignore_index=True)"
   ]
  },
  {
   "cell_type": "code",
   "execution_count": 15,
   "id": "7f9a7a59",
   "metadata": {},
   "outputs": [],
   "source": [
    "result_df.to_csv(\"../output/methods_result_2.csv\", sep=\";\", index=False, float_format=\"%.10f\")\n",
    "#result_df.to_parquet(\"../output/methods_result_2.parquet\", index=False)"
   ]
  }
 ],
 "metadata": {
  "kernelspec": {
   "display_name": ".mn-venv",
   "language": "python",
   "name": "python3"
  },
  "language_info": {
   "codemirror_mode": {
    "name": "ipython",
    "version": 3
   },
   "file_extension": ".py",
   "mimetype": "text/x-python",
   "name": "python",
   "nbconvert_exporter": "python",
   "pygments_lexer": "ipython3",
   "version": "3.13.0"
  }
 },
 "nbformat": 4,
 "nbformat_minor": 5
}
