{
 "cells": [
  {
   "cell_type": "markdown",
   "id": "47e4bb5f",
   "metadata": {},
   "source": [
    "# Lista 2 - Raizes de função"
   ]
  },
  {
   "cell_type": "markdown",
   "id": "5404529f",
   "metadata": {},
   "source": [
    "## Importando pacotes"
   ]
  },
  {
   "cell_type": "code",
   "execution_count": 1,
   "id": "3fba61dc",
   "metadata": {},
   "outputs": [],
   "source": [
    "import numpy as np\n",
    "from methods.bracketing_methods import *\n",
    "from methods.open_methods import *"
   ]
  },
  {
   "cell_type": "markdown",
   "id": "d5657213",
   "metadata": {},
   "source": [
    "## Hiperparametros gerais\n",
    "\n",
    "Serão utilizados em toda parte do notebook"
   ]
  },
  {
   "cell_type": "code",
   "execution_count": 2,
   "id": "d0d5907e",
   "metadata": {},
   "outputs": [],
   "source": [
    "funcao:str = \"np.exp(-x) - x\"\n",
    "xU:np.float64 = np.float64(0.0)\n",
    "xL:np.float64 = np.float64(1.0)\n",
    "tol:np.float64 = np.float64(0.0005)\n",
    "max_iter:int = 5"
   ]
  },
  {
   "cell_type": "markdown",
   "id": "8ed2ba80",
   "metadata": {},
   "source": [
    "## Modelos Numericos"
   ]
  },
  {
   "cell_type": "markdown",
   "id": "c0b8c830",
   "metadata": {},
   "source": [
    "### Metodos Intervalares"
   ]
  },
  {
   "cell_type": "markdown",
   "id": "9b9cec3b",
   "metadata": {},
   "source": [
    "#### Bisseccao"
   ]
  },
  {
   "cell_type": "code",
   "execution_count": 3,
   "id": "c54f89c2",
   "metadata": {},
   "outputs": [
    {
     "data": {
      "text/plain": [
       "np.float64(0.59375)"
      ]
     },
     "execution_count": 3,
     "metadata": {},
     "output_type": "execute_result"
    }
   ],
   "source": [
    "bissection(funcao, xL, xU, tol, max_iter)"
   ]
  },
  {
   "cell_type": "markdown",
   "id": "c30d3ab6",
   "metadata": {},
   "source": [
    "#### Falsa Posicao"
   ]
  },
  {
   "cell_type": "code",
   "execution_count": 4,
   "id": "9f06c0c3",
   "metadata": {},
   "outputs": [
    {
     "data": {
      "text/plain": [
       "np.float64(0.567150214240495)"
      ]
     },
     "execution_count": 4,
     "metadata": {},
     "output_type": "execute_result"
    }
   ],
   "source": [
    "false_position(funcao, xL, xU, tol, max_iter)"
   ]
  },
  {
   "cell_type": "markdown",
   "id": "73358cfc",
   "metadata": {},
   "source": [
    "### Metodos Abertos"
   ]
  },
  {
   "cell_type": "markdown",
   "id": "aab9ef95",
   "metadata": {},
   "source": [
    "#### Ponto Fixo"
   ]
  },
  {
   "cell_type": "code",
   "execution_count": 5,
   "id": "bad4eb49",
   "metadata": {},
   "outputs": [
    {
     "data": {
      "text/plain": [
       "np.float64(5.0)"
      ]
     },
     "execution_count": 5,
     "metadata": {},
     "output_type": "execute_result"
    }
   ],
   "source": [
    "# f(x) = x - 5\n",
    "# f'(x) = 1\n",
    "# estrutura de g(x)\n",
    "# ==> g(x) = x - (f(x) / f'(x))\n",
    "g_from_function:str = \"x - (x - 5)\"\n",
    "\n",
    "fixed_point(g_from_function, xL, tol, max_iter)"
   ]
  },
  {
   "cell_type": "markdown",
   "id": "eb316b6e",
   "metadata": {},
   "source": [
    "#### Newton Raphson"
   ]
  },
  {
   "cell_type": "code",
   "execution_count": 6,
   "id": "332dfe1f",
   "metadata": {},
   "outputs": [
    {
     "data": {
      "text/plain": [
       "np.float64(0.5671432904097838)"
      ]
     },
     "execution_count": 6,
     "metadata": {},
     "output_type": "execute_result"
    }
   ],
   "source": [
    "# f(x) = x - 5\n",
    "# f'(x) = 1\n",
    "derivative:str = \"-exp(-x) - 1\"\n",
    "\n",
    "newton_raphson(funcao, derivative, xL, tol, max_iter)"
   ]
  },
  {
   "cell_type": "markdown",
   "id": "14e857ce",
   "metadata": {},
   "source": [
    "#### Secante"
   ]
  },
  {
   "cell_type": "code",
   "execution_count": 7,
   "id": "d5425d25",
   "metadata": {},
   "outputs": [
    {
     "data": {
      "text/plain": [
       "np.float64(0.5671432904100637)"
      ]
     },
     "execution_count": 7,
     "metadata": {},
     "output_type": "execute_result"
    }
   ],
   "source": [
    "secant(funcao, xL, xU, tol, max_iter)"
   ]
  }
 ],
 "metadata": {
  "kernelspec": {
   "display_name": "ml",
   "language": "python",
   "name": "python3"
  },
  "language_info": {
   "codemirror_mode": {
    "name": "ipython",
    "version": 3
   },
   "file_extension": ".py",
   "mimetype": "text/x-python",
   "name": "python",
   "nbconvert_exporter": "python",
   "pygments_lexer": "ipython3",
   "version": "3.13.2"
  }
 },
 "nbformat": 4,
 "nbformat_minor": 5
}
