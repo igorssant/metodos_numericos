{
 "cells": [
  {
   "cell_type": "markdown",
   "id": "47e4bb5f",
   "metadata": {},
   "source": [
    "# Metodos Numericos 1"
   ]
  },
  {
   "cell_type": "markdown",
   "id": "5404529f",
   "metadata": {},
   "source": [
    "## Importando pacotes"
   ]
  },
  {
   "cell_type": "code",
   "execution_count": 26,
   "id": "3fba61dc",
   "metadata": {},
   "outputs": [],
   "source": [
    "import numpy as np\n",
    "from methods.bissection import Bissection\n",
    "from methods.false_position import FalsePosition\n",
    "from methods.fixed_point import FixedPoint\n",
    "from methods.newton_raphson import NewtonRaphson\n",
    "from methods.secant import Secant"
   ]
  },
  {
   "cell_type": "markdown",
   "id": "d5657213",
   "metadata": {},
   "source": [
    "## Hiperparametros gerais\n",
    "\n",
    "Serão utilizados em toda parte do notebook"
   ]
  },
  {
   "cell_type": "code",
   "execution_count": 27,
   "id": "d0d5907e",
   "metadata": {},
   "outputs": [],
   "source": [
    "funcao:str = \"np.exp(-x) - x\"\n",
    "xU:np.float64 = np.float64(0.0)\n",
    "xL:np.float64 = np.float64(1.0)\n",
    "tol:np.float64 = np.float64(0.0005)\n",
    "max_iter:int = 5"
   ]
  },
  {
   "cell_type": "markdown",
   "id": "8ed2ba80",
   "metadata": {},
   "source": [
    "## Modelos Numericos"
   ]
  },
  {
   "cell_type": "markdown",
   "id": "c0b8c830",
   "metadata": {},
   "source": [
    "### Metodos Intervalares"
   ]
  },
  {
   "cell_type": "markdown",
   "id": "9b9cec3b",
   "metadata": {},
   "source": [
    "#### Bisseccao"
   ]
  },
  {
   "cell_type": "code",
   "execution_count": 28,
   "id": "c54f89c2",
   "metadata": {},
   "outputs": [
    {
     "data": {
      "text/plain": [
       "np.float64(0.59375)"
      ]
     },
     "execution_count": 28,
     "metadata": {},
     "output_type": "execute_result"
    }
   ],
   "source": [
    "bissection = Bissection(xL, xU, tol, max_iter)\n",
    "bissection.execute_method(f)"
   ]
  },
  {
   "cell_type": "markdown",
   "id": "c30d3ab6",
   "metadata": {},
   "source": [
    "#### Falsa Posicao"
   ]
  },
  {
   "cell_type": "code",
   "execution_count": 29,
   "id": "9f06c0c3",
   "metadata": {},
   "outputs": [
    {
     "data": {
      "text/plain": [
       "np.float64(0.567150214240495)"
      ]
     },
     "execution_count": 29,
     "metadata": {},
     "output_type": "execute_result"
    }
   ],
   "source": [
    "falsePosition = FalsePosition(xL, xU, tol, max_iter)\n",
    "falsePosition.execute_method(funcao)"
   ]
  },
  {
   "cell_type": "markdown",
   "id": "73358cfc",
   "metadata": {},
   "source": [
    "### Metodos Abertos"
   ]
  },
  {
   "cell_type": "markdown",
   "id": "aab9ef95",
   "metadata": {},
   "source": [
    "#### Ponto Fixo"
   ]
  },
  {
   "cell_type": "code",
   "execution_count": 30,
   "id": "bad4eb49",
   "metadata": {},
   "outputs": [
    {
     "data": {
      "text/plain": [
       "np.float64(5.0)"
      ]
     },
     "execution_count": 30,
     "metadata": {},
     "output_type": "execute_result"
    }
   ],
   "source": [
    "# f(x) = x - 5\n",
    "# f'(x) = 1\n",
    "# estrutura de g(x)\n",
    "# ==> g(x) = x - (f(x) / f'(x))\n",
    "g_from_function:str = \"x - (x - 5)\"\n",
    "\n",
    "fixedPoint = FixedPoint(xL, tol, max_iter)\n",
    "fixedPoint.execute_method(g_from_function)"
   ]
  },
  {
   "cell_type": "markdown",
   "id": "eb316b6e",
   "metadata": {},
   "source": [
    "#### Newton Raphson"
   ]
  },
  {
   "cell_type": "code",
   "execution_count": 31,
   "id": "332dfe1f",
   "metadata": {},
   "outputs": [
    {
     "data": {
      "text/plain": [
       "np.float64(0.5671432904097838)"
      ]
     },
     "execution_count": 31,
     "metadata": {},
     "output_type": "execute_result"
    }
   ],
   "source": [
    "# f(x) = x - 5\n",
    "# f'(x) = 1\n",
    "derivative:str = \"-exp(-x) - 1\"\n",
    "\n",
    "newtonRaphson = NewtonRaphson(xL, tol, max_iter)\n",
    "newtonRaphson.execute_method(funcao, derivative)"
   ]
  },
  {
   "cell_type": "markdown",
   "id": "14e857ce",
   "metadata": {},
   "source": [
    "#### Secante"
   ]
  },
  {
   "cell_type": "code",
   "execution_count": 32,
   "id": "d5425d25",
   "metadata": {},
   "outputs": [
    {
     "data": {
      "text/plain": [
       "np.float64(0.5671432904100637)"
      ]
     },
     "execution_count": 32,
     "metadata": {},
     "output_type": "execute_result"
    }
   ],
   "source": [
    "secant = Secant(xL, xU, tol, max_iter)\n",
    "secant.execute_method(funcao)"
   ]
  }
 ],
 "metadata": {
  "kernelspec": {
   "display_name": "ml",
   "language": "python",
   "name": "python3"
  },
  "language_info": {
   "codemirror_mode": {
    "name": "ipython",
    "version": 3
   },
   "file_extension": ".py",
   "mimetype": "text/x-python",
   "name": "python",
   "nbconvert_exporter": "python",
   "pygments_lexer": "ipython3",
   "version": "3.13.2"
  }
 },
 "nbformat": 4,
 "nbformat_minor": 5
}
