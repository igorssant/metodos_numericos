{
 "cells": [
  {
   "cell_type": "markdown",
   "id": "47e4bb5f",
   "metadata": {},
   "source": [
    "# Lista 2 - Raizes de função"
   ]
  },
  {
   "cell_type": "markdown",
   "id": "5404529f",
   "metadata": {},
   "source": [
    "## Imports + configuração"
   ]
  },
  {
   "cell_type": "code",
   "execution_count": 9,
   "id": "3fba61dc",
   "metadata": {},
   "outputs": [],
   "source": [
    "import numpy as np\n",
    "from methods.bracketing_methods import bissection, false_position\n",
    "from methods.open_methods import newton_raphson, secant, fixed_point\n",
    "import pandas as pd"
   ]
  },
  {
   "cell_type": "code",
   "execution_count": 10,
   "id": "d0d5907e",
   "metadata": {},
   "outputs": [],
   "source": [
    "func:str = \"(x/1) - tan(x)\"\n",
    "func:str = \"exp(-x) -x\"\n",
    "tol:np.float64 = np.float64(0.01)\n",
    "max_iter:int = 20\n",
    "\n",
    "#intervals = [[4, 4.7], [7, 7.75], [10, 10.99], [13, 14.13], [16, 17.27]]\n",
    "intervals = [[0, 1]]"
   ]
  },
  {
   "cell_type": "markdown",
   "id": "8ed2ba80",
   "metadata": {},
   "source": [
    "## Testes"
   ]
  },
  {
   "cell_type": "markdown",
   "id": "c0b8c830",
   "metadata": {},
   "source": [
    "### Metodos Intervalares"
   ]
  },
  {
   "cell_type": "markdown",
   "id": "a75f23e9",
   "metadata": {},
   "source": [
    "Todo: Adicionar texto com limitações de cada método"
   ]
  },
  {
   "cell_type": "code",
   "execution_count": null,
   "id": "c54f89c2",
   "metadata": {},
   "outputs": [],
   "source": [
    "bracketing_methods = [bissection, false_position]\n",
    "bracketing_methods_names = [\"bissection\", \"false_position\"]\n",
    "\n",
    "result_df = pd.DataFrame()\n",
    "\n",
    "for method, method_name in zip(bracketing_methods, bracketing_methods_names):\n",
    "    result = {\n",
    "        \"xl\": [],\n",
    "        \"xu\": [],\n",
    "        \"x\": [],\n",
    "        \"relative_error\": [],\n",
    "        \"tol\": [],\n",
    "        \"iter\": [],\n",
    "        \"function\": [],\n",
    "    }\n",
    "\n",
    "    for interval in intervals:\n",
    "        xl = np.float64(interval[0])\n",
    "        xu = np.float64(interval[1])\n",
    "\n",
    "        for i in range(1, max_iter + 1):\n",
    "            root, relative_error, iter, xl_return, xu_return = (method(func, xl, xu, tol, i))\n",
    "\n",
    "            result[\"xl\"].append(xl_return)\n",
    "            result[\"xu\"].append(xu_return)\n",
    "            result[\"x\"].append(root)\n",
    "            result[\"relative_error\"].append(relative_error)\n",
    "            result[\"tol\"].append(tol)\n",
    "            result[\"iter\"].append(iter)\n",
    "            result[\"function\"].append(func)\n",
    "\n",
    "            if relative_error < tol:\n",
    "                break\n",
    "\n",
    "    tmp_df = pd.DataFrame(result)\n",
    "    tmp_df[\"method\"] = method_name\n",
    "\n",
    "    result_df = pd.concat([result_df, tmp_df], ignore_index=True)\n",
    "\n",
    "result_df.to_csv(\"../output/bracketing_methods_results.csv\", index=False)\n",
    "result_df.to_parquet(\"../output/bracketing_methods_results.parquet\", index=False)"
   ]
  },
  {
   "cell_type": "code",
   "execution_count": 13,
   "id": "cc220830",
   "metadata": {},
   "outputs": [
    {
     "data": {
      "text/html": [
       "<div>\n",
       "<style scoped>\n",
       "    .dataframe tbody tr th:only-of-type {\n",
       "        vertical-align: middle;\n",
       "    }\n",
       "\n",
       "    .dataframe tbody tr th {\n",
       "        vertical-align: top;\n",
       "    }\n",
       "\n",
       "    .dataframe thead th {\n",
       "        text-align: right;\n",
       "    }\n",
       "</style>\n",
       "<table border=\"1\" class=\"dataframe\">\n",
       "  <thead>\n",
       "    <tr style=\"text-align: right;\">\n",
       "      <th></th>\n",
       "      <th>xl</th>\n",
       "      <th>xu</th>\n",
       "      <th>x</th>\n",
       "      <th>relative_error</th>\n",
       "      <th>tol</th>\n",
       "      <th>iter</th>\n",
       "      <th>function</th>\n",
       "      <th>method</th>\n",
       "    </tr>\n",
       "  </thead>\n",
       "  <tbody>\n",
       "    <tr>\n",
       "      <th>0</th>\n",
       "      <td>0.500000</td>\n",
       "      <td>1.000000</td>\n",
       "      <td>0.500000</td>\n",
       "      <td>100.000000</td>\n",
       "      <td>0.01</td>\n",
       "      <td>1</td>\n",
       "      <td>exp(-x) -x</td>\n",
       "      <td>bissection</td>\n",
       "    </tr>\n",
       "    <tr>\n",
       "      <th>1</th>\n",
       "      <td>0.500000</td>\n",
       "      <td>0.750000</td>\n",
       "      <td>0.750000</td>\n",
       "      <td>33.333333</td>\n",
       "      <td>0.01</td>\n",
       "      <td>2</td>\n",
       "      <td>exp(-x) -x</td>\n",
       "      <td>bissection</td>\n",
       "    </tr>\n",
       "    <tr>\n",
       "      <th>2</th>\n",
       "      <td>0.500000</td>\n",
       "      <td>0.625000</td>\n",
       "      <td>0.625000</td>\n",
       "      <td>20.000000</td>\n",
       "      <td>0.01</td>\n",
       "      <td>3</td>\n",
       "      <td>exp(-x) -x</td>\n",
       "      <td>bissection</td>\n",
       "    </tr>\n",
       "    <tr>\n",
       "      <th>3</th>\n",
       "      <td>0.562500</td>\n",
       "      <td>0.625000</td>\n",
       "      <td>0.562500</td>\n",
       "      <td>11.111111</td>\n",
       "      <td>0.01</td>\n",
       "      <td>4</td>\n",
       "      <td>exp(-x) -x</td>\n",
       "      <td>bissection</td>\n",
       "    </tr>\n",
       "    <tr>\n",
       "      <th>4</th>\n",
       "      <td>0.562500</td>\n",
       "      <td>0.593750</td>\n",
       "      <td>0.593750</td>\n",
       "      <td>5.263158</td>\n",
       "      <td>0.01</td>\n",
       "      <td>5</td>\n",
       "      <td>exp(-x) -x</td>\n",
       "      <td>bissection</td>\n",
       "    </tr>\n",
       "    <tr>\n",
       "      <th>5</th>\n",
       "      <td>0.562500</td>\n",
       "      <td>0.578125</td>\n",
       "      <td>0.578125</td>\n",
       "      <td>2.702703</td>\n",
       "      <td>0.01</td>\n",
       "      <td>6</td>\n",
       "      <td>exp(-x) -x</td>\n",
       "      <td>bissection</td>\n",
       "    </tr>\n",
       "    <tr>\n",
       "      <th>6</th>\n",
       "      <td>0.562500</td>\n",
       "      <td>0.570312</td>\n",
       "      <td>0.570312</td>\n",
       "      <td>1.369863</td>\n",
       "      <td>0.01</td>\n",
       "      <td>7</td>\n",
       "      <td>exp(-x) -x</td>\n",
       "      <td>bissection</td>\n",
       "    </tr>\n",
       "    <tr>\n",
       "      <th>7</th>\n",
       "      <td>0.566406</td>\n",
       "      <td>0.570312</td>\n",
       "      <td>0.566406</td>\n",
       "      <td>0.689655</td>\n",
       "      <td>0.01</td>\n",
       "      <td>8</td>\n",
       "      <td>exp(-x) -x</td>\n",
       "      <td>bissection</td>\n",
       "    </tr>\n",
       "    <tr>\n",
       "      <th>8</th>\n",
       "      <td>0.566406</td>\n",
       "      <td>0.568359</td>\n",
       "      <td>0.568359</td>\n",
       "      <td>0.343643</td>\n",
       "      <td>0.01</td>\n",
       "      <td>9</td>\n",
       "      <td>exp(-x) -x</td>\n",
       "      <td>bissection</td>\n",
       "    </tr>\n",
       "    <tr>\n",
       "      <th>9</th>\n",
       "      <td>0.566406</td>\n",
       "      <td>0.567383</td>\n",
       "      <td>0.567383</td>\n",
       "      <td>0.172117</td>\n",
       "      <td>0.01</td>\n",
       "      <td>10</td>\n",
       "      <td>exp(-x) -x</td>\n",
       "      <td>bissection</td>\n",
       "    </tr>\n",
       "    <tr>\n",
       "      <th>10</th>\n",
       "      <td>0.566895</td>\n",
       "      <td>0.567383</td>\n",
       "      <td>0.566895</td>\n",
       "      <td>0.086133</td>\n",
       "      <td>0.01</td>\n",
       "      <td>11</td>\n",
       "      <td>exp(-x) -x</td>\n",
       "      <td>bissection</td>\n",
       "    </tr>\n",
       "    <tr>\n",
       "      <th>11</th>\n",
       "      <td>0.567139</td>\n",
       "      <td>0.567383</td>\n",
       "      <td>0.567139</td>\n",
       "      <td>0.043048</td>\n",
       "      <td>0.01</td>\n",
       "      <td>12</td>\n",
       "      <td>exp(-x) -x</td>\n",
       "      <td>bissection</td>\n",
       "    </tr>\n",
       "    <tr>\n",
       "      <th>12</th>\n",
       "      <td>0.567139</td>\n",
       "      <td>0.567261</td>\n",
       "      <td>0.567261</td>\n",
       "      <td>0.021519</td>\n",
       "      <td>0.01</td>\n",
       "      <td>13</td>\n",
       "      <td>exp(-x) -x</td>\n",
       "      <td>bissection</td>\n",
       "    </tr>\n",
       "    <tr>\n",
       "      <th>13</th>\n",
       "      <td>0.567139</td>\n",
       "      <td>0.567200</td>\n",
       "      <td>0.567200</td>\n",
       "      <td>0.010761</td>\n",
       "      <td>0.01</td>\n",
       "      <td>14</td>\n",
       "      <td>exp(-x) -x</td>\n",
       "      <td>bissection</td>\n",
       "    </tr>\n",
       "    <tr>\n",
       "      <th>14</th>\n",
       "      <td>0.567139</td>\n",
       "      <td>0.567169</td>\n",
       "      <td>0.567169</td>\n",
       "      <td>0.005381</td>\n",
       "      <td>0.01</td>\n",
       "      <td>15</td>\n",
       "      <td>exp(-x) -x</td>\n",
       "      <td>bissection</td>\n",
       "    </tr>\n",
       "  </tbody>\n",
       "</table>\n",
       "</div>"
      ],
      "text/plain": [
       "          xl        xu         x  relative_error   tol  iter    function  \\\n",
       "0   0.500000  1.000000  0.500000      100.000000  0.01     1  exp(-x) -x   \n",
       "1   0.500000  0.750000  0.750000       33.333333  0.01     2  exp(-x) -x   \n",
       "2   0.500000  0.625000  0.625000       20.000000  0.01     3  exp(-x) -x   \n",
       "3   0.562500  0.625000  0.562500       11.111111  0.01     4  exp(-x) -x   \n",
       "4   0.562500  0.593750  0.593750        5.263158  0.01     5  exp(-x) -x   \n",
       "5   0.562500  0.578125  0.578125        2.702703  0.01     6  exp(-x) -x   \n",
       "6   0.562500  0.570312  0.570312        1.369863  0.01     7  exp(-x) -x   \n",
       "7   0.566406  0.570312  0.566406        0.689655  0.01     8  exp(-x) -x   \n",
       "8   0.566406  0.568359  0.568359        0.343643  0.01     9  exp(-x) -x   \n",
       "9   0.566406  0.567383  0.567383        0.172117  0.01    10  exp(-x) -x   \n",
       "10  0.566895  0.567383  0.566895        0.086133  0.01    11  exp(-x) -x   \n",
       "11  0.567139  0.567383  0.567139        0.043048  0.01    12  exp(-x) -x   \n",
       "12  0.567139  0.567261  0.567261        0.021519  0.01    13  exp(-x) -x   \n",
       "13  0.567139  0.567200  0.567200        0.010761  0.01    14  exp(-x) -x   \n",
       "14  0.567139  0.567169  0.567169        0.005381  0.01    15  exp(-x) -x   \n",
       "\n",
       "        method  \n",
       "0   bissection  \n",
       "1   bissection  \n",
       "2   bissection  \n",
       "3   bissection  \n",
       "4   bissection  \n",
       "5   bissection  \n",
       "6   bissection  \n",
       "7   bissection  \n",
       "8   bissection  \n",
       "9   bissection  \n",
       "10  bissection  \n",
       "11  bissection  \n",
       "12  bissection  \n",
       "13  bissection  \n",
       "14  bissection  "
      ]
     },
     "execution_count": 13,
     "metadata": {},
     "output_type": "execute_result"
    }
   ],
   "source": [
    "result_df[result_df['method'] == 'bissection']"
   ]
  },
  {
   "cell_type": "markdown",
   "id": "73358cfc",
   "metadata": {},
   "source": [
    "### Metodos Abertos"
   ]
  },
  {
   "cell_type": "markdown",
   "id": "aab9ef95",
   "metadata": {},
   "source": [
    "#### Ponto Fixo"
   ]
  },
  {
   "cell_type": "code",
   "execution_count": 14,
   "id": "bad4eb49",
   "metadata": {},
   "outputs": [
    {
     "data": {
      "text/plain": [
       "np.float64(5.0)"
      ]
     },
     "execution_count": 14,
     "metadata": {},
     "output_type": "execute_result"
    }
   ],
   "source": [
    "# f(x) = x - 5\n",
    "# f'(x) = 1\n",
    "# estrutura de g(x)\n",
    "# ==> g(x) = x - (f(x) / f'(x))\n",
    "g_from_function:str = \"x - (x - 5)\"\n",
    "\n",
    "fixed_point(g_from_function, xl, tol, max_iter)"
   ]
  },
  {
   "cell_type": "markdown",
   "id": "eb316b6e",
   "metadata": {},
   "source": [
    "#### Newton Raphson"
   ]
  },
  {
   "cell_type": "code",
   "execution_count": 15,
   "id": "332dfe1f",
   "metadata": {},
   "outputs": [
    {
     "data": {
      "text/plain": [
       "np.float64(0.5671432904097811)"
      ]
     },
     "execution_count": 15,
     "metadata": {},
     "output_type": "execute_result"
    }
   ],
   "source": [
    "# f(x) = x - 5\n",
    "# f'(x) = 1\n",
    "derivative:str = \"-exp(-x) - 1\"\n",
    "\n",
    "newton_raphson(func, derivative, xl, tol, max_iter)"
   ]
  },
  {
   "cell_type": "markdown",
   "id": "14e857ce",
   "metadata": {},
   "source": [
    "#### Secante"
   ]
  },
  {
   "cell_type": "code",
   "execution_count": 16,
   "id": "d5425d25",
   "metadata": {},
   "outputs": [
    {
     "data": {
      "text/plain": [
       "np.float64(0.5671433066049633)"
      ]
     },
     "execution_count": 16,
     "metadata": {},
     "output_type": "execute_result"
    }
   ],
   "source": [
    "secant(func, xl, xu, tol, max_iter)"
   ]
  }
 ],
 "metadata": {
  "kernelspec": {
   "display_name": "ml",
   "language": "python",
   "name": "python3"
  },
  "language_info": {
   "codemirror_mode": {
    "name": "ipython",
    "version": 3
   },
   "file_extension": ".py",
   "mimetype": "text/x-python",
   "name": "python",
   "nbconvert_exporter": "python",
   "pygments_lexer": "ipython3",
   "version": "3.13.2"
  }
 },
 "nbformat": 4,
 "nbformat_minor": 5
}
