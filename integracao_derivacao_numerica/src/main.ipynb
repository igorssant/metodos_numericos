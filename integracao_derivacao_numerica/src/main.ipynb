{
 "cells": [
  {
   "cell_type": "markdown",
   "metadata": {},
   "source": [
    "# Lista 4 - Metodos Numericos I"
   ]
  },
  {
   "cell_type": "markdown",
   "metadata": {},
   "source": [
    "## Importando pacotes"
   ]
  },
  {
   "cell_type": "code",
   "execution_count": null,
   "metadata": {},
   "outputs": [],
   "source": [
    "from methods.derivative import *\n",
    "from methods.integral import (trapezoid_integral,\n",
    "                              multiple_trapezoid_integral,\n",
    "                              simpson13_integral,\n",
    "                              multiple_simpson13_integral)\n",
    "import numpy as np"
   ]
  },
  {
   "cell_type": "markdown",
   "metadata": {},
   "source": [
    "## Questao 1 - Considere a função `f(x) = sen(x) * cos(3x)` no intervalo `[0, 2]` e compute derivadas ou integrações numéricas nas seguintes alternativas"
   ]
  },
  {
   "cell_type": "markdown",
   "metadata": {},
   "source": [
    "Em cada caso compare os resultados com os valores exatos calculando o erro relativo. \n",
    "Quais são as alternativas mais precisas? \n",
    "Justifique."
   ]
  },
  {
   "cell_type": "code",
   "execution_count": null,
   "metadata": {},
   "outputs": [],
   "source": [
    "func :str = \"sen(x) * cos(3 * x)\"\n",
    "lower_bound :np.float64 = np.float64(0.0)\n",
    "upper_bound :np.float64 = np.float64(2.0)"
   ]
  },
  {
   "cell_type": "markdown",
   "metadata": {},
   "source": [
    "### a) `f´(1)` utilizando a fórmula de Euler avançada com `h = 0,25`"
   ]
  },
  {
   "cell_type": "code",
   "execution_count": null,
   "metadata": {},
   "outputs": [],
   "source": [
    "h :np.float64 = np.float64(0.25)\n",
    "forward_difference_euler(func, np.float64(1.0), h)"
   ]
  },
  {
   "cell_type": "markdown",
   "metadata": {},
   "source": [
    "### b) `f´(1)` utilizando a fórmula de Euler recuada com `h = −0,25`"
   ]
  },
  {
   "cell_type": "code",
   "execution_count": null,
   "metadata": {},
   "outputs": [],
   "source": [
    "h :np.float64 = np.float64(-0.25)\n",
    "backward_difference_euler(func, np.float64(1.0), h)"
   ]
  },
  {
   "cell_type": "markdown",
   "metadata": {},
   "source": [
    "### c) `f´(1)` utilizando a fórmula de Euler avançada com `h = 0,125`"
   ]
  },
  {
   "cell_type": "code",
   "execution_count": null,
   "metadata": {},
   "outputs": [],
   "source": [
    "h :np.float64 = np.float64(0.125)\n",
    "forward_difference_euler(func, np.float64(1.0), h)"
   ]
  },
  {
   "cell_type": "markdown",
   "metadata": {},
   "source": [
    "### d) `f´(1)` utilizando a fórmula de Euler recuada com `h = −0,125`"
   ]
  },
  {
   "cell_type": "code",
   "execution_count": null,
   "metadata": {},
   "outputs": [],
   "source": [
    "h :np.float64 = np.float64(-0.125)\n",
    "backward_difference_euler(func, np.float64(1.0), h)"
   ]
  },
  {
   "cell_type": "markdown",
   "metadata": {},
   "source": [
    "### e) `f´(1)` utilizando a de três pontos central com `h = 0`"
   ]
  },
  {
   "cell_type": "code",
   "execution_count": null,
   "metadata": {},
   "outputs": [],
   "source": [
    "h :np.float64 = np.float64(0.0)\n",
    "central_derivative_three_points(func, np.float64(1.0), h)"
   ]
  },
  {
   "cell_type": "markdown",
   "metadata": {},
   "source": [
    "### f) `f´(1)` utilizando a de três pontos central com `h = 0,25`"
   ]
  },
  {
   "cell_type": "code",
   "execution_count": null,
   "metadata": {},
   "outputs": [],
   "source": [
    "h :np.float64 = np.float64(0.25)\n",
    "central_derivative_three_points(func, np.float64(1.0), h)"
   ]
  },
  {
   "cell_type": "markdown",
   "metadata": {},
   "source": [
    "### g) `f´(1)` utilizando a de três pontos central com  `h = 0,125`"
   ]
  },
  {
   "cell_type": "code",
   "execution_count": null,
   "metadata": {},
   "outputs": [],
   "source": [
    "h :np.float64 = np.float64(0.125)\n",
    "central_derivative_three_points(func, np.float64(1.0), h)"
   ]
  },
  {
   "cell_type": "markdown",
   "metadata": {},
   "source": [
    "### h) `f´(1)` utilizando a de três pontos lateral (direita) com `h = 0,25`"
   ]
  },
  {
   "cell_type": "code",
   "execution_count": null,
   "metadata": {},
   "outputs": [],
   "source": [
    "h :np.float64 = np.float64(0.25)\n",
    "progressive_derivative_1(func, np.float64(1.0), h)"
   ]
  },
  {
   "cell_type": "markdown",
   "metadata": {},
   "source": [
    "### i) `f´(1)` utilizando a de três pontos lateral (esquerda) com `h = −0,25`"
   ]
  },
  {
   "cell_type": "code",
   "execution_count": null,
   "metadata": {},
   "outputs": [],
   "source": [
    "h :np.float64 = np.float64(-0.25)\n",
    "regressive_derivative_1(func, np.float64(1.0), h)"
   ]
  },
  {
   "cell_type": "markdown",
   "metadata": {},
   "source": [
    "### j) `f´´(1)` utilizando a de três pontos central com `h = −0,5`"
   ]
  },
  {
   "cell_type": "code",
   "execution_count": null,
   "metadata": {},
   "outputs": [],
   "source": [
    "h :np.float64 = np.float64(-0.5)\n",
    "second_central_derivative_three_points(func, np.float64(1.0), h)"
   ]
  },
  {
   "cell_type": "markdown",
   "metadata": {},
   "source": [
    "### k) `f′′(1)` utilizando a de três pontos central com `h = 0,25`"
   ]
  },
  {
   "cell_type": "code",
   "execution_count": null,
   "metadata": {},
   "outputs": [],
   "source": [
    "h :np.float64 = np.float64(0.25)\n",
    "second_central_derivative_three_points(func, np.float64(1.0), h)"
   ]
  },
  {
   "cell_type": "markdown",
   "metadata": {},
   "source": [
    "### l) Integral da função no intervalo `[0, 2]` usando a Fórmula dos Trapézios e `h = 0,5`"
   ]
  },
  {
   "cell_type": "code",
   "execution_count": null,
   "metadata": {},
   "outputs": [],
   "source": [
    "h :np.float64 = np.float64(0.5)\n",
    "trapezoid_integral(func, lower_bound, upper_bound)"
   ]
  },
  {
   "cell_type": "code",
   "execution_count": null,
   "metadata": {},
   "outputs": [],
   "source": [
    "multiple_trapezoid_integral(func,\n",
    "                            lower_bound,\n",
    "                            upper_bound,\n",
    "                            (upper_bound - lower_bound) / h)"
   ]
  },
  {
   "cell_type": "markdown",
   "metadata": {},
   "source": [
    "### m) Integral da função no intervalo `[0, 2]` usando a Fórmula dos Trapézios e `h = 0,25`"
   ]
  },
  {
   "cell_type": "code",
   "execution_count": null,
   "metadata": {},
   "outputs": [],
   "source": [
    "h :np.float64 = np.float64(0.25)\n",
    "trapezoid_integral(func, lower_bound, upper_bound)"
   ]
  },
  {
   "cell_type": "code",
   "execution_count": null,
   "metadata": {},
   "outputs": [],
   "source": [
    "multiple_trapezoid_integral(func,\n",
    "                            lower_bound,\n",
    "                            upper_bound,\n",
    "                            (upper_bound - lower_bound) / h)"
   ]
  },
  {
   "cell_type": "markdown",
   "metadata": {},
   "source": [
    "### n) Integral da função no intervalo `[0, 2]` usando a Fórmula de Simpson e `h = 0,25`"
   ]
  },
  {
   "cell_type": "code",
   "execution_count": null,
   "metadata": {},
   "outputs": [],
   "source": [
    "h :np.float64 = np.float64(0.25)\n",
    "simpson13_integral(func, lower_bound, upper_bound)"
   ]
  },
  {
   "cell_type": "markdown",
   "metadata": {},
   "source": [
    "### o) Integral da função no intervalo `[0, 2]` usando a Fórmula de Simpson e `h = 0,5`"
   ]
  },
  {
   "cell_type": "code",
   "execution_count": null,
   "metadata": {},
   "outputs": [],
   "source": [
    "h :np.float64 = np.float64(0.5)\n",
    "simpson13_integral(func, lower_bound, upper_bound)"
   ]
  },
  {
   "cell_type": "markdown",
   "metadata": {},
   "source": [
    "### p) Integral da função no intervalo `[0, 2]` usando a Fórmula de Simpson e h = `0,125`"
   ]
  },
  {
   "cell_type": "code",
   "execution_count": null,
   "metadata": {},
   "outputs": [],
   "source": [
    "h :np.float64 = np.float64(0.125)\n",
    "simpson13_integral(func, lower_bound, upper_bound)"
   ]
  },
  {
   "cell_type": "code",
   "execution_count": null,
   "metadata": {},
   "outputs": [],
   "source": [
    "multiple_simpson13_integral(func,\n",
    "                            lower_bound,\n",
    "                            upper_bound,\n",
    "                            (upper_bound - lower_bound) / h)"
   ]
  },
  {
   "cell_type": "markdown",
   "metadata": {},
   "source": [
    "### q) Integral da função no intervalo `[0, 2]` usando a Fórmula dos Trapézios e `h = 0,125`"
   ]
  },
  {
   "cell_type": "code",
   "execution_count": null,
   "metadata": {},
   "outputs": [],
   "source": [
    "h :np.float64 = np.float64(0.125)\n",
    "trapezoid_integral(func, lower_bound, upper_bound)"
   ]
  },
  {
   "cell_type": "code",
   "execution_count": null,
   "metadata": {},
   "outputs": [],
   "source": [
    "multiple_trapezoid_integral(func,\n",
    "                            lower_bound,\n",
    "                            upper_bound,\n",
    "                            (upper_bound - lower_bound) / h)"
   ]
  }
 ],
 "metadata": {
  "kernelspec": {
   "display_name": ".mn-venv",
   "language": "python",
   "name": "python3"
  },
  "language_info": {
   "codemirror_mode": {
    "name": "ipython",
    "version": 3
   },
   "file_extension": ".py",
   "mimetype": "text/x-python",
   "name": "python",
   "nbconvert_exporter": "python",
   "pygments_lexer": "ipython3",
   "version": "3.13.0"
  }
 },
 "nbformat": 4,
 "nbformat_minor": 2
}
