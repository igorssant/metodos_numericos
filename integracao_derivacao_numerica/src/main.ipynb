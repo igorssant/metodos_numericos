{
 "cells": [
  {
   "cell_type": "markdown",
   "metadata": {},
   "source": [
    "# Lista 5 - Metodos Numericos I"
   ]
  },
  {
   "cell_type": "markdown",
   "metadata": {},
   "source": [
    "## Importando pacotes"
   ]
  },
  {
   "cell_type": "code",
   "execution_count": 1,
   "metadata": {},
   "outputs": [],
   "source": [
    "from methods.derivative import *\n",
    "from methods.integral import *\n",
    "import pandas as pd\n",
    "import numpy as np"
   ]
  },
  {
   "cell_type": "markdown",
   "metadata": {},
   "source": [
    "## Questao 1 - Considere a função `f(x) = sen(x) * cos(3x)` no intervalo `[0, 2]` e compute derivadas ou integrações numéricas nas seguintes alternativas"
   ]
  },
  {
   "cell_type": "markdown",
   "metadata": {},
   "source": [
    "Em cada caso compare os resultados com os valores exatos calculando o erro relativo. \n",
    "Quais são as alternativas mais precisas? \n",
    "Justifique."
   ]
  },
  {
   "cell_type": "markdown",
   "metadata": {},
   "source": [
    "`f´(1) = -0,8911404051801`\n",
    "\n",
    "`f´´(1) = 7,8730148161148`\n",
    "\n",
    "`Integral(f(x), 0, 2) = -0,2702233996347`"
   ]
  },
  {
   "cell_type": "code",
   "execution_count": 2,
   "metadata": {},
   "outputs": [],
   "source": [
    "func :str = \"sin(x) * cos(3 * x)\"\n",
    "lower_bound :np.float64 = np.float64(0.0)\n",
    "upper_bound :np.float64 = np.float64(2.0)\n",
    "true_first_deriv :np.float64 = np.float64(-0.8911404051801)\n",
    "true_second_deriv :np.float64 = np.float64(7.8730148161148)\n",
    "true_integral_0_2 :np.float64 = np.float64(-0.2702233996347)\n",
    "deriv_point :np.float64 = np.float64(1.0)"
   ]
  },
  {
   "cell_type": "code",
   "execution_count": 3,
   "metadata": {},
   "outputs": [],
   "source": [
    "def generate_empty_deriv_dataframe() -> pd.DataFrame:\n",
    "    return pd.DataFrame(columns=[\"point\",\n",
    "                                 \"true_first_derivative\",\n",
    "                                 \"true_second_derivative\",\n",
    "                                 \"h\",\n",
    "                                 \"first_derivative\",\n",
    "                                 \"second_derivative\",\n",
    "                                 \"error_first_deriv\",\n",
    "                                 \"error_second_deriv\",\n",
    "                                 \"method\"])\n",
    "\n",
    "def generate_integral_deriv_dataframe() -> pd.DataFrame:\n",
    "    return pd.DataFrame(columns=[\"lower_bound\",\n",
    "                                 \"upper_bound\",\n",
    "                                 \"true_integral\",\n",
    "                                 \"h\",\n",
    "                                 \"estimated_integral\",\n",
    "                                 \"error\",\n",
    "                                 \"method\"])\n",
    "    \n",
    "def add_new_derivative(df :pd.DataFrame, new_data :list[any]) -> pd.DataFrame:\n",
    "    if len(new_data) != df.shape[1]:\n",
    "        raise ValueError(f\"\"\"\n",
    "                         Lista com novos valores devem possui {df.shape[1]} informações,\n",
    "                         mas somente {len(new_data)} foram passadas.\n",
    "                         \"\"\")\n",
    "\n",
    "    df.loc[df.shape[0]] = new_data\n",
    "    \n",
    "    return df\n",
    "\n",
    "def add_new_integral(df :pd.DataFrame, new_data :list[any]) -> pd.DataFrame:\n",
    "    if len(new_data) != df.shape[1]:\n",
    "        raise ValueError(f\"\"\"\n",
    "                         Lista com novos valores devem possui {df.shape[1]} informações,\n",
    "                         mas somente {len(new_data)} foram passadas.\n",
    "                         \"\"\")\n",
    "    \n",
    "    df.loc[df.shape[0]] = new_data\n",
    "    \n",
    "    return df"
   ]
  },
  {
   "cell_type": "code",
   "execution_count": 4,
   "metadata": {},
   "outputs": [],
   "source": [
    "df_derivative :pd.DataFrame = generate_empty_deriv_dataframe()\n",
    "df_integral :pd.DataFrame = generate_integral_deriv_dataframe()"
   ]
  },
  {
   "cell_type": "markdown",
   "metadata": {},
   "source": [
    "### a) `f´(1)` utilizando a fórmula de Euler avançada com `h = 0,25`"
   ]
  },
  {
   "cell_type": "code",
   "execution_count": 5,
   "metadata": {},
   "outputs": [
    {
     "name": "stdout",
     "output_type": "stream",
     "text": [
      "Derivada (Euler avançada) com h =  0.25 \n",
      " 0.21740700673302982\n",
      "Erro relativo =  1.1085474119131298\n"
     ]
    }
   ],
   "source": [
    "h :np.float64 = np.float64(0.25)\n",
    "derivative :np.float64 = forward_difference_euler(func, deriv_point, h)\n",
    "error :np.float64 = abs(true_first_deriv - derivative)\n",
    "\n",
    "print(\"Derivada (Euler avançada) com h = \", h, \"\\n\", derivative)\n",
    "print(\"Erro relativo = \", error)\n",
    "\n",
    "df_derivative = add_new_derivative(\n",
    "    df_derivative,\n",
    "    [deriv_point,\n",
    "     true_first_deriv,\n",
    "     true_second_deriv,\n",
    "     h,\n",
    "     derivative,\n",
    "     np.nan,\n",
    "     error,\n",
    "     np.nan,\n",
    "     \"Euler Avançada\"]\n",
    ")"
   ]
  },
  {
   "cell_type": "markdown",
   "metadata": {},
   "source": [
    "### b) `f´(1)` utilizando a fórmula de Euler recuada com `h = −0,25`"
   ]
  },
  {
   "cell_type": "code",
   "execution_count": 6,
   "metadata": {},
   "outputs": [
    {
     "name": "stdout",
     "output_type": "stream",
     "text": [
      "Derivada (Euler recuada) com h =  -0.25 \n",
      " 0.21740700673302982\n",
      "Erro relativo =  1.1085474119131298\n"
     ]
    }
   ],
   "source": [
    "h :np.float64 = np.float64(-0.25)\n",
    "derivative :np.float64 = backward_difference_euler(func, deriv_point, h)\n",
    "error :np.float64 = abs(true_first_deriv - derivative)\n",
    "\n",
    "print(\"Derivada (Euler recuada) com h = \", h, \"\\n\", derivative)\n",
    "print(\"Erro relativo = \", error)\n",
    "\n",
    "df_derivative = add_new_derivative(\n",
    "    df_derivative,\n",
    "    [deriv_point,\n",
    "     true_first_deriv,\n",
    "     true_second_deriv,\n",
    "     h,\n",
    "     derivative,\n",
    "     np.nan,\n",
    "     error,\n",
    "     np.nan,\n",
    "     \"Euler Recuada\"]\n",
    ")"
   ]
  },
  {
   "cell_type": "markdown",
   "metadata": {},
   "source": [
    "### c) `f´(1)` utilizando a fórmula de Euler avançada com `h = 0,125`"
   ]
  },
  {
   "cell_type": "code",
   "execution_count": 7,
   "metadata": {},
   "outputs": [
    {
     "name": "stdout",
     "output_type": "stream",
     "text": [
      "Derivada (Euler avançada) com h =  0.125 \n",
      " -0.35801356967763365\n",
      "Erro relativo =  0.5331268355024663\n"
     ]
    }
   ],
   "source": [
    "h :np.float64 = np.float64(0.125)\n",
    "derivative :np.float64 = forward_difference_euler(func, deriv_point, h)\n",
    "error :np.float64 = abs(true_first_deriv - derivative)\n",
    "\n",
    "print(\"Derivada (Euler avançada) com h = \", h, \"\\n\", derivative)\n",
    "print(\"Erro relativo = \", error)\n",
    "\n",
    "df_derivative = add_new_derivative(\n",
    "    df_derivative,\n",
    "    [deriv_point,\n",
    "     true_first_deriv,\n",
    "     true_second_deriv,\n",
    "     h,\n",
    "     derivative,\n",
    "     np.nan,\n",
    "     error,\n",
    "     np.nan,\n",
    "     \"Euler Avançada\"]\n",
    ")"
   ]
  },
  {
   "cell_type": "markdown",
   "metadata": {},
   "source": [
    "### d) `f´(1)` utilizando a fórmula de Euler recuada com `h = −0,125`"
   ]
  },
  {
   "cell_type": "code",
   "execution_count": 8,
   "metadata": {},
   "outputs": [
    {
     "name": "stdout",
     "output_type": "stream",
     "text": [
      "Derivada (Euler recuada) com h =  -0.125 \n",
      " -0.35801356967763365\n",
      "Erro relativo =  0.5331268355024663\n"
     ]
    }
   ],
   "source": [
    "h :np.float64 = np.float64(-0.125)\n",
    "derivative :np.float64 = backward_difference_euler(func, deriv_point, h)\n",
    "error :np.float64 = abs(true_first_deriv - derivative)\n",
    "\n",
    "print(\"Derivada (Euler recuada) com h = \", h, \"\\n\", derivative)\n",
    "print(\"Erro relativo = \", error)\n",
    "\n",
    "df_derivative = add_new_derivative(\n",
    "    df_derivative,\n",
    "    [deriv_point,\n",
    "     true_first_deriv,\n",
    "     true_second_deriv,\n",
    "     h,\n",
    "     derivative,\n",
    "     np.nan,\n",
    "     error,\n",
    "     np.nan,\n",
    "     \"Euler Recuada\"]\n",
    ")"
   ]
  },
  {
   "cell_type": "markdown",
   "metadata": {},
   "source": [
    "### e) `f´(1)` utilizando a de três pontos central com `h = 0,5`"
   ]
  },
  {
   "cell_type": "code",
   "execution_count": 9,
   "metadata": {},
   "outputs": [
    {
     "name": "stdout",
     "output_type": "stream",
     "text": [
      "Derivada (3 pontos central) com h =  0.5 \n",
      " -0.471088027345328\n",
      "Erro relativo =  0.42005237783477195\n"
     ]
    }
   ],
   "source": [
    "h :np.float64 = np.float64(0.5)\n",
    "derivative :np.float64 = central_derivative_1(func, deriv_point, h)\n",
    "error :np.float64 = abs(true_first_deriv - derivative)\n",
    "    \n",
    "print(\"Derivada (3 pontos central) com h = \", h, \"\\n\", derivative)\n",
    "print(\"Erro relativo = \", error)\n",
    "    \n",
    "df_derivative = add_new_derivative(\n",
    "    df_derivative,\n",
    "    [deriv_point,\n",
    "     true_first_deriv,\n",
    "     true_second_deriv,\n",
    "     h,\n",
    "     derivative,\n",
    "     np.nan,\n",
    "     error,\n",
    "     np.nan,\n",
    "     \"Três Pontos Central\"]\n",
    ")"
   ]
  },
  {
   "cell_type": "markdown",
   "metadata": {},
   "source": [
    "### f) `f´(1)` utilizando a de três pontos central com `h = 0,25`"
   ]
  },
  {
   "cell_type": "code",
   "execution_count": 10,
   "metadata": {},
   "outputs": [
    {
     "name": "stdout",
     "output_type": "stream",
     "text": [
      "Derivada (3 pontos central) com h =  0.25 \n",
      " -0.8533015955844475\n",
      "Erro relativo =  0.037838809595652445\n"
     ]
    }
   ],
   "source": [
    "h :np.float64 = np.float64(0.25)\n",
    "derivative :np.float64 = central_derivative_1(func, deriv_point, h)\n",
    "error :np.float64 = abs(true_first_deriv - derivative)\n",
    "\n",
    "print(\"Derivada (3 pontos central) com h = \", h, \"\\n\", derivative)\n",
    "print(\"Erro relativo = \", error)\n",
    "\n",
    "df_derivative = add_new_derivative(\n",
    "    df_derivative,\n",
    "    [deriv_point,\n",
    "     true_first_deriv,\n",
    "     true_second_deriv,\n",
    "     h,\n",
    "     derivative,\n",
    "     np.nan,\n",
    "     error,\n",
    "     np.nan,\n",
    "     \"Três Pontos Central\"]\n",
    ")"
   ]
  },
  {
   "cell_type": "markdown",
   "metadata": {},
   "source": [
    "### g) `f´(1)` utilizando a de três pontos central com  `h = 0,125`"
   ]
  },
  {
   "cell_type": "code",
   "execution_count": 11,
   "metadata": {},
   "outputs": [
    {
     "name": "stdout",
     "output_type": "stream",
     "text": [
      "Derivada (3 pontos central) com h =  0.125 \n",
      " -0.8885505598975949\n",
      "Erro relativo =  0.0025898452825050544\n"
     ]
    }
   ],
   "source": [
    "h :np.float64 = np.float64(0.125)\n",
    "derivative :np.float64 = central_derivative_1(func, deriv_point, h)\n",
    "error :np.float64 = abs(true_first_deriv - derivative)\n",
    "\n",
    "print(\"Derivada (3 pontos central) com h = \", h, \"\\n\", derivative)\n",
    "print(\"Erro relativo = \", error)\n",
    "\n",
    "df_derivative = add_new_derivative(\n",
    "    df_derivative,\n",
    "    [deriv_point,\n",
    "     true_first_deriv,\n",
    "     true_second_deriv,\n",
    "     h,\n",
    "     derivative,\n",
    "     np.nan,\n",
    "     error,\n",
    "     np.nan,\n",
    "     \"Três Pontos Central\"]\n",
    ")"
   ]
  },
  {
   "cell_type": "markdown",
   "metadata": {},
   "source": [
    "### h) `f´(1)` utilizando a de três pontos lateral (direita) com `h = 0,25`"
   ]
  },
  {
   "cell_type": "code",
   "execution_count": 12,
   "metadata": {},
   "outputs": [
    {
     "name": "stdout",
     "output_type": "stream",
     "text": [
      "Derivada (3 pontos lateral direita) com h =  0.25 \n",
      " -0.8107504024087566\n",
      "Erro relativo =  0.08039000277134334\n"
     ]
    }
   ],
   "source": [
    "h :np.float64 = np.float64(0.25)\n",
    "derivative :np.float64 = progressive_derivative_1(func, deriv_point, h)\n",
    "error :np.float64 = abs(true_first_deriv - derivative)\n",
    "\n",
    "print(\"Derivada (3 pontos lateral direita) com h = \", h, \"\\n\", derivative)\n",
    "print(\"Erro relativo = \", error)\n",
    "\n",
    "df_derivative = add_new_derivative(\n",
    "    df_derivative,\n",
    "    [deriv_point,\n",
    "     true_first_deriv,\n",
    "     true_second_deriv,\n",
    "     h,\n",
    "     derivative,\n",
    "     np.nan,\n",
    "     error,\n",
    "     np.nan,\n",
    "     \"Três Pontos Direita\"]\n",
    ")"
   ]
  },
  {
   "cell_type": "markdown",
   "metadata": {},
   "source": [
    "### i) `f´(1)` utilizando a de três pontos lateral (esquerda) com `h = −0,25`"
   ]
  },
  {
   "cell_type": "code",
   "execution_count": 13,
   "metadata": {},
   "outputs": [
    {
     "name": "stdout",
     "output_type": "stream",
     "text": [
      "Derivada (3 pontos lateral direita) com h =  -0.25 \n",
      " -0.8107504024087567\n",
      "Erro relativo =  0.08039000277134323\n"
     ]
    }
   ],
   "source": [
    "h :np.float64 = np.float64(-0.25)\n",
    "derivative :np.float64 = regressive_derivative_1(func, deriv_point, h)\n",
    "error :np.float64 = abs(true_first_deriv - derivative)\n",
    "\n",
    "print(\"Derivada (3 pontos lateral direita) com h = \", h, \"\\n\", derivative)\n",
    "print(\"Erro relativo = \", error)\n",
    "\n",
    "df_derivative = add_new_derivative(\n",
    "    df_derivative,\n",
    "    [deriv_point,\n",
    "     true_first_deriv,\n",
    "     true_second_deriv,\n",
    "     h,\n",
    "     derivative,\n",
    "     np.nan,\n",
    "     error,\n",
    "     np.nan,\n",
    "     \"Três Pontos Esquerda\"]\n",
    ")"
   ]
  },
  {
   "cell_type": "markdown",
   "metadata": {},
   "source": [
    "### j) `f´´(1)` utilizando a de três pontos central com `h = −0,5`"
   ]
  },
  {
   "cell_type": "code",
   "execution_count": 14,
   "metadata": {},
   "outputs": [
    {
     "name": "stdout",
     "output_type": "stream",
     "text": [
      "Segunda derivada (3 pontos central) com h =  -0.5 \n",
      " 7.098915315703476\n",
      "Erro relativo =  0.7740995004113245\n"
     ]
    }
   ],
   "source": [
    "h :np.float64 = np.float64(-0.5)\n",
    "second_derivative :np.float64 = central_derivative_2(func, deriv_point, h)\n",
    "error :np.float64 = abs(true_second_deriv - second_derivative)\n",
    "\n",
    "print(\"Segunda derivada (3 pontos central) com h = \", h, \"\\n\", second_derivative)\n",
    "print(\"Erro relativo = \", error)\n",
    "\n",
    "df_derivative = add_new_derivative(\n",
    "    df_derivative,\n",
    "    [deriv_point,\n",
    "     true_first_deriv,\n",
    "     true_second_deriv,\n",
    "     h,\n",
    "     np.nan,\n",
    "     second_derivative,\n",
    "     np.nan,\n",
    "     error,\n",
    "     \"Três Pontos Central\"]\n",
    ")"
   ]
  },
  {
   "cell_type": "markdown",
   "metadata": {},
   "source": [
    "### k) `f′′(1)` utilizando a de três pontos central com `h = 0,25`"
   ]
  },
  {
   "cell_type": "code",
   "execution_count": 15,
   "metadata": {},
   "outputs": [
    {
     "name": "stdout",
     "output_type": "stream",
     "text": [
      "Segunda derivada (3 pontos central) com h =  0.25 \n",
      " 7.8102429141791925\n",
      "Erro relativo =  0.06277190193560767\n"
     ]
    }
   ],
   "source": [
    "h :np.float64 = np.float64(0.25)\n",
    "second_derivative :np.float64 = central_derivative_2(func, deriv_point, h)\n",
    "error :np.float64 = abs(true_second_deriv - second_derivative)\n",
    "\n",
    "print(\"Segunda derivada (3 pontos central) com h = \", h, \"\\n\", second_derivative)\n",
    "print(\"Erro relativo = \", error)\n",
    "\n",
    "df_derivative = add_new_derivative(\n",
    "    df_derivative,\n",
    "    [deriv_point,\n",
    "     true_first_deriv,\n",
    "     true_second_deriv,\n",
    "     h,\n",
    "     np.nan,\n",
    "     second_derivative,\n",
    "     np.nan,\n",
    "     error,\n",
    "     \"Três Pontos Central\"]\n",
    ")"
   ]
  },
  {
   "cell_type": "markdown",
   "metadata": {},
   "source": [
    "### l) Integral da função no intervalo `[0, 2]` usando a Fórmula dos Trapézios e `h = 0,5`"
   ]
  },
  {
   "cell_type": "code",
   "execution_count": 16,
   "metadata": {},
   "outputs": [
    {
     "name": "stdout",
     "output_type": "stream",
     "text": [
      "Integral (fórmula dos trapézios) com h =  0.5 \n",
      " 0.873080370965655\n",
      "Erro relativo =  1.143303770600355\n"
     ]
    }
   ],
   "source": [
    "h :np.float64 = np.float64(0.5)\n",
    "integral :np.float64 = trapezoid_integral(func, lower_bound, upper_bound)\n",
    "error :np.float64 = abs(true_integral_0_2 - integral)\n",
    "\n",
    "print(\"Integral (fórmula dos trapézios) com h = \", h, \"\\n\", integral)\n",
    "print(\"Erro relativo = \", error)\n",
    "\n",
    "df_integral = add_new_integral(df_integral,\n",
    "                               [lower_bound,\n",
    "                                upper_bound,\n",
    "                                true_integral_0_2,\n",
    "                                h,\n",
    "                                integral,\n",
    "                                error,\n",
    "                                \"Trapézios\"]\n",
    ")"
   ]
  },
  {
   "cell_type": "code",
   "execution_count": 17,
   "metadata": {},
   "outputs": [
    {
     "name": "stdout",
     "output_type": "stream",
     "text": [
      "Integral (fórmula dos trapézios multiplos) com h =  0.5 \n",
      " -0.2864321538522407\n",
      "Erro relativo =  0.0162087542175407\n"
     ]
    }
   ],
   "source": [
    "multiple_integral :np.float64 = multiple_trapezoid_integral(func,\n",
    "                                                            lower_bound,\n",
    "                                                            upper_bound,\n",
    "                                                            h)\n",
    "error :np.float64 = abs(true_integral_0_2 - multiple_integral)\n",
    "\n",
    "print(\"Integral (fórmula dos trapézios multiplos) com h = \", h, \"\\n\", multiple_integral)\n",
    "print(\"Erro relativo = \", error)\n",
    "\n",
    "df_integral = add_new_integral(df_integral,\n",
    "                               [lower_bound,\n",
    "                                upper_bound,\n",
    "                                true_integral_0_2,\n",
    "                                h,\n",
    "                                multiple_integral,\n",
    "                                error,\n",
    "                                \"Trapézios Multipla\"]\n",
    ")"
   ]
  },
  {
   "cell_type": "markdown",
   "metadata": {},
   "source": [
    "### m) Integral da função no intervalo `[0, 2]` usando a Fórmula dos Trapézios e `h = 0,25`"
   ]
  },
  {
   "cell_type": "code",
   "execution_count": 18,
   "metadata": {},
   "outputs": [
    {
     "name": "stdout",
     "output_type": "stream",
     "text": [
      "Integral (fórmula dos trapézios) com h =  0.25 \n",
      " 0.873080370965655\n",
      "Erro relativo =  1.143303770600355\n"
     ]
    }
   ],
   "source": [
    "h :np.float64 = np.float64(0.25)\n",
    "integral :np.float64 = trapezoid_integral(func, lower_bound, upper_bound)\n",
    "error :np.float64 = abs(true_integral_0_2 - integral)\n",
    "\n",
    "print(\"Integral (fórmula dos trapézios) com h = \", h, \"\\n\", integral)\n",
    "print(\"Erro relativo = \", error)\n",
    "\n",
    "df_integral = add_new_integral(df_integral,\n",
    "                               [lower_bound,\n",
    "                                upper_bound,\n",
    "                                true_integral_0_2,\n",
    "                                h,\n",
    "                                integral,\n",
    "                                error,\n",
    "                                \"Trapézios\"]\n",
    ")"
   ]
  },
  {
   "cell_type": "code",
   "execution_count": 19,
   "metadata": {},
   "outputs": [
    {
     "name": "stdout",
     "output_type": "stream",
     "text": [
      "Integral (fórmula dos trapézios multiplos) com h =  0.25 \n",
      " -0.2737105925135178\n",
      "Erro relativo =  0.003487192878817824\n"
     ]
    }
   ],
   "source": [
    "multiple_integral :np.float64 = multiple_trapezoid_integral(func,\n",
    "                                                            lower_bound,\n",
    "                                                            upper_bound,\n",
    "                                                            h)\n",
    "error :np.float64 = abs(true_integral_0_2 - multiple_integral)\n",
    "\n",
    "print(\"Integral (fórmula dos trapézios multiplos) com h = \", h, \"\\n\", multiple_integral)\n",
    "print(\"Erro relativo = \", error)\n",
    "\n",
    "df_integral = add_new_integral(df_integral,\n",
    "                               [lower_bound,\n",
    "                                upper_bound,\n",
    "                                true_integral_0_2,\n",
    "                                h,\n",
    "                                multiple_integral,\n",
    "                                error,\n",
    "                                \"Trapézios Multipla\"]\n",
    ")"
   ]
  },
  {
   "cell_type": "markdown",
   "metadata": {},
   "source": [
    "### n) Integral da função no intervalo `[0, 2]` usando a Fórmula de Simpson e `h = 0,25`"
   ]
  },
  {
   "cell_type": "code",
   "execution_count": 20,
   "metadata": {},
   "outputs": [
    {
     "name": "stdout",
     "output_type": "stream",
     "text": [
      "Integral (fórmula de Simpson) com h =  0.25 \n",
      " -0.2694700720672769\n",
      "Erro relativo =  0.0007533275674230788\n"
     ]
    }
   ],
   "source": [
    "h :np.float64 = np.float64(0.25)\n",
    "multiple_integral :np.float64 = simpson_integration(func,\n",
    "                                                    lower_bound,\n",
    "                                                    upper_bound,\n",
    "                                                    h)\n",
    "error :np.float64 = abs(true_integral_0_2 - multiple_integral)\n",
    "\n",
    "print(\"Integral (fórmula de Simpson) com h = \", h, \"\\n\", multiple_integral)\n",
    "print(\"Erro relativo = \", error)\n",
    "\n",
    "df_integral = add_new_integral(df_integral,\n",
    "                               [lower_bound,\n",
    "                                upper_bound,\n",
    "                                true_integral_0_2,\n",
    "                                h,\n",
    "                                multiple_integral,\n",
    "                                error,\n",
    "                                \"Simpson\"]\n",
    ")"
   ]
  },
  {
   "cell_type": "markdown",
   "metadata": {},
   "source": [
    "### o) Integral da função no intervalo `[0, 2]` usando a Fórmula de Simpson e `h = 0,5`"
   ]
  },
  {
   "cell_type": "code",
   "execution_count": 21,
   "metadata": {},
   "outputs": [
    {
     "name": "stdout",
     "output_type": "stream",
     "text": [
      "Integral (fórmula de Simpson) com h =  0.5 \n",
      " -0.2497396132749951\n",
      "Erro relativo =  0.02048378635970488\n"
     ]
    }
   ],
   "source": [
    "h :np.float64 = np.float64(0.5)\n",
    "multiple_integral :np.float64 = simpson_integration(func,\n",
    "                                                    lower_bound,\n",
    "                                                    upper_bound,\n",
    "                                                    h)\n",
    "\n",
    "error :np.float64 = abs(true_integral_0_2 - multiple_integral)\n",
    "\n",
    "print(\"Integral (fórmula de Simpson) com h = \", h, \"\\n\", multiple_integral)\n",
    "print(\"Erro relativo = \", error)\n",
    "\n",
    "df_integral = add_new_integral(df_integral,\n",
    "                               [lower_bound,\n",
    "                                upper_bound,\n",
    "                                true_integral_0_2,\n",
    "                                h,\n",
    "                                multiple_integral,\n",
    "                                error,\n",
    "                                \"Simpson\"]\n",
    ")"
   ]
  },
  {
   "cell_type": "markdown",
   "metadata": {},
   "source": [
    "### p) Integral da função no intervalo `[0, 2]` usando a Fórmula de Simpson e h = `0,125`"
   ]
  },
  {
   "cell_type": "code",
   "execution_count": 22,
   "metadata": {},
   "outputs": [
    {
     "name": "stdout",
     "output_type": "stream",
     "text": [
      "Integral (fórmula de Simpson) com h =  0.125 \n",
      " -0.2701812023316328\n",
      "Erro relativo =  4.219730306720404e-05\n"
     ]
    }
   ],
   "source": [
    "h :np.float64 = np.float64(0.125)\n",
    "multiple_integral :np.float64 = simpson_integration(func,\n",
    "                                                    lower_bound,\n",
    "                                                    upper_bound,\n",
    "                                                    h)\n",
    "\n",
    "error :np.float64 = abs(true_integral_0_2 - multiple_integral)\n",
    "\n",
    "print(\"Integral (fórmula de Simpson) com h = \", h, \"\\n\", multiple_integral)\n",
    "print(\"Erro relativo = \", error)\n",
    "\n",
    "df_integral = add_new_integral(df_integral,\n",
    "                               [lower_bound,\n",
    "                                upper_bound,\n",
    "                                true_integral_0_2,\n",
    "                                h,\n",
    "                                multiple_integral,\n",
    "                                error,\n",
    "                                \"Simpson\"]\n",
    ")"
   ]
  },
  {
   "cell_type": "markdown",
   "metadata": {},
   "source": [
    "### q) Integral da função no intervalo `[0, 2]` usando a Fórmula dos Trapézios e `h = 0,125`"
   ]
  },
  {
   "cell_type": "code",
   "execution_count": 23,
   "metadata": {},
   "outputs": [
    {
     "name": "stdout",
     "output_type": "stream",
     "text": [
      "Integral (fórmula dos trapézios) com h =  0.125 \n",
      " 0.873080370965655\n",
      "Erro relativo =  1.143303770600355\n"
     ]
    }
   ],
   "source": [
    "h :np.float64 = np.float64(0.125)\n",
    "integral :np.float64 = trapezoid_integral(func, lower_bound, upper_bound)\n",
    "error :np.float64 = abs(true_integral_0_2 - integral)\n",
    "\n",
    "print(\"Integral (fórmula dos trapézios) com h = \", h, \"\\n\", integral)\n",
    "print(\"Erro relativo = \", error)\n",
    "\n",
    "df_integral = add_new_integral(df_integral,\n",
    "                               [lower_bound,\n",
    "                                upper_bound,\n",
    "                                true_integral_0_2,\n",
    "                                h,\n",
    "                                integral,\n",
    "                                error,\n",
    "                                \"Trapézios\"]\n",
    ")"
   ]
  },
  {
   "cell_type": "code",
   "execution_count": 24,
   "metadata": {},
   "outputs": [
    {
     "name": "stdout",
     "output_type": "stream",
     "text": [
      "Integral (fórmula dos trapézios multiplos) com h =  0.125 \n",
      " -0.271063549877104\n",
      "Erro relativo =  0.0008401502424040252\n"
     ]
    }
   ],
   "source": [
    "multiple_integral :np.float64 = multiple_trapezoid_integral(func,\n",
    "                                                            lower_bound,\n",
    "                                                            upper_bound,\n",
    "                                                            h)\n",
    "error :np.float64 = abs(true_integral_0_2 - multiple_integral)\n",
    "\n",
    "print(\"Integral (fórmula dos trapézios multiplos) com h = \", h, \"\\n\", multiple_integral)\n",
    "print(\"Erro relativo = \", error)\n",
    "\n",
    "df_integral = add_new_integral(df_integral,\n",
    "                               [lower_bound,\n",
    "                                upper_bound,\n",
    "                                true_integral_0_2,\n",
    "                                h,\n",
    "                                multiple_integral,\n",
    "                                error,\n",
    "                                \"Trapézios Multipla\"]\n",
    ")"
   ]
  },
  {
   "cell_type": "markdown",
   "metadata": {},
   "source": [
    "## Como se saíram as derivadas"
   ]
  },
  {
   "cell_type": "code",
   "execution_count": 25,
   "metadata": {},
   "outputs": [
    {
     "data": {
      "text/html": [
       "<div>\n",
       "<style scoped>\n",
       "    .dataframe tbody tr th:only-of-type {\n",
       "        vertical-align: middle;\n",
       "    }\n",
       "\n",
       "    .dataframe tbody tr th {\n",
       "        vertical-align: top;\n",
       "    }\n",
       "\n",
       "    .dataframe thead th {\n",
       "        text-align: right;\n",
       "    }\n",
       "</style>\n",
       "<table border=\"1\" class=\"dataframe\">\n",
       "  <thead>\n",
       "    <tr style=\"text-align: right;\">\n",
       "      <th></th>\n",
       "      <th>point</th>\n",
       "      <th>true_first_derivative</th>\n",
       "      <th>true_second_derivative</th>\n",
       "      <th>h</th>\n",
       "      <th>first_derivative</th>\n",
       "      <th>second_derivative</th>\n",
       "      <th>error_first_deriv</th>\n",
       "      <th>error_second_deriv</th>\n",
       "      <th>method</th>\n",
       "    </tr>\n",
       "  </thead>\n",
       "  <tbody>\n",
       "    <tr>\n",
       "      <th>0</th>\n",
       "      <td>1.0</td>\n",
       "      <td>-0.89114</td>\n",
       "      <td>7.873015</td>\n",
       "      <td>0.250</td>\n",
       "      <td>0.217407</td>\n",
       "      <td>NaN</td>\n",
       "      <td>1.108547</td>\n",
       "      <td>NaN</td>\n",
       "      <td>Euler Avançada</td>\n",
       "    </tr>\n",
       "    <tr>\n",
       "      <th>1</th>\n",
       "      <td>1.0</td>\n",
       "      <td>-0.89114</td>\n",
       "      <td>7.873015</td>\n",
       "      <td>-0.250</td>\n",
       "      <td>0.217407</td>\n",
       "      <td>NaN</td>\n",
       "      <td>1.108547</td>\n",
       "      <td>NaN</td>\n",
       "      <td>Euler Recuada</td>\n",
       "    </tr>\n",
       "    <tr>\n",
       "      <th>2</th>\n",
       "      <td>1.0</td>\n",
       "      <td>-0.89114</td>\n",
       "      <td>7.873015</td>\n",
       "      <td>0.125</td>\n",
       "      <td>-0.358014</td>\n",
       "      <td>NaN</td>\n",
       "      <td>0.533127</td>\n",
       "      <td>NaN</td>\n",
       "      <td>Euler Avançada</td>\n",
       "    </tr>\n",
       "    <tr>\n",
       "      <th>3</th>\n",
       "      <td>1.0</td>\n",
       "      <td>-0.89114</td>\n",
       "      <td>7.873015</td>\n",
       "      <td>-0.125</td>\n",
       "      <td>-0.358014</td>\n",
       "      <td>NaN</td>\n",
       "      <td>0.533127</td>\n",
       "      <td>NaN</td>\n",
       "      <td>Euler Recuada</td>\n",
       "    </tr>\n",
       "    <tr>\n",
       "      <th>4</th>\n",
       "      <td>1.0</td>\n",
       "      <td>-0.89114</td>\n",
       "      <td>7.873015</td>\n",
       "      <td>0.500</td>\n",
       "      <td>-0.471088</td>\n",
       "      <td>NaN</td>\n",
       "      <td>0.420052</td>\n",
       "      <td>NaN</td>\n",
       "      <td>Três Pontos Central</td>\n",
       "    </tr>\n",
       "    <tr>\n",
       "      <th>5</th>\n",
       "      <td>1.0</td>\n",
       "      <td>-0.89114</td>\n",
       "      <td>7.873015</td>\n",
       "      <td>0.250</td>\n",
       "      <td>-0.853302</td>\n",
       "      <td>NaN</td>\n",
       "      <td>0.037839</td>\n",
       "      <td>NaN</td>\n",
       "      <td>Três Pontos Central</td>\n",
       "    </tr>\n",
       "    <tr>\n",
       "      <th>6</th>\n",
       "      <td>1.0</td>\n",
       "      <td>-0.89114</td>\n",
       "      <td>7.873015</td>\n",
       "      <td>0.125</td>\n",
       "      <td>-0.888551</td>\n",
       "      <td>NaN</td>\n",
       "      <td>0.002590</td>\n",
       "      <td>NaN</td>\n",
       "      <td>Três Pontos Central</td>\n",
       "    </tr>\n",
       "    <tr>\n",
       "      <th>7</th>\n",
       "      <td>1.0</td>\n",
       "      <td>-0.89114</td>\n",
       "      <td>7.873015</td>\n",
       "      <td>0.250</td>\n",
       "      <td>-0.810750</td>\n",
       "      <td>NaN</td>\n",
       "      <td>0.080390</td>\n",
       "      <td>NaN</td>\n",
       "      <td>Três Pontos Direita</td>\n",
       "    </tr>\n",
       "    <tr>\n",
       "      <th>8</th>\n",
       "      <td>1.0</td>\n",
       "      <td>-0.89114</td>\n",
       "      <td>7.873015</td>\n",
       "      <td>-0.250</td>\n",
       "      <td>-0.810750</td>\n",
       "      <td>NaN</td>\n",
       "      <td>0.080390</td>\n",
       "      <td>NaN</td>\n",
       "      <td>Três Pontos Esquerda</td>\n",
       "    </tr>\n",
       "    <tr>\n",
       "      <th>9</th>\n",
       "      <td>1.0</td>\n",
       "      <td>-0.89114</td>\n",
       "      <td>7.873015</td>\n",
       "      <td>-0.500</td>\n",
       "      <td>NaN</td>\n",
       "      <td>7.098915</td>\n",
       "      <td>NaN</td>\n",
       "      <td>0.774100</td>\n",
       "      <td>Três Pontos Central</td>\n",
       "    </tr>\n",
       "    <tr>\n",
       "      <th>10</th>\n",
       "      <td>1.0</td>\n",
       "      <td>-0.89114</td>\n",
       "      <td>7.873015</td>\n",
       "      <td>0.250</td>\n",
       "      <td>NaN</td>\n",
       "      <td>7.810243</td>\n",
       "      <td>NaN</td>\n",
       "      <td>0.062772</td>\n",
       "      <td>Três Pontos Central</td>\n",
       "    </tr>\n",
       "  </tbody>\n",
       "</table>\n",
       "</div>"
      ],
      "text/plain": [
       "    point  true_first_derivative  true_second_derivative      h  \\\n",
       "0     1.0               -0.89114                7.873015  0.250   \n",
       "1     1.0               -0.89114                7.873015 -0.250   \n",
       "2     1.0               -0.89114                7.873015  0.125   \n",
       "3     1.0               -0.89114                7.873015 -0.125   \n",
       "4     1.0               -0.89114                7.873015  0.500   \n",
       "5     1.0               -0.89114                7.873015  0.250   \n",
       "6     1.0               -0.89114                7.873015  0.125   \n",
       "7     1.0               -0.89114                7.873015  0.250   \n",
       "8     1.0               -0.89114                7.873015 -0.250   \n",
       "9     1.0               -0.89114                7.873015 -0.500   \n",
       "10    1.0               -0.89114                7.873015  0.250   \n",
       "\n",
       "    first_derivative  second_derivative  error_first_deriv  \\\n",
       "0           0.217407                NaN           1.108547   \n",
       "1           0.217407                NaN           1.108547   \n",
       "2          -0.358014                NaN           0.533127   \n",
       "3          -0.358014                NaN           0.533127   \n",
       "4          -0.471088                NaN           0.420052   \n",
       "5          -0.853302                NaN           0.037839   \n",
       "6          -0.888551                NaN           0.002590   \n",
       "7          -0.810750                NaN           0.080390   \n",
       "8          -0.810750                NaN           0.080390   \n",
       "9                NaN           7.098915                NaN   \n",
       "10               NaN           7.810243                NaN   \n",
       "\n",
       "    error_second_deriv                method  \n",
       "0                  NaN        Euler Avançada  \n",
       "1                  NaN         Euler Recuada  \n",
       "2                  NaN        Euler Avançada  \n",
       "3                  NaN         Euler Recuada  \n",
       "4                  NaN   Três Pontos Central  \n",
       "5                  NaN   Três Pontos Central  \n",
       "6                  NaN   Três Pontos Central  \n",
       "7                  NaN   Três Pontos Direita  \n",
       "8                  NaN  Três Pontos Esquerda  \n",
       "9             0.774100   Três Pontos Central  \n",
       "10            0.062772   Três Pontos Central  "
      ]
     },
     "execution_count": 25,
     "metadata": {},
     "output_type": "execute_result"
    }
   ],
   "source": [
    "df_derivative"
   ]
  },
  {
   "cell_type": "markdown",
   "metadata": {},
   "source": [
    "## Como se saíram as integrais"
   ]
  },
  {
   "cell_type": "code",
   "execution_count": 26,
   "metadata": {},
   "outputs": [
    {
     "data": {
      "text/html": [
       "<div>\n",
       "<style scoped>\n",
       "    .dataframe tbody tr th:only-of-type {\n",
       "        vertical-align: middle;\n",
       "    }\n",
       "\n",
       "    .dataframe tbody tr th {\n",
       "        vertical-align: top;\n",
       "    }\n",
       "\n",
       "    .dataframe thead th {\n",
       "        text-align: right;\n",
       "    }\n",
       "</style>\n",
       "<table border=\"1\" class=\"dataframe\">\n",
       "  <thead>\n",
       "    <tr style=\"text-align: right;\">\n",
       "      <th></th>\n",
       "      <th>lower_bound</th>\n",
       "      <th>upper_bound</th>\n",
       "      <th>true_integral</th>\n",
       "      <th>h</th>\n",
       "      <th>estimated_integral</th>\n",
       "      <th>error</th>\n",
       "      <th>method</th>\n",
       "    </tr>\n",
       "  </thead>\n",
       "  <tbody>\n",
       "    <tr>\n",
       "      <th>0</th>\n",
       "      <td>0.0</td>\n",
       "      <td>2.0</td>\n",
       "      <td>-0.270223</td>\n",
       "      <td>0.500</td>\n",
       "      <td>0.873080</td>\n",
       "      <td>1.143304</td>\n",
       "      <td>Trapézios</td>\n",
       "    </tr>\n",
       "    <tr>\n",
       "      <th>1</th>\n",
       "      <td>0.0</td>\n",
       "      <td>2.0</td>\n",
       "      <td>-0.270223</td>\n",
       "      <td>0.500</td>\n",
       "      <td>-0.286432</td>\n",
       "      <td>0.016209</td>\n",
       "      <td>Trapézios Multipla</td>\n",
       "    </tr>\n",
       "    <tr>\n",
       "      <th>2</th>\n",
       "      <td>0.0</td>\n",
       "      <td>2.0</td>\n",
       "      <td>-0.270223</td>\n",
       "      <td>0.250</td>\n",
       "      <td>0.873080</td>\n",
       "      <td>1.143304</td>\n",
       "      <td>Trapézios</td>\n",
       "    </tr>\n",
       "    <tr>\n",
       "      <th>3</th>\n",
       "      <td>0.0</td>\n",
       "      <td>2.0</td>\n",
       "      <td>-0.270223</td>\n",
       "      <td>0.250</td>\n",
       "      <td>-0.273711</td>\n",
       "      <td>0.003487</td>\n",
       "      <td>Trapézios Multipla</td>\n",
       "    </tr>\n",
       "    <tr>\n",
       "      <th>4</th>\n",
       "      <td>0.0</td>\n",
       "      <td>2.0</td>\n",
       "      <td>-0.270223</td>\n",
       "      <td>0.250</td>\n",
       "      <td>-0.269470</td>\n",
       "      <td>0.000753</td>\n",
       "      <td>Simpson</td>\n",
       "    </tr>\n",
       "    <tr>\n",
       "      <th>5</th>\n",
       "      <td>0.0</td>\n",
       "      <td>2.0</td>\n",
       "      <td>-0.270223</td>\n",
       "      <td>0.500</td>\n",
       "      <td>-0.249740</td>\n",
       "      <td>0.020484</td>\n",
       "      <td>Simpson</td>\n",
       "    </tr>\n",
       "    <tr>\n",
       "      <th>6</th>\n",
       "      <td>0.0</td>\n",
       "      <td>2.0</td>\n",
       "      <td>-0.270223</td>\n",
       "      <td>0.125</td>\n",
       "      <td>-0.270181</td>\n",
       "      <td>0.000042</td>\n",
       "      <td>Simpson</td>\n",
       "    </tr>\n",
       "    <tr>\n",
       "      <th>7</th>\n",
       "      <td>0.0</td>\n",
       "      <td>2.0</td>\n",
       "      <td>-0.270223</td>\n",
       "      <td>0.125</td>\n",
       "      <td>0.873080</td>\n",
       "      <td>1.143304</td>\n",
       "      <td>Trapézios</td>\n",
       "    </tr>\n",
       "    <tr>\n",
       "      <th>8</th>\n",
       "      <td>0.0</td>\n",
       "      <td>2.0</td>\n",
       "      <td>-0.270223</td>\n",
       "      <td>0.125</td>\n",
       "      <td>-0.271064</td>\n",
       "      <td>0.000840</td>\n",
       "      <td>Trapézios Multipla</td>\n",
       "    </tr>\n",
       "  </tbody>\n",
       "</table>\n",
       "</div>"
      ],
      "text/plain": [
       "   lower_bound  upper_bound  true_integral      h  estimated_integral  \\\n",
       "0          0.0          2.0      -0.270223  0.500            0.873080   \n",
       "1          0.0          2.0      -0.270223  0.500           -0.286432   \n",
       "2          0.0          2.0      -0.270223  0.250            0.873080   \n",
       "3          0.0          2.0      -0.270223  0.250           -0.273711   \n",
       "4          0.0          2.0      -0.270223  0.250           -0.269470   \n",
       "5          0.0          2.0      -0.270223  0.500           -0.249740   \n",
       "6          0.0          2.0      -0.270223  0.125           -0.270181   \n",
       "7          0.0          2.0      -0.270223  0.125            0.873080   \n",
       "8          0.0          2.0      -0.270223  0.125           -0.271064   \n",
       "\n",
       "      error              method  \n",
       "0  1.143304           Trapézios  \n",
       "1  0.016209  Trapézios Multipla  \n",
       "2  1.143304           Trapézios  \n",
       "3  0.003487  Trapézios Multipla  \n",
       "4  0.000753             Simpson  \n",
       "5  0.020484             Simpson  \n",
       "6  0.000042             Simpson  \n",
       "7  1.143304           Trapézios  \n",
       "8  0.000840  Trapézios Multipla  "
      ]
     },
     "execution_count": 26,
     "metadata": {},
     "output_type": "execute_result"
    }
   ],
   "source": [
    "df_integral"
   ]
  }
 ],
 "metadata": {
  "kernelspec": {
   "display_name": ".mn-venv",
   "language": "python",
   "name": "python3"
  },
  "language_info": {
   "codemirror_mode": {
    "name": "ipython",
    "version": 3
   },
   "file_extension": ".py",
   "mimetype": "text/x-python",
   "name": "python",
   "nbconvert_exporter": "python",
   "pygments_lexer": "ipython3",
   "version": "3.13.0"
  }
 },
 "nbformat": 4,
 "nbformat_minor": 2
}
