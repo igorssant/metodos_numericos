{
 "cells": [
  {
   "cell_type": "markdown",
   "id": "baf5109c",
   "metadata": {},
   "source": [
    "# Testes dos algoritmos\n"
   ]
  },
  {
   "cell_type": "markdown",
   "id": "5590aeaa",
   "metadata": {},
   "source": [
    "## Importando os pacotes\n"
   ]
  },
  {
   "cell_type": "code",
   "execution_count": 1,
   "id": "8bc60931",
   "metadata": {},
   "outputs": [],
   "source": [
    "from straightforward_methods import (\n",
    "    naive_gauss,\n",
    "    gauss_partial_pivoting,\n",
    "    gauss_scaled_pivoting,\n",
    "    gauss_complete_pivoting,\n",
    "    LU_factoring\n",
    ")\n",
    "\n",
    "from straightforward_methods_2 import (\n",
    "    naive_gauss as naive_gauss_2,\n",
    "    gauss_partial_pivoting as gauss_partial_pivoting_2,\n",
    "    partial_pivoting_decorator\n",
    ")\n",
    "\n",
    "from numpy.typing import NDArray\n",
    "import pandas as pd\n",
    "import numpy as np"
   ]
  },
  {
   "cell_type": "markdown",
   "id": "b7177f52",
   "metadata": {},
   "source": [
    "## Métodos Diretos"
   ]
  },
  {
   "cell_type": "code",
   "execution_count": 2,
   "id": "4be4fa18",
   "metadata": {},
   "outputs": [
    {
     "data": {
      "text/plain": [
       "matrix([[ 5.291, -6.13 , 46.78 ],\n",
       "        [ 0.   , 59.14 , 59.14 ]])"
      ]
     },
     "execution_count": 2,
     "metadata": {},
     "output_type": "execute_result"
    }
   ],
   "source": [
    "example_matrix: NDArray = np.matrix([[5.291, -6.13], [0.0, 59.14]], dtype=np.float64)\n",
    "target_values: NDArray = np.array([46.78, 59.14], dtype=np.float64)\n",
    "augmented_matrix: NDArray = np.concatenate(\n",
    "    (example_matrix, target_values.reshape(-1, 1)), axis=1\n",
    ")\n",
    "augmented_matrix"
   ]
  },
  {
   "cell_type": "markdown",
   "id": "fec2b067",
   "metadata": {},
   "source": [
    "### Igor Métodos"
   ]
  },
  {
   "cell_type": "code",
   "execution_count": 3,
   "id": "848d15cc",
   "metadata": {},
   "outputs": [
    {
     "data": {
      "text/html": [
       "<div>\n",
       "<style scoped>\n",
       "    .dataframe tbody tr th:only-of-type {\n",
       "        vertical-align: middle;\n",
       "    }\n",
       "\n",
       "    .dataframe tbody tr th {\n",
       "        vertical-align: top;\n",
       "    }\n",
       "\n",
       "    .dataframe thead th {\n",
       "        text-align: right;\n",
       "    }\n",
       "</style>\n",
       "<table border=\"1\" class=\"dataframe\">\n",
       "  <thead>\n",
       "    <tr style=\"text-align: right;\">\n",
       "      <th></th>\n",
       "      <th>Method</th>\n",
       "      <th>x_0</th>\n",
       "      <th>x_1</th>\n",
       "    </tr>\n",
       "  </thead>\n",
       "  <tbody>\n",
       "    <tr>\n",
       "      <th>0</th>\n",
       "      <td>Naive Gauss</td>\n",
       "      <td>10.0</td>\n",
       "      <td>1.0</td>\n",
       "    </tr>\n",
       "    <tr>\n",
       "      <th>1</th>\n",
       "      <td>Gauss Partial Pivoting</td>\n",
       "      <td>10.0</td>\n",
       "      <td>1.0</td>\n",
       "    </tr>\n",
       "    <tr>\n",
       "      <th>2</th>\n",
       "      <td>Gauss Scaled Pivoting</td>\n",
       "      <td>10.0</td>\n",
       "      <td>1.0</td>\n",
       "    </tr>\n",
       "    <tr>\n",
       "      <th>3</th>\n",
       "      <td>Gauss Complete Pivoting</td>\n",
       "      <td>1.0</td>\n",
       "      <td>10.0</td>\n",
       "    </tr>\n",
       "  </tbody>\n",
       "</table>\n",
       "</div>"
      ],
      "text/plain": [
       "                    Method   x_0   x_1\n",
       "0              Naive Gauss  10.0   1.0\n",
       "1   Gauss Partial Pivoting  10.0   1.0\n",
       "2    Gauss Scaled Pivoting  10.0   1.0\n",
       "3  Gauss Complete Pivoting   1.0  10.0"
      ]
     },
     "execution_count": 3,
     "metadata": {},
     "output_type": "execute_result"
    }
   ],
   "source": [
    "methods = {\n",
    "    \"Naive Gauss\": naive_gauss,\n",
    "    \"Gauss Partial Pivoting\": gauss_partial_pivoting,\n",
    "    \"Gauss Scaled Pivoting\": gauss_scaled_pivoting,\n",
    "    \"Gauss Complete Pivoting\": gauss_complete_pivoting,\n",
    "}\n",
    "\n",
    "results_columns = [f\"x_{i}\" for i in range(augmented_matrix.shape[1] - 1)]\n",
    "df_result = pd.DataFrame(\n",
    "    data={\n",
    "        \"Method\": [],\n",
    "        **{\n",
    "            f\"x_{i}\": []\n",
    "            for i in range(augmented_matrix.shape[1] - 1)\n",
    "        },\n",
    "    }\n",
    ")\n",
    "\n",
    "for method_name, method in methods.items():\n",
    "    # Measure the time taken by each method\n",
    "    result = method(augmented_matrix.copy())\n",
    "\n",
    "    # Append the results to the DataFrame\n",
    "    tmp_df = pd.DataFrame(\n",
    "        data={\n",
    "            \"Method\": [method_name],\n",
    "            **{\n",
    "                f\"x_{i}\": result[i]\n",
    "                for i in range(result.shape[0])\n",
    "            },\n",
    "        }\n",
    "    )\n",
    "\n",
    "    df_result = pd.concat([df_result, tmp_df], ignore_index=True)\n",
    "\n",
    "df_result"
   ]
  },
  {
   "cell_type": "markdown",
   "id": "f0f4ebb7",
   "metadata": {},
   "source": [
    "### Matheus Métodos"
   ]
  },
  {
   "cell_type": "code",
   "execution_count": 4,
   "id": "187e05a3",
   "metadata": {},
   "outputs": [
    {
     "name": "stdout",
     "output_type": "stream",
     "text": [
      "Antes da função\n",
      "Depois da função\n"
     ]
    },
    {
     "data": {
      "text/html": [
       "<div>\n",
       "<style scoped>\n",
       "    .dataframe tbody tr th:only-of-type {\n",
       "        vertical-align: middle;\n",
       "    }\n",
       "\n",
       "    .dataframe tbody tr th {\n",
       "        vertical-align: top;\n",
       "    }\n",
       "\n",
       "    .dataframe thead th {\n",
       "        text-align: right;\n",
       "    }\n",
       "</style>\n",
       "<table border=\"1\" class=\"dataframe\">\n",
       "  <thead>\n",
       "    <tr style=\"text-align: right;\">\n",
       "      <th></th>\n",
       "      <th>Method</th>\n",
       "      <th>x_0</th>\n",
       "      <th>x_1</th>\n",
       "    </tr>\n",
       "  </thead>\n",
       "  <tbody>\n",
       "    <tr>\n",
       "      <th>0</th>\n",
       "      <td>Naive Gauss</td>\n",
       "      <td>10.0</td>\n",
       "      <td>1.0</td>\n",
       "    </tr>\n",
       "    <tr>\n",
       "      <th>1</th>\n",
       "      <td>Gauss Partial Pivoting</td>\n",
       "      <td>10.0</td>\n",
       "      <td>1.0</td>\n",
       "    </tr>\n",
       "  </tbody>\n",
       "</table>\n",
       "</div>"
      ],
      "text/plain": [
       "                   Method   x_0  x_1\n",
       "0             Naive Gauss  10.0  1.0\n",
       "1  Gauss Partial Pivoting  10.0  1.0"
      ]
     },
     "execution_count": 4,
     "metadata": {},
     "output_type": "execute_result"
    }
   ],
   "source": [
    "methods = {\n",
    "    \"Naive Gauss\": naive_gauss_2,\n",
    "    \"Gauss Partial Pivoting\": gauss_partial_pivoting_2,\n",
    "    #\"Gauss Scaled Pivoting\": gauss_scaled_pivoting,\n",
    "    #\"Gauss Complete Pivoting\": gauss_complete_pivoting,\n",
    "}\n",
    "\n",
    "results_columns = [f\"x_{i}\" for i in range(augmented_matrix.shape[1] - 1)]\n",
    "df_result = pd.DataFrame(\n",
    "    data={\n",
    "        \"Method\": [],\n",
    "        **{\n",
    "            f\"x_{i}\": []\n",
    "            for i in range(augmented_matrix.shape[1] - 1)\n",
    "        },\n",
    "    }\n",
    ")\n",
    "\n",
    "for method_name, method in methods.items():\n",
    "    # Measure the time taken by each method\n",
    "    n: int = augmented_matrix.shape[0]\n",
    "    a: NDArray = augmented_matrix[::, :-1].copy()\n",
    "    b: NDArray = augmented_matrix[::, -1].copy()\n",
    "\n",
    "    result = method(a, b)\n",
    "\n",
    "    # Append the results to the DataFrame\n",
    "    tmp_df = pd.DataFrame(\n",
    "        data={\n",
    "            \"Method\": [method_name],\n",
    "            **{\n",
    "                f\"x_{i}\": result[i]\n",
    "                for i in range(result.shape[0])\n",
    "            },\n",
    "        }\n",
    "    )\n",
    "\n",
    "    df_result = pd.concat([df_result, tmp_df], ignore_index=True)\n",
    "\n",
    "df_result"
   ]
  },
  {
   "cell_type": "code",
   "execution_count": 5,
   "id": "15027e79",
   "metadata": {},
   "outputs": [
    {
     "data": {
      "text/plain": [
       "matrix([[ 1.,  1.,  0.,  3.],\n",
       "        [ 2.,  1., -1.,  1.],\n",
       "        [ 3., -1., -1.,  2.],\n",
       "        [-1.,  2.,  3., -1.]])"
      ]
     },
     "execution_count": 5,
     "metadata": {},
     "output_type": "execute_result"
    }
   ],
   "source": [
    "example_matrix: NDArray = np.matrix(\n",
    "    [\n",
    "        [1.0, 1.0, 0.0, 3.0],\n",
    "        [2.0, 1.0, -1.0, 1.0],\n",
    "        [3.0, -1.0, -1.0, 2.0],\n",
    "        [-1.0, 2.0, 3.0, -1.0],\n",
    "    ],\n",
    "    dtype=np.float64,\n",
    ")\n",
    "example_matrix"
   ]
  },
  {
   "cell_type": "code",
   "execution_count": 6,
   "id": "f8b5ee6e",
   "metadata": {},
   "outputs": [
    {
     "data": {
      "text/plain": [
       "(array([[ 1.,  0.,  0.,  0.],\n",
       "        [ 2.,  1.,  0.,  0.],\n",
       "        [ 3.,  4.,  1.,  0.],\n",
       "        [-1., -3.,  0.,  1.]]),\n",
       " array([[  1.,   1.,   0.,   3.],\n",
       "        [  0.,  -1.,  -1.,  -5.],\n",
       "        [  0.,   0.,   3.,  13.],\n",
       "        [  0.,   0.,   0., -13.]]))"
      ]
     },
     "execution_count": 6,
     "metadata": {},
     "output_type": "execute_result"
    }
   ],
   "source": [
    "LU_factoring(example_matrix.copy())"
   ]
  },
  {
   "cell_type": "markdown",
   "id": "2aa498fa",
   "metadata": {},
   "source": [
    "## Métodos iterativos\n"
   ]
  },
  {
   "cell_type": "code",
   "execution_count": 7,
   "id": "1a34c93e",
   "metadata": {},
   "outputs": [
    {
     "data": {
      "text/plain": [
       "' example_matrix: NDArray = np.matrix(\\n    [[6.0, -1.0, 3.0], [1.0, 3.0, 1.0], [3.0, -1.0, 5.0]], dtype=np.float64\\n)\\ntarget_values: NDArray = np.array([13.0, 10.0, 16.0], dtype=np.float64)\\naugmented_matrix: NDArray = np.concatenate(\\n    (example_matrix, target_values.reshape(-1, 1)), axis=1\\n)\\nmax_iter: int = 20\\ntol: np.float64 = np.float64(0.001)  # <-- 0,1 % de tolerancia\\n\\naugmented_matrix\\n\\njacobi(augmented_matrix.copy(), tol, max_iter)\\ngauss_seidel(augmented_matrix.copy(), tol, max_iter)\\nrelaxing(augmented_matrix.copy(), tol, max_iter, np.float64(1.12)) '"
      ]
     },
     "execution_count": 7,
     "metadata": {},
     "output_type": "execute_result"
    }
   ],
   "source": [
    "\"\"\" example_matrix: NDArray = np.matrix(\n",
    "    [[6.0, -1.0, 3.0], [1.0, 3.0, 1.0], [3.0, -1.0, 5.0]], dtype=np.float64\n",
    ")\n",
    "target_values: NDArray = np.array([13.0, 10.0, 16.0], dtype=np.float64)\n",
    "augmented_matrix: NDArray = np.concatenate(\n",
    "    (example_matrix, target_values.reshape(-1, 1)), axis=1\n",
    ")\n",
    "max_iter: int = 20\n",
    "tol: np.float64 = np.float64(0.001)  # <-- 0,1 % de tolerancia\n",
    "\n",
    "augmented_matrix\n",
    "\n",
    "jacobi(augmented_matrix.copy(), tol, max_iter)\n",
    "gauss_seidel(augmented_matrix.copy(), tol, max_iter)\n",
    "relaxing(augmented_matrix.copy(), tol, max_iter, np.float64(1.12)) \"\"\""
   ]
  }
 ],
 "metadata": {
  "kernelspec": {
   "display_name": "ml",
   "language": "python",
   "name": "python3"
  },
  "language_info": {
   "codemirror_mode": {
    "name": "ipython",
    "version": 3
   },
   "file_extension": ".py",
   "mimetype": "text/x-python",
   "name": "python",
   "nbconvert_exporter": "python",
   "pygments_lexer": "ipython3",
   "version": "3.13.2"
  }
 },
 "nbformat": 4,
 "nbformat_minor": 5
}
