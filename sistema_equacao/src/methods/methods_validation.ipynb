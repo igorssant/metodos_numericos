{
 "cells": [
  {
   "cell_type": "markdown",
   "id": "baf5109c",
   "metadata": {},
   "source": [
    "# Testes dos algoritmos\n"
   ]
  },
  {
   "cell_type": "markdown",
   "id": "5590aeaa",
   "metadata": {},
   "source": [
    "## Importando os pacotes\n"
   ]
  },
  {
   "cell_type": "code",
   "execution_count": 1,
   "id": "8bc60931",
   "metadata": {},
   "outputs": [],
   "source": [
    "from straightforward_methods import (\n",
    "    naive_gauss,\n",
    "    gauss_partial_pivoting,\n",
    "    gauss_scaled_pivoting,\n",
    "    gauss_complete_pivoting,\n",
    "    LU_solve,\n",
    ")\n",
    "\n",
    "from numpy.typing import NDArray\n",
    "import pandas as pd\n",
    "import numpy as np"
   ]
  },
  {
   "cell_type": "markdown",
   "id": "b7177f52",
   "metadata": {},
   "source": [
    "## Métodos Diretos"
   ]
  },
  {
   "cell_type": "markdown",
   "id": "c8fa0eca",
   "metadata": {},
   "source": [
    "### Gauss métodos"
   ]
  },
  {
   "cell_type": "code",
   "execution_count": 2,
   "id": "4be4fa18",
   "metadata": {},
   "outputs": [
    {
     "data": {
      "text/plain": [
       "matrix([[ 3.000e-03,  5.914e+01,  5.917e+01],\n",
       "        [ 5.291e+00, -6.130e+00,  4.678e+01]])"
      ]
     },
     "execution_count": 2,
     "metadata": {},
     "output_type": "execute_result"
    }
   ],
   "source": [
    "A: NDArray = np.matrix([[0.003, 59.14],\n",
    "                                     [5.291, -6.130]], dtype=np.float64)\n",
    "\"\"\" A: NDArray = np.matrix([[3, -0.1, -0.2],\n",
    "                                     [0.1, 7, -0.3],\n",
    "                                     [0.3, -0.2, 10]], dtype=np.float64)\n",
    "B: NDArray = np.array([7.85, -19.3, 71.4], dtype=np.float64) \"\"\"\n",
    "B: NDArray = np.array([59.17, 46.78], dtype=np.float64)\n",
    "\n",
    "A_augmented: NDArray = np.concatenate(\n",
    "    (A, B.reshape(-1, 1)), axis=1\n",
    ")\n",
    "A_augmented"
   ]
  },
  {
   "cell_type": "code",
   "execution_count": 3,
   "id": "187e05a3",
   "metadata": {},
   "outputs": [
    {
     "data": {
      "text/html": [
       "<div>\n",
       "<style scoped>\n",
       "    .dataframe tbody tr th:only-of-type {\n",
       "        vertical-align: middle;\n",
       "    }\n",
       "\n",
       "    .dataframe tbody tr th {\n",
       "        vertical-align: top;\n",
       "    }\n",
       "\n",
       "    .dataframe thead th {\n",
       "        text-align: right;\n",
       "    }\n",
       "</style>\n",
       "<table border=\"1\" class=\"dataframe\">\n",
       "  <thead>\n",
       "    <tr style=\"text-align: right;\">\n",
       "      <th></th>\n",
       "      <th>Method</th>\n",
       "      <th>x_0</th>\n",
       "      <th>x_1</th>\n",
       "    </tr>\n",
       "  </thead>\n",
       "  <tbody>\n",
       "    <tr>\n",
       "      <th>0</th>\n",
       "      <td>Naive Gauss</td>\n",
       "      <td>10.0</td>\n",
       "      <td>1.0</td>\n",
       "    </tr>\n",
       "    <tr>\n",
       "      <th>1</th>\n",
       "      <td>Gauss Partial Pivoting</td>\n",
       "      <td>10.0</td>\n",
       "      <td>1.0</td>\n",
       "    </tr>\n",
       "    <tr>\n",
       "      <th>2</th>\n",
       "      <td>Gauss Scaled Pivoting</td>\n",
       "      <td>10.0</td>\n",
       "      <td>1.0</td>\n",
       "    </tr>\n",
       "    <tr>\n",
       "      <th>3</th>\n",
       "      <td>Gauss Complete Pivoting</td>\n",
       "      <td>10.0</td>\n",
       "      <td>1.0</td>\n",
       "    </tr>\n",
       "  </tbody>\n",
       "</table>\n",
       "</div>"
      ],
      "text/plain": [
       "                    Method   x_0  x_1\n",
       "0              Naive Gauss  10.0  1.0\n",
       "1   Gauss Partial Pivoting  10.0  1.0\n",
       "2    Gauss Scaled Pivoting  10.0  1.0\n",
       "3  Gauss Complete Pivoting  10.0  1.0"
      ]
     },
     "execution_count": 3,
     "metadata": {},
     "output_type": "execute_result"
    }
   ],
   "source": [
    "methods = {\n",
    "    \"Naive Gauss\": naive_gauss,\n",
    "    \"Gauss Partial Pivoting\": gauss_partial_pivoting,\n",
    "    \"Gauss Scaled Pivoting\": gauss_scaled_pivoting,\n",
    "    \"Gauss Complete Pivoting\": gauss_complete_pivoting,\n",
    "}\n",
    "\n",
    "results_columns = [f\"x_{i}\" for i in range(A_augmented.shape[1] - 1)]\n",
    "df_result = pd.DataFrame(\n",
    "    data={\n",
    "        \"Method\": [],\n",
    "        **{\n",
    "            f\"x_{i}\": []\n",
    "            for i in range(A_augmented.shape[1] - 1)\n",
    "        },\n",
    "    }\n",
    ")\n",
    "\n",
    "for method_name, method in methods.items():\n",
    "\n",
    "    result = method(A_augmented.copy())\n",
    "\n",
    "    # Append the results to the DataFrame\n",
    "    tmp_df = pd.DataFrame(\n",
    "        data={\n",
    "            \"Method\": [method_name],\n",
    "            **{\n",
    "                f\"x_{i}\": result[i]\n",
    "                for i in range(result.shape[0])\n",
    "            },\n",
    "        }\n",
    "    )\n",
    "\n",
    "    df_result = pd.concat([df_result, tmp_df], ignore_index=True)\n",
    "\n",
    "df_result"
   ]
  },
  {
   "cell_type": "markdown",
   "id": "ba2ee328",
   "metadata": {},
   "source": [
    "### Fatoração LU"
   ]
  },
  {
   "cell_type": "code",
   "execution_count": 4,
   "id": "15027e79",
   "metadata": {},
   "outputs": [
    {
     "data": {
      "text/plain": [
       "matrix([[ 1.,  1.,  0.,  3.,  4.],\n",
       "        [ 2.,  1., -1.,  1.,  1.],\n",
       "        [ 3., -1., -1.,  2., -3.],\n",
       "        [-1.,  2.,  3., -1.,  4.]])"
      ]
     },
     "execution_count": 4,
     "metadata": {},
     "output_type": "execute_result"
    }
   ],
   "source": [
    "A: NDArray = np.matrix(\n",
    "    [\n",
    "        [1.0, 1.0, 0.0, 3.0],\n",
    "        [2.0, 1.0, -1.0, 1.0],\n",
    "        [3.0, -1.0, -1.0, 2.0],\n",
    "        [-1.0, 2.0, 3.0, -1.0],\n",
    "    ],\n",
    "    dtype=np.float64,\n",
    ")\n",
    "\n",
    "B: NDArray = np.array([4.0, 1.0, -3.0, 4.0], dtype=np.float64)\n",
    "\n",
    "A_augmented: NDArray = np.concatenate(\n",
    "    (A, B.reshape(-1, 1)), axis=1\n",
    ")\n",
    "\n",
    "A_augmented"
   ]
  },
  {
   "cell_type": "code",
   "execution_count": 5,
   "id": "8acbece7",
   "metadata": {},
   "outputs": [
    {
     "data": {
      "text/plain": [
       "array([-1.,  2.,  0.,  1.])"
      ]
     },
     "execution_count": 5,
     "metadata": {},
     "output_type": "execute_result"
    }
   ],
   "source": [
    "x = LU_solve(A_augmented.copy())\n",
    "\n",
    "x"
   ]
  },
  {
   "cell_type": "markdown",
   "id": "2aa498fa",
   "metadata": {},
   "source": [
    "## Métodos iterativos\n"
   ]
  },
  {
   "cell_type": "code",
   "execution_count": 6,
   "id": "1a34c93e",
   "metadata": {},
   "outputs": [
    {
     "data": {
      "text/plain": [
       "' example_matrix: NDArray = np.matrix(\\n    [[6.0, -1.0, 3.0], [1.0, 3.0, 1.0], [3.0, -1.0, 5.0]], dtype=np.float64\\n)\\ntarget_values: NDArray = np.array([13.0, 10.0, 16.0], dtype=np.float64)\\naugmented_matrix: NDArray = np.concatenate(\\n    (example_matrix, target_values.reshape(-1, 1)), axis=1\\n)\\nmax_iter: int = 20\\ntol: np.float64 = np.float64(0.001)  # <-- 0,1 % de tolerancia\\n\\naugmented_matrix\\n\\njacobi(augmented_matrix.copy(), tol, max_iter)\\ngauss_seidel(augmented_matrix.copy(), tol, max_iter)\\nrelaxing(augmented_matrix.copy(), tol, max_iter, np.float64(1.12)) '"
      ]
     },
     "execution_count": 6,
     "metadata": {},
     "output_type": "execute_result"
    }
   ],
   "source": [
    "\"\"\" example_matrix: NDArray = np.matrix(\n",
    "    [[6.0, -1.0, 3.0], [1.0, 3.0, 1.0], [3.0, -1.0, 5.0]], dtype=np.float64\n",
    ")\n",
    "target_values: NDArray = np.array([13.0, 10.0, 16.0], dtype=np.float64)\n",
    "augmented_matrix: NDArray = np.concatenate(\n",
    "    (example_matrix, target_values.reshape(-1, 1)), axis=1\n",
    ")\n",
    "max_iter: int = 20\n",
    "tol: np.float64 = np.float64(0.001)  # <-- 0,1 % de tolerancia\n",
    "\n",
    "augmented_matrix\n",
    "\n",
    "jacobi(augmented_matrix.copy(), tol, max_iter)\n",
    "gauss_seidel(augmented_matrix.copy(), tol, max_iter)\n",
    "relaxing(augmented_matrix.copy(), tol, max_iter, np.float64(1.12)) \"\"\""
   ]
  }
 ],
 "metadata": {
  "kernelspec": {
   "display_name": "ml",
   "language": "python",
   "name": "python3"
  },
  "language_info": {
   "codemirror_mode": {
    "name": "ipython",
    "version": 3
   },
   "file_extension": ".py",
   "mimetype": "text/x-python",
   "name": "python",
   "nbconvert_exporter": "python",
   "pygments_lexer": "ipython3",
   "version": "3.13.2"
  }
 },
 "nbformat": 4,
 "nbformat_minor": 5
}
