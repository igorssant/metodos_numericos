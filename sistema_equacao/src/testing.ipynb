{
 "cells": [
  {
   "cell_type": "markdown",
   "id": "baf5109c",
   "metadata": {},
   "source": [
    "# Testes dos algoritmos"
   ]
  },
  {
   "cell_type": "markdown",
   "id": "5590aeaa",
   "metadata": {},
   "source": [
    "## Importando os pacotes"
   ]
  },
  {
   "cell_type": "code",
   "execution_count": 1,
   "id": "8bc60931",
   "metadata": {},
   "outputs": [],
   "source": [
    "from methods.straightforward_methods import *\n",
    "from methods.iterative_methods import *\n",
    "from numpy.typing import NDArray\n",
    "import pandas as pd\n",
    "import numpy as np"
   ]
  },
  {
   "cell_type": "markdown",
   "id": "b7177f52",
   "metadata": {},
   "source": [
    "## Métodos Diretos"
   ]
  },
  {
   "cell_type": "code",
   "execution_count": 2,
   "id": "4be4fa18",
   "metadata": {},
   "outputs": [
    {
     "data": {
      "text/plain": [
       "matrix([[ 5.291, -6.13 , 46.78 ],\n",
       "        [ 0.   , 59.14 , 59.14 ]])"
      ]
     },
     "execution_count": 2,
     "metadata": {},
     "output_type": "execute_result"
    }
   ],
   "source": [
    "matriz_exemplo:NDArray = np.matrix([[5.291, -6.13],\n",
    "                                    [0.0, 59.14]], dtype=np.float64)\n",
    "vetor_solucao:NDArray = np.array([46.78, 59.14], dtype=np.float64)\n",
    "matriz_aumentada:NDArray = np.concatenate((matriz_exemplo, vetor_solucao.reshape(-1, 1)), axis=1)\n",
    "matriz_aumentada"
   ]
  },
  {
   "cell_type": "code",
   "execution_count": 3,
   "id": "848d15cc",
   "metadata": {},
   "outputs": [
    {
     "data": {
      "text/plain": [
       "array([10.,  1.])"
      ]
     },
     "execution_count": 3,
     "metadata": {},
     "output_type": "execute_result"
    }
   ],
   "source": [
    "gaussian_elimination(matriz_aumentada.copy())"
   ]
  },
  {
   "cell_type": "code",
   "execution_count": 4,
   "id": "bb8f3917",
   "metadata": {},
   "outputs": [
    {
     "data": {
      "text/plain": [
       "array([10.,  1.])"
      ]
     },
     "execution_count": 4,
     "metadata": {},
     "output_type": "execute_result"
    }
   ],
   "source": [
    "gaussian_elimination_partial_pivoting(matriz_aumentada.copy())"
   ]
  },
  {
   "cell_type": "code",
   "execution_count": 5,
   "id": "70e44312",
   "metadata": {},
   "outputs": [
    {
     "data": {
      "text/plain": [
       "array([10.,  1.])"
      ]
     },
     "execution_count": 5,
     "metadata": {},
     "output_type": "execute_result"
    }
   ],
   "source": [
    "gaussian_elimination_partial_pivoting_scaled(matriz_aumentada.copy())"
   ]
  },
  {
   "cell_type": "code",
   "execution_count": 6,
   "id": "3990a5d3",
   "metadata": {},
   "outputs": [
    {
     "data": {
      "text/plain": [
       "array([ 1., 10.])"
      ]
     },
     "execution_count": 6,
     "metadata": {},
     "output_type": "execute_result"
    }
   ],
   "source": [
    "gaussian_elimination_full_pivoting(matriz_aumentada.copy())"
   ]
  },
  {
   "cell_type": "code",
   "execution_count": 7,
   "id": "15027e79",
   "metadata": {},
   "outputs": [
    {
     "data": {
      "text/plain": [
       "matrix([[ 1.,  1.,  0.,  3.],\n",
       "        [ 2.,  1., -1.,  1.],\n",
       "        [ 3., -1., -1.,  2.],\n",
       "        [-1.,  2.,  3., -1.]])"
      ]
     },
     "execution_count": 7,
     "metadata": {},
     "output_type": "execute_result"
    }
   ],
   "source": [
    "matriz_exemplo:NDArray = np.matrix([[1.0, 1.0, 0.0, 3.0],\n",
    "                                    [2.0, 1.0, -1.0, 1.0],\n",
    "                                    [3.0, -1.0, -1.0, 2.0],\n",
    "                                    [-1.0, 2.0, 3.0, -1.0]], dtype=np.float64)\n",
    "matriz_exemplo"
   ]
  },
  {
   "cell_type": "code",
   "execution_count": 8,
   "id": "f8b5ee6e",
   "metadata": {},
   "outputs": [
    {
     "data": {
      "text/plain": [
       "(array([[ 1.,  0.,  0.,  0.],\n",
       "        [ 2.,  1.,  0.,  0.],\n",
       "        [ 3.,  4.,  1.,  0.],\n",
       "        [-1., -3.,  0.,  1.]]),\n",
       " array([[  1.,   1.,   0.,   3.],\n",
       "        [  0.,  -1.,  -1.,  -5.],\n",
       "        [  0.,   0.,   3.,  13.],\n",
       "        [  0.,   0.,   0., -13.]]))"
      ]
     },
     "execution_count": 8,
     "metadata": {},
     "output_type": "execute_result"
    }
   ],
   "source": [
    "LU_factoring(matriz_exemplo.copy())"
   ]
  },
  {
   "cell_type": "markdown",
   "id": "2aa498fa",
   "metadata": {},
   "source": [
    "## Métodos iterativos"
   ]
  },
  {
   "cell_type": "code",
   "execution_count": 9,
   "id": "1a34c93e",
   "metadata": {},
   "outputs": [
    {
     "data": {
      "text/plain": [
       "matrix([[ 6., -1.,  3., 13.],\n",
       "        [ 1.,  3.,  1., 10.],\n",
       "        [ 3., -1.,  5., 16.]])"
      ]
     },
     "execution_count": 9,
     "metadata": {},
     "output_type": "execute_result"
    }
   ],
   "source": [
    "matriz_exemplo:NDArray = np.matrix([[6.0, -1.0, 3.0],\n",
    "                                    [1.0, 3.0, 1.0],\n",
    "                                    [3.0, -1.0, 5.0]], dtype=np.float64)\n",
    "vetor_solucao:NDArray = np.array([13.0, 10.0, 16.0], dtype=np.float64)\n",
    "matriz_aumentada:NDArray = np.concatenate((matriz_exemplo, vetor_solucao.reshape(-1, 1)), axis=1)\n",
    "max_iter:int = 30\n",
    "tol:np.float64 = np.float64(0.01) # <-- 1 % de tolerancia\n",
    "\n",
    "matriz_aumentada"
   ]
  },
  {
   "cell_type": "code",
   "execution_count": 10,
   "id": "00f797ac",
   "metadata": {},
   "outputs": [
    {
     "ename": "RuntimeError",
     "evalue": "('O método de Jacobi não convergiu após ', 30, ' iterações.')",
     "output_type": "error",
     "traceback": [
      "\u001b[31m---------------------------------------------------------------------------\u001b[39m",
      "\u001b[31mRuntimeError\u001b[39m                              Traceback (most recent call last)",
      "\u001b[36mCell\u001b[39m\u001b[36m \u001b[39m\u001b[32mIn[10]\u001b[39m\u001b[32m, line 1\u001b[39m\n\u001b[32m----> \u001b[39m\u001b[32m1\u001b[39m \u001b[43mjacobi\u001b[49m\u001b[43m(\u001b[49m\u001b[43mmatriz_aumentada\u001b[49m\u001b[43m,\u001b[49m\u001b[43m \u001b[49m\u001b[43mtol\u001b[49m\u001b[43m,\u001b[49m\u001b[43m \u001b[49m\u001b[43mmax_iter\u001b[49m\u001b[43m)\u001b[49m\n",
      "\u001b[36mFile \u001b[39m\u001b[32m~/Documents/UESC/ppgmc/analiseNumerica/metodos_numericos/sistema_equacao/src/methods/iterative_methods.py:42\u001b[39m, in \u001b[36mjacobi\u001b[39m\u001b[34m(augmented_matrix, tol, max_iter)\u001b[39m\n\u001b[32m     38\u001b[39m         \u001b[38;5;28;01mreturn\u001b[39;00m variable_values\n\u001b[32m     40\u001b[39m     \u001b[38;5;28miter\u001b[39m += \u001b[32m1\u001b[39m\n\u001b[32m---> \u001b[39m\u001b[32m42\u001b[39m \u001b[38;5;28;01mraise\u001b[39;00m \u001b[38;5;167;01mRuntimeError\u001b[39;00m(\u001b[33m\"\u001b[39m\u001b[33mO método de Jacobi não convergiu após \u001b[39m\u001b[33m\"\u001b[39m, max_iter, \u001b[33m\"\u001b[39m\u001b[33m iterações.\u001b[39m\u001b[33m\"\u001b[39m)\n",
      "\u001b[31mRuntimeError\u001b[39m: ('O método de Jacobi não convergiu após ', 30, ' iterações.')"
     ]
    }
   ],
   "source": [
    "jacobi(matriz_aumentada, tol, max_iter)"
   ]
  }
 ],
 "metadata": {
  "kernelspec": {
   "display_name": ".mn-venv",
   "language": "python",
   "name": "python3"
  },
  "language_info": {
   "codemirror_mode": {
    "name": "ipython",
    "version": 3
   },
   "file_extension": ".py",
   "mimetype": "text/x-python",
   "name": "python",
   "nbconvert_exporter": "python",
   "pygments_lexer": "ipython3",
   "version": "3.13.0"
  }
 },
 "nbformat": 4,
 "nbformat_minor": 5
}
