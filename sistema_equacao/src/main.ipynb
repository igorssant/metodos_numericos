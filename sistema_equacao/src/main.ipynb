{
 "cells": [
  {
   "cell_type": "markdown",
   "id": "baf5109c",
   "metadata": {},
   "source": [
    "# Lista 3 - Sistemas de Equação"
   ]
  },
  {
   "cell_type": "markdown",
   "id": "5590aeaa",
   "metadata": {},
   "source": [
    "## Importando os pacotes"
   ]
  },
  {
   "cell_type": "code",
   "execution_count": 1,
   "id": "8bc60931",
   "metadata": {},
   "outputs": [],
   "source": [
    "from methods.straightforward_methods import *\n",
    "from numpy.typing import NDArray\n",
    "import pandas as pd\n",
    "import numpy as np"
   ]
  },
  {
   "cell_type": "code",
   "execution_count": 2,
   "id": "4be4fa18",
   "metadata": {},
   "outputs": [
    {
     "data": {
      "text/plain": [
       "matrix([[ 5.291, -6.13 , 46.78 ],\n",
       "        [ 0.   , 59.14 , 59.14 ]])"
      ]
     },
     "execution_count": 2,
     "metadata": {},
     "output_type": "execute_result"
    }
   ],
   "source": [
    "# MATRIZ ORIGINAL\n",
    "# [ 5,291 −6,130    ]\n",
    "# [ 0,0   59,14     ]\n",
    "#\n",
    "# VETOR INDEPENDENTE\n",
    "# [ 46,78   59,14   ]\n",
    "\n",
    "matriz_aumentada:NDArray = np.matrix([[5.291, -6.13, 46.78],\n",
    "                                     [0.0, 59.14, 59.14]],\n",
    "                                     dtype=np.float64)\n",
    "\n",
    "matriz_aumentada"
   ]
  },
  {
   "cell_type": "code",
   "execution_count": 3,
   "id": "bb8f3917",
   "metadata": {},
   "outputs": [
    {
     "data": {
      "text/plain": [
       "array([10.,  1.])"
      ]
     },
     "execution_count": 3,
     "metadata": {},
     "output_type": "execute_result"
    }
   ],
   "source": [
    "gaussian_elimination_partial_pivoting(matriz_aumentada)"
   ]
  }
 ],
 "metadata": {
  "kernelspec": {
   "display_name": ".mn-venv",
   "language": "python",
   "name": "python3"
  },
  "language_info": {
   "codemirror_mode": {
    "name": "ipython",
    "version": 3
   },
   "file_extension": ".py",
   "mimetype": "text/x-python",
   "name": "python",
   "nbconvert_exporter": "python",
   "pygments_lexer": "ipython3",
   "version": "3.13.0"
  }
 },
 "nbformat": 4,
 "nbformat_minor": 5
}
