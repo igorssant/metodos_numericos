{
 "cells": [
  {
   "cell_type": "markdown",
   "id": "baf5109c",
   "metadata": {},
   "source": [
    "# Lista 3 - Sistemas de Equação"
   ]
  },
  {
   "cell_type": "markdown",
   "id": "5590aeaa",
   "metadata": {},
   "source": [
    "## Importando os pacotes"
   ]
  },
  {
   "cell_type": "code",
   "execution_count": 1,
   "id": "8bc60931",
   "metadata": {},
   "outputs": [],
   "source": [
    "from methods.straightforward_methods import *\n",
    "from numpy.typing import NDArray\n",
    "import pandas as pd\n",
    "import numpy as np"
   ]
  },
  {
   "cell_type": "code",
   "execution_count": null,
   "id": "4be4fa18",
   "metadata": {},
   "outputs": [],
   "source": [
    "# MATRIZ ORIGINAL\n",
    "# [ 5,291 −6,130    ]\n",
    "# [ 0,0   59,14     ]\n",
    "#\n",
    "# VETOR INDEPENDENTE\n",
    "# [ 46,78   59,14   ]\n",
    "\n",
    "matriz_aumentada:NDArray = np.matrix([[5.291, -6.13, 46.78],\n",
    "                                     [0.0, 59.14, 59.14]],\n",
    "                                     dtype=np.float64)\n",
    "\n",
    "matriz_aumentada"
   ]
  },
  {
   "cell_type": "code",
   "execution_count": null,
   "id": "848d15cc",
   "metadata": {},
   "outputs": [],
   "source": [
    "gaussian_elimination(matriz_aumentada.copy())"
   ]
  },
  {
   "cell_type": "code",
   "execution_count": null,
   "id": "bb8f3917",
   "metadata": {},
   "outputs": [],
   "source": [
    "gaussian_elimination_partial_pivoting(matriz_aumentada.copy())"
   ]
  },
  {
   "cell_type": "code",
   "execution_count": 2,
   "id": "15027e79",
   "metadata": {},
   "outputs": [
    {
     "data": {
      "text/plain": [
       "matrix([[-2. ,  2.2,  6. ],\n",
       "        [ 1.5, -1. ,  0.5],\n",
       "        [ 2. ,  5. ,  7. ]])"
      ]
     },
     "execution_count": 2,
     "metadata": {},
     "output_type": "execute_result"
    }
   ],
   "source": [
    "matriz_exemplo:NDArray = np.matrix([[-2.0, 2.2, 6.0],\n",
    "                                    [1.5, -1.0, 0.5],\n",
    "                                    [2.0, 5.0, 7.0]], dtype=np.float64)\n",
    "matriz_exemplo"
   ]
  },
  {
   "cell_type": "code",
   "execution_count": 3,
   "id": "f8b5ee6e",
   "metadata": {},
   "outputs": [
    {
     "data": {
      "text/plain": [
       "(array([[ 1.        ,  0.        ,  0.        ],\n",
       "        [-0.75      ,  1.        ,  0.        ],\n",
       "        [-1.        , 11.07692308,  1.        ]]),\n",
       " array([[ -2.        ,   2.2       ,   6.        ],\n",
       "        [  0.        ,   0.65      ,   5.        ],\n",
       "        [  0.        ,   0.        , -42.38461538]]))"
      ]
     },
     "execution_count": 3,
     "metadata": {},
     "output_type": "execute_result"
    }
   ],
   "source": [
    "LU_factoring(matriz_exemplo.copy())"
   ]
  },
  {
   "cell_type": "code",
   "execution_count": null,
   "id": "e3750923",
   "metadata": {},
   "outputs": [],
   "source": []
  }
 ],
 "metadata": {
  "kernelspec": {
   "display_name": ".mn-venv",
   "language": "python",
   "name": "python3"
  },
  "language_info": {
   "codemirror_mode": {
    "name": "ipython",
    "version": 3
   },
   "file_extension": ".py",
   "mimetype": "text/x-python",
   "name": "python",
   "nbconvert_exporter": "python",
   "pygments_lexer": "ipython3",
   "version": "3.13.0"
  }
 },
 "nbformat": 4,
 "nbformat_minor": 5
}
