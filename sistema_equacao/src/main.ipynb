{
 "cells": [
  {
   "cell_type": "code",
   "execution_count": 1,
   "id": "05d2ff45",
   "metadata": {},
   "outputs": [],
   "source": [
    "import pandas as pd\n",
    "import numpy as np\n",
    "from utils.matrix_generator import generate_hilbert_matrix"
   ]
  },
  {
   "cell_type": "code",
   "execution_count": 2,
   "id": "69b63a2c",
   "metadata": {},
   "outputs": [
    {
     "data": {
      "text/plain": [
       "(array([[1.        , 0.5       , 0.33333333],\n",
       "        [0.5       , 0.33333333, 0.25      ],\n",
       "        [0.33333333, 0.25      , 0.2       ]]),\n",
       " array([1.83333333, 1.08333333, 0.78333333]))"
      ]
     },
     "execution_count": 2,
     "metadata": {},
     "output_type": "execute_result"
    }
   ],
   "source": [
    "generate_hilbert_matrix(\n",
    "    n=3,\n",
    ")"
   ]
  }
 ],
 "metadata": {
  "kernelspec": {
   "display_name": "ml",
   "language": "python",
   "name": "python3"
  },
  "language_info": {
   "codemirror_mode": {
    "name": "ipython",
    "version": 3
   },
   "file_extension": ".py",
   "mimetype": "text/x-python",
   "name": "python",
   "nbconvert_exporter": "python",
   "pygments_lexer": "ipython3",
   "version": "3.13.2"
  }
 },
 "nbformat": 4,
 "nbformat_minor": 5
}
