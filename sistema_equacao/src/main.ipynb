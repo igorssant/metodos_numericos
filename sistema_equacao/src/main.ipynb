{
 "cells": [
  {
   "cell_type": "code",
   "execution_count": 1,
   "id": "05d2ff45",
   "metadata": {},
   "outputs": [],
   "source": [
    "import pandas as pd\n",
    "import numpy as np\n",
    "\n",
    "from methods.direct_methods import (\n",
    "    naive_gauss,\n",
    "    gauss_partial_pivoting,\n",
    "    gauss_scaled_pivoting,\n",
    "    gauss_complete_pivoting,\n",
    "    LU_solve,\n",
    ")\n",
    "\n",
    "from methods.iterative_methods import (\n",
    "    jacobi,\n",
    "    gauss_seidel,\n",
    "    relaxing,\n",
    ")\n",
    "\n",
    "from utils.matrix_generator import generate_hilbert_matrix"
   ]
  },
  {
   "cell_type": "markdown",
   "id": "7ed6e896",
   "metadata": {},
   "source": [
    "# Resolução de sistemas de equações lineares"
   ]
  },
  {
   "cell_type": "code",
   "execution_count": null,
   "id": "69b63a2c",
   "metadata": {},
   "outputs": [
    {
     "name": "stdout",
     "output_type": "stream",
     "text": [
      "A: \n",
      " [[1.         0.5        0.33333333]\n",
      " [0.5        0.33333333 0.25      ]\n",
      " [0.33333333 0.25       0.2       ]]\n",
      "B: \n",
      " [1.83333333 1.08333333 0.78333333]\n"
     ]
    }
   ],
   "source": [
    "\n",
    "\n",
    "A, B = generate_hilbert_matrix(\n",
    "    n=3,\n",
    ")\n",
    "\n",
    "print(\"A: \\n\", A)\n",
    "print(\"B: \\n\", B)"
   ]
  }
 ],
 "metadata": {
  "kernelspec": {
   "display_name": "ml",
   "language": "python",
   "name": "python3"
  },
  "language_info": {
   "codemirror_mode": {
    "name": "ipython",
    "version": 3
   },
   "file_extension": ".py",
   "mimetype": "text/x-python",
   "name": "python",
   "nbconvert_exporter": "python",
   "pygments_lexer": "ipython3",
   "version": "3.13.2"
  }
 },
 "nbformat": 4,
 "nbformat_minor": 5
}
