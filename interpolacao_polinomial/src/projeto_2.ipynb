{
 "cells": [
  {
   "cell_type": "markdown",
   "id": "a7629308",
   "metadata": {},
   "source": [
    "# Projeto 2 de Métodos Numéricos I"
   ]
  },
  {
   "cell_type": "markdown",
   "id": "9a0fc26c",
   "metadata": {},
   "source": [
    "## Importando os pacotes necessários"
   ]
  },
  {
   "cell_type": "code",
   "execution_count": 1,
   "id": "82479854",
   "metadata": {},
   "outputs": [],
   "source": [
    "from methods.curve_adjusting import cubic_splines\n",
    "from utils.parser import evaluate_one_variable\n",
    "from numpy.typing import NDArray\n",
    "from methods.derivative import *\n",
    "from methods.integral import *\n",
    "import numpy as np\n",
    "import sympy as sy"
   ]
  },
  {
   "cell_type": "markdown",
   "id": "961f3fbc",
   "metadata": {},
   "source": [
    "## Exercício"
   ]
  },
  {
   "cell_type": "markdown",
   "id": "b191f4f5",
   "metadata": {},
   "source": [
    "Utilize interpolação polinomial por partes para obter uma aproximação para a função `f(x) = cos(πx)` no intervalo `[0, 1]`, considere as alternativas:\n",
    "- Spline cúbico natural ou livre\n",
    "- Spline fixado\n",
    "\n",
    "Para ambos os casos:"
   ]
  },
  {
   "cell_type": "code",
   "execution_count": 2,
   "id": "6256b3d2",
   "metadata": {},
   "outputs": [],
   "source": [
    "func :str = \"cos(pi * x)\""
   ]
  },
  {
   "cell_type": "markdown",
   "id": "f282ef95",
   "metadata": {},
   "source": [
    "### a) Considere os seguintes pontos `x = 0; 0,25; 0,5; 0,75 e 1,0`"
   ]
  },
  {
   "cell_type": "markdown",
   "id": "b4ba0042",
   "metadata": {},
   "source": [
    "#### caso natural"
   ]
  },
  {
   "cell_type": "code",
   "execution_count": 3,
   "id": "7bc67a89",
   "metadata": {},
   "outputs": [
    {
     "name": "stdout",
     "output_type": "stream",
     "text": [
      "Os coeficientes de *a* são:\n",
      " [ 1.          0.70710678  0.         -0.70710678] \n",
      "\n",
      "Os coeficientes de *b* são:\n",
      " [-0.75735931 -2.         -3.24264069 -2.        ] \n",
      "\n",
      "Os coeficientes de *c* são:\n",
      " [ 0.         -4.97056275  0.          4.97056275] \n",
      "\n",
      "Os coeficientes de *d* são:\n",
      " [-6.627417  6.627417  6.627417 -6.627417] \n",
      "\n"
     ]
    }
   ],
   "source": [
    "x :NDArray[np.float64] = np.array([0.0, 0.25, 0.5, 0.75, 1.0], dtype=np.float64)\n",
    "y :NDArray[np.float64] = np.array([evaluate_one_variable(func, el) for el in x], dtype=np.float64)\n",
    "\n",
    "a, b, c, d = cubic_splines(x, y)\n",
    "\n",
    "print(\"Os coeficientes de *a* são:\\n\", a, \"\\n\")\n",
    "print(\"Os coeficientes de *b* são:\\n\", b, \"\\n\")\n",
    "print(\"Os coeficientes de *c* são:\\n\", c, \"\\n\")\n",
    "print(\"Os coeficientes de *d* são:\\n\", d, \"\\n\")"
   ]
  },
  {
   "cell_type": "markdown",
   "id": "7f51cfc6",
   "metadata": {},
   "source": [
    "#### Caso fixado\n",
    "Com:\n",
    "- dx_0 = 2,0\n",
    "- dx_n = 3,0"
   ]
  },
  {
   "cell_type": "code",
   "execution_count": 4,
   "id": "5650512b",
   "metadata": {},
   "outputs": [
    {
     "name": "stdout",
     "output_type": "stream",
     "text": [
      "Os coeficientes de *a* são:\n",
      " [ 1.          0.70710678  0.         -0.70710678] \n",
      "\n",
      "Os coeficientes de *b* são:\n",
      " [-1.04158551 -1.93154762 -3.23222402 -2.11011905] \n",
      "\n",
      "Os coeficientes de *c* são:\n",
      " [ 2.         -5.55984844  0.35714284  4.13127704] \n",
      "\n",
      "Os coeficientes de *d* são:\n",
      " [-10.07979791   7.8893217    5.03217893  -1.50836938] \n",
      "\n"
     ]
    }
   ],
   "source": [
    "a, b, c, d = cubic_splines(x,\n",
    "                           y,\n",
    "                           dx_0=np.float64(2.0),\n",
    "                           dx_n=np.float64(3.0))\n",
    "\n",
    "print(\"Os coeficientes de *a* são:\\n\", a, \"\\n\")\n",
    "print(\"Os coeficientes de *b* são:\\n\", b, \"\\n\")\n",
    "print(\"Os coeficientes de *c* são:\\n\", c, \"\\n\")\n",
    "print(\"Os coeficientes de *d* são:\\n\", d, \"\\n\")"
   ]
  },
  {
   "cell_type": "markdown",
   "id": "08e8aefc",
   "metadata": {},
   "source": [
    "### b) Considere os seguintes pontos `x = 0; 0,125; 0,250; 0,375, 0,5; 0,625; 0,75; 0,875 e 1.0`"
   ]
  },
  {
   "cell_type": "markdown",
   "id": "25e7eba5",
   "metadata": {},
   "source": [
    "#### caso natural"
   ]
  },
  {
   "cell_type": "code",
   "execution_count": 5,
   "id": "0c2cd2fc",
   "metadata": {},
   "outputs": [
    {
     "name": "stdout",
     "output_type": "stream",
     "text": [
      "Os coeficientes de *a* são:\n",
      " [ 1.          0.92387953  0.70710678  0.38268343  0.         -0.70710678\n",
      " -0.92387953] \n",
      "\n",
      "Os coeficientes de *b* são:\n",
      " [-0.36063827 -1.1056147  -2.2463402  -2.89773089 -3.13329899 -2.25883038\n",
      " -1.10204607] \n",
      "\n",
      "Os coeficientes de *c* são:\n",
      " [ 0.         -5.95981133 -3.1659927  -2.0451328   0.16058797  3.33728647\n",
      "  5.91698801] \n",
      "\n",
      "Os coeficientes de *d* são:\n",
      " [-15.89283022   7.45018301   2.98895973   5.88192206   4.235598\n",
      "   6.87920411 -15.77863469] \n",
      "\n"
     ]
    }
   ],
   "source": [
    "x :NDArray[np.float64] = np.array([0.0, 0.125, 0.250, 0.375, 0.5, 0.75, 0.875, 1.0], dtype=np.float64)\n",
    "y :NDArray[np.float64] = np.array([evaluate_one_variable(func, el) for el in x], dtype=np.float64)\n",
    "\n",
    "a, b, c, d = cubic_splines(x, y)\n",
    "\n",
    "print(\"Os coeficientes de *a* são:\\n\", a, \"\\n\")\n",
    "print(\"Os coeficientes de *b* são:\\n\", b, \"\\n\")\n",
    "print(\"Os coeficientes de *c* são:\\n\", c, \"\\n\")\n",
    "print(\"Os coeficientes de *d* são:\\n\", d, \"\\n\")"
   ]
  },
  {
   "cell_type": "markdown",
   "id": "9ab09ed6",
   "metadata": {},
   "source": [
    "#### Caso fixado\n",
    "Com:\n",
    "- dx_0 = 2,0\n",
    "- dx_n = 3,0"
   ]
  },
  {
   "cell_type": "code",
   "execution_count": 6,
   "id": "5c44ecaa",
   "metadata": {},
   "outputs": [
    {
     "name": "stdout",
     "output_type": "stream",
     "text": [
      "Os coeficientes de *a* são:\n",
      " [ 1.          0.92387953  0.70710678  0.38268343  0.         -0.70710678\n",
      " -0.92387953] \n",
      "\n",
      "Os coeficientes de *b* são:\n",
      " [-0.50501676 -1.06685769 -2.25698972 -2.89388987 -3.13801356 -2.23822507\n",
      " -1.16150474] \n",
      "\n",
      "Os coeficientes de *c* são:\n",
      " [ 2.         -6.4947276  -3.02632854 -2.06887272  0.11588323  3.48327072\n",
      "  5.13049194] \n",
      "\n",
      "Os coeficientes de *d* são:\n",
      " [-22.65260693   9.24906417   2.55321552   5.82601587   4.48984998\n",
      "   4.39258993  -5.68131185] \n",
      "\n"
     ]
    }
   ],
   "source": [
    "a, b, c, d = cubic_splines(x,\n",
    "                           y,\n",
    "                           dx_0=np.float64(2.0),\n",
    "                           dx_n=np.float64(3.0))\n",
    "\n",
    "print(\"Os coeficientes de *a* são:\\n\", a, \"\\n\")\n",
    "print(\"Os coeficientes de *b* são:\\n\", b, \"\\n\")\n",
    "print(\"Os coeficientes de *c* são:\\n\", c, \"\\n\")\n",
    "print(\"Os coeficientes de *d* são:\\n\", d, \"\\n\")"
   ]
  },
  {
   "cell_type": "markdown",
   "id": "b77392d9",
   "metadata": {},
   "source": [
    "### c) Para os itens `(a)` e `(b)`, integre o Spline no intervalo `[0, 1]` e compare com o valor exato da integral da função `f(x)`"
   ]
  },
  {
   "cell_type": "markdown",
   "id": "d4e09c16",
   "metadata": {},
   "source": [
    "#### Configurações e informações importantes"
   ]
  },
  {
   "cell_type": "markdown",
   "id": "9f92d203",
   "metadata": {},
   "source": [
    "Sabemos que a integral analítica da função `f(x) = cos(π * x)` no intervalo `[0, 1]` é igual a `0`."
   ]
  },
  {
   "cell_type": "markdown",
   "id": "fbcb731f",
   "metadata": {},
   "source": [
    "##### Salvando os limites do intervalo em variáveis"
   ]
  },
  {
   "cell_type": "code",
   "execution_count": 7,
   "id": "64f580a8",
   "metadata": {},
   "outputs": [],
   "source": [
    "lower_bound :np.float64 = np.float64(0.0)\n",
    "upper_bound :np.float64 = np.float64(1.0)"
   ]
  },
  {
   "cell_type": "markdown",
   "id": "c8438e2e",
   "metadata": {},
   "source": [
    "#### Pelo método do trapézio"
   ]
  },
  {
   "cell_type": "code",
   "execution_count": 8,
   "id": "8cd350ee",
   "metadata": {},
   "outputs": [
    {
     "data": {
      "text/plain": [
       "np.float64(0.0)"
      ]
     },
     "execution_count": 8,
     "metadata": {},
     "output_type": "execute_result"
    }
   ],
   "source": [
    "trapezoid_integral(func,\n",
    "                   lower_bound,\n",
    "                   upper_bound)"
   ]
  },
  {
   "cell_type": "markdown",
   "id": "a95798fd",
   "metadata": {},
   "source": [
    "#### Pelo método de Simpson 1/3"
   ]
  },
  {
   "cell_type": "code",
   "execution_count": 9,
   "id": "9a9d5093",
   "metadata": {},
   "outputs": [
    {
     "data": {
      "text/plain": [
       "np.float64(0.0)"
      ]
     },
     "execution_count": 9,
     "metadata": {},
     "output_type": "execute_result"
    }
   ],
   "source": [
    "simpson13_integral(func,\n",
    "                   lower_bound,\n",
    "                   upper_bound)"
   ]
  },
  {
   "cell_type": "markdown",
   "id": "ff7bd107",
   "metadata": {},
   "source": [
    "#### Pelo método de Simpson 3/8"
   ]
  },
  {
   "cell_type": "code",
   "execution_count": 10,
   "id": "50911c11",
   "metadata": {},
   "outputs": [
    {
     "data": {
      "text/plain": [
       "np.float64(-8.326672684688674e-17)"
      ]
     },
     "execution_count": 10,
     "metadata": {},
     "output_type": "execute_result"
    }
   ],
   "source": [
    "simpson38_integral(func,\n",
    "                   lower_bound,\n",
    "                   upper_bound)"
   ]
  },
  {
   "cell_type": "markdown",
   "id": "483ca510",
   "metadata": {},
   "source": [
    "#### Pelo método da quadratura de Gauss"
   ]
  },
  {
   "cell_type": "code",
   "execution_count": 11,
   "id": "24cfd0a9",
   "metadata": {},
   "outputs": [
    {
     "data": {
      "text/plain": [
       "np.float64(-5.551115123125783e-17)"
      ]
     },
     "execution_count": 11,
     "metadata": {},
     "output_type": "execute_result"
    }
   ],
   "source": [
    "gauss_quadrature(func,\n",
    "                 lower_bound,\n",
    "                 upper_bound,\n",
    "                 2)"
   ]
  },
  {
   "cell_type": "markdown",
   "id": "c56487a7",
   "metadata": {},
   "source": [
    "### d) Para os itens `(a)` e `(b)`, calcule as derivadas do Spline e obtenha uma aproximação de `f′(0,5)` e `f′′(0,5)` compare os resultados com os valores reais"
   ]
  },
  {
   "cell_type": "code",
   "execution_count": null,
   "id": "27bfaa80",
   "metadata": {},
   "outputs": [],
   "source": []
  },
  {
   "cell_type": "markdown",
   "id": "695ee842",
   "metadata": {},
   "source": [
    "### e) Baseado nos resultados de `(c)` e `(d)` qual aproxima ̧c ̃ao por Splines oferece melhores resultados. Justifique."
   ]
  },
  {
   "cell_type": "code",
   "execution_count": null,
   "id": "b2a539bd",
   "metadata": {},
   "outputs": [],
   "source": []
  }
 ],
 "metadata": {
  "kernelspec": {
   "display_name": ".mn-venv",
   "language": "python",
   "name": "python3"
  },
  "language_info": {
   "codemirror_mode": {
    "name": "ipython",
    "version": 3
   },
   "file_extension": ".py",
   "mimetype": "text/x-python",
   "name": "python",
   "nbconvert_exporter": "python",
   "pygments_lexer": "ipython3",
   "version": "3.13.0"
  }
 },
 "nbformat": 4,
 "nbformat_minor": 5
}
