{
 "cells": [
  {
   "cell_type": "markdown",
   "id": "a7629308",
   "metadata": {},
   "source": [
    "# Projeto 2 de Métodos Numéricos I"
   ]
  },
  {
   "cell_type": "markdown",
   "id": "9a0fc26c",
   "metadata": {},
   "source": [
    "## Importando os pacotes necessários"
   ]
  },
  {
   "cell_type": "code",
   "execution_count": 1,
   "id": "82479854",
   "metadata": {},
   "outputs": [],
   "source": [
    "from methods.curve_adjusting import cubic_splines, get_spline_func_str\n",
    "from utils.parser import evaluate_one_variable, get_derivative\n",
    "from numpy.typing import NDArray\n",
    "import numpy as np\n",
    "import pandas as pd\n",
    "from scipy.integrate import quad"
   ]
  },
  {
   "cell_type": "markdown",
   "id": "961f3fbc",
   "metadata": {},
   "source": [
    "## Exercício"
   ]
  },
  {
   "cell_type": "markdown",
   "id": "b191f4f5",
   "metadata": {},
   "source": [
    "Utilize interpolação polinomial por partes para obter uma aproximação para a função `f(x) = cos(πx)` no intervalo `[0, 1]`, considere as alternativas:\n",
    "- Spline cúbico natural ou livre\n",
    "- Spline fixado\n",
    "\n",
    "Para ambos os casos:"
   ]
  },
  {
   "cell_type": "code",
   "execution_count": 2,
   "id": "6256b3d2",
   "metadata": {},
   "outputs": [],
   "source": [
    "func :str = \"cos(pi * x)\"\n",
    "derivative_func = get_derivative(func)"
   ]
  },
  {
   "cell_type": "markdown",
   "id": "f282ef95",
   "metadata": {},
   "source": [
    "### a) Considere os seguintes pontos `x = 0; 0,25; 0,5; 0,75 e 1,0`"
   ]
  },
  {
   "cell_type": "markdown",
   "id": "b4ba0042",
   "metadata": {},
   "source": [
    "#### caso natural"
   ]
  },
  {
   "cell_type": "code",
   "execution_count": 3,
   "id": "7bc67a89",
   "metadata": {},
   "outputs": [
    {
     "name": "stdout",
     "output_type": "stream",
     "text": [
      "Os coeficientes de *a* são:\n",
      " [ 1.          0.70710678  0.         -0.70710678] \n",
      "\n",
      "Os coeficientes de *b* são:\n",
      " [-0.75735931 -2.         -3.24264069 -2.        ] \n",
      "\n",
      "Os coeficientes de *c* são:\n",
      " [ 0.         -4.97056275  0.          4.97056275] \n",
      "\n",
      "Os coeficientes de *d* são:\n",
      " [-6.627417  6.627417  6.627417 -6.627417] \n",
      "\n"
     ]
    }
   ],
   "source": [
    "x_a :NDArray[np.float64] = np.array([0.0, 0.25, 0.5, 0.75, 1.0], dtype=np.float64)\n",
    "y_a :NDArray[np.float64] = np.array([evaluate_one_variable(func, el) for el in x_a], dtype=np.float64)\n",
    "\n",
    "natural_coef_a = cubic_splines(x_a, y_a)\n",
    "a, b, c, d = natural_coef_a\n",
    "\n",
    "print(\"Os coeficientes de *a* são:\\n\", a, \"\\n\")\n",
    "print(\"Os coeficientes de *b* são:\\n\", b, \"\\n\")\n",
    "print(\"Os coeficientes de *c* são:\\n\", c, \"\\n\")\n",
    "print(\"Os coeficientes de *d* são:\\n\", d, \"\\n\")"
   ]
  },
  {
   "cell_type": "markdown",
   "id": "7f51cfc6",
   "metadata": {},
   "source": [
    "#### Caso fixado"
   ]
  },
  {
   "cell_type": "code",
   "execution_count": 4,
   "id": "5650512b",
   "metadata": {},
   "outputs": [
    {
     "name": "stdout",
     "output_type": "stream",
     "text": [
      "Os coeficientes de *a* são:\n",
      " [ 1.          0.70710678  0.         -0.70710678] \n",
      "\n",
      "Os coeficientes de *b* são:\n",
      " [-4.00913789e-08 -2.21638836e+00 -3.13444651e+00 -2.21638837e+00] \n",
      "\n",
      "Os coeficientes de *c* são:\n",
      " [-5.19332068e+00 -3.67223266e+00  8.04211141e-08  3.67223246e+00] \n",
      "\n",
      "Os coeficientes de *d* são:\n",
      " [2.02811736 4.89631032 4.89630984 2.02811809] \n",
      "\n"
     ]
    }
   ],
   "source": [
    "fixed_coef_a = cubic_splines(x_a,\n",
    "                           y_a,\n",
    "                           dx_0= derivative_func(x_a[0]),\n",
    "                           dx_n=derivative_func(x_a[-1]))\n",
    "a, b, c, d = fixed_coef_a\n",
    "\n",
    "print(\"Os coeficientes de *a* são:\\n\", a, \"\\n\")\n",
    "print(\"Os coeficientes de *b* são:\\n\", b, \"\\n\")\n",
    "print(\"Os coeficientes de *c* são:\\n\", c, \"\\n\")\n",
    "print(\"Os coeficientes de *d* são:\\n\", d, \"\\n\")"
   ]
  },
  {
   "cell_type": "markdown",
   "id": "08e8aefc",
   "metadata": {},
   "source": [
    "### b) Considere os seguintes pontos `x = 0; 0,125; 0,250; 0,375, 0,5; 0,625; 0,75; 0,875 e 1.0`"
   ]
  },
  {
   "cell_type": "markdown",
   "id": "25e7eba5",
   "metadata": {},
   "source": [
    "#### caso natural"
   ]
  },
  {
   "cell_type": "code",
   "execution_count": 5,
   "id": "0c2cd2fc",
   "metadata": {},
   "outputs": [
    {
     "name": "stdout",
     "output_type": "stream",
     "text": [
      "Os coeficientes de *a* são:\n",
      " [ 1.          0.92387953  0.70710678  0.38268343  0.         -0.38268343\n",
      " -0.70710678 -0.92387953] \n",
      "\n",
      "Os coeficientes de *b* são:\n",
      " [-0.36075774 -1.10537572 -2.2471766  -2.89462427 -3.14488905 -2.89462427\n",
      " -2.2471766  -1.10537573] \n",
      "\n",
      "Os coeficientes de *c* são:\n",
      " [ 0.00000000e+00 -5.95694389e+00 -3.17746312e+00 -2.00211825e+00\n",
      "  1.46244483e-08  2.00211821e+00  3.17746317e+00  5.95694383e+00] \n",
      "\n",
      "Os coeficientes de *d* são:\n",
      " [-15.88518372   7.41194874   3.13425298   5.33898203   5.33898186\n",
      "   3.13425322   7.41194843 -15.88518355] \n",
      "\n"
     ]
    }
   ],
   "source": [
    "x_b :NDArray[np.float64] = np.array([0.0, 0.125, 0.250, 0.375, 0.5, 0.625, 0.75, 0.875, 1.0], dtype=np.float64)\n",
    "y_b :NDArray[np.float64] = np.array([evaluate_one_variable(func, el) for el in x_b], dtype=np.float64)\n",
    "\n",
    "natural_coef_b = cubic_splines(x_b, y_b)\n",
    "a, b, c, d = natural_coef_b\n",
    "\n",
    "print(\"Os coeficientes de *a* são:\\n\", a, \"\\n\")\n",
    "print(\"Os coeficientes de *b* são:\\n\", b, \"\\n\")\n",
    "print(\"Os coeficientes de *c* são:\\n\", c, \"\\n\")\n",
    "print(\"Os coeficientes de *d* são:\\n\", d, \"\\n\")"
   ]
  },
  {
   "cell_type": "markdown",
   "id": "9ab09ed6",
   "metadata": {},
   "source": [
    "#### Caso fixado"
   ]
  },
  {
   "cell_type": "code",
   "execution_count": 6,
   "id": "5c44ecaa",
   "metadata": {},
   "outputs": [
    {
     "name": "stdout",
     "output_type": "stream",
     "text": [
      "Os coeficientes de *a* são:\n",
      " [ 1.          0.92387953  0.70710678  0.38268343  0.         -0.38268343\n",
      " -0.70710678 -0.92387953] \n",
      "\n",
      "Os coeficientes de *b* são:\n",
      " [-2.13395612e-08 -1.20207367e+00 -2.22114254e+00 -2.90206257e+00\n",
      " -3.14116990e+00 -2.90206258e+00 -2.22114254e+00 -1.20207368e+00] \n",
      "\n",
      "Os coeficientes de *c* são:\n",
      " [-4.99853997e+00 -4.61804931e+00 -3.53450163e+00 -1.91285865e+00\n",
      "  4.63957316e-08  1.91285854e+00  3.53450178e+00  4.61804909e+00] \n",
      "\n",
      "Os coeficientes de *d* são:\n",
      " [1.01464176 2.88946046 4.3243813  5.10095652 5.10095599 4.32438195\n",
      " 2.88945951 1.0146433 ] \n",
      "\n"
     ]
    }
   ],
   "source": [
    "fixed_coef_b = cubic_splines(x_b,\n",
    "                           y_b,\n",
    "                           dx_0=derivative_func(x_b[0]),\n",
    "                           dx_n=derivative_func(x_b[-1]))\n",
    "\n",
    "a, b, c, d = fixed_coef_b\n",
    "\n",
    "print(\"Os coeficientes de *a* são:\\n\", a, \"\\n\")\n",
    "print(\"Os coeficientes de *b* são:\\n\", b, \"\\n\")\n",
    "print(\"Os coeficientes de *c* são:\\n\", c, \"\\n\")\n",
    "print(\"Os coeficientes de *d* são:\\n\", d, \"\\n\")"
   ]
  },
  {
   "cell_type": "markdown",
   "id": "b77392d9",
   "metadata": {},
   "source": [
    "### c) Para os itens `(a)` e `(b)`, integre o Spline no intervalo `[0, 1]` e compare com o valor exato da integral da função `f(x)`"
   ]
  },
  {
   "cell_type": "markdown",
   "id": "9f92d203",
   "metadata": {},
   "source": [
    "Sabemos que a integral analítica da função `f(x) = cos(π * x)` no intervalo `[0, 1]` é igual a `0`."
   ]
  },
  {
   "cell_type": "code",
   "execution_count": 7,
   "id": "e55be5c8",
   "metadata": {},
   "outputs": [],
   "source": [
    "def get_spline_funcs_integral(x, a, b, c, d):\n",
    "    integrals = []\n",
    "\n",
    "    for i in range(len(x) - 1):\n",
    "        integral, _ = quad(lambda t: a[i] + b[i] * (t - x[i]) + c[i] * (t - x[i]) ** 2 + d[i] * (t - x[i]) ** 3,\n",
    "                        x[i], x[i + 1])\n",
    "        integrals.append(integral)\n",
    "\n",
    "    return np.array(integrals, dtype=np.float64)"
   ]
  },
  {
   "cell_type": "markdown",
   "id": "61630a5d",
   "metadata": {},
   "source": [
    "#### Resolução para a Spline encontrada no item `a)`"
   ]
  },
  {
   "cell_type": "code",
   "execution_count": 8,
   "id": "4587f2d0",
   "metadata": {},
   "outputs": [
    {
     "name": "stdout",
     "output_type": "stream",
     "text": [
      "Valores das integrais do spline natural:\n",
      " [ 0.21986043  0.09486043 -0.09486043 -0.21986043] \n",
      "\n",
      "Valores das integrais do spline fixo:\n",
      " [ 0.22493204  0.0931699  -0.0931699  -0.22493204] \n",
      "\n",
      "Soma das integrais do spline natural:\n",
      " 0.0 \n",
      "Soma das integrais do spline fixo:\n",
      " -1.303118168927142e-10 \n",
      "\n",
      "Erro da integral do spline natural:\n",
      " 0.0 \n",
      "\n",
      "Erro da integral do spline fixo:\n",
      " 1.303118168927142e-10 \n",
      "\n"
     ]
    }
   ],
   "source": [
    "natural_integral_a = get_spline_funcs_integral(x_a, *natural_coef_a)\n",
    "fixed_integral_a = get_spline_funcs_integral(x_a, *fixed_coef_a)\n",
    "\n",
    "print(\"Valores das integrais do spline natural:\\n\", natural_integral_a, \"\\n\")\n",
    "print(\"Valores das integrais do spline fixo:\\n\", fixed_integral_a, \"\\n\")\n",
    "\n",
    "\n",
    "print(\"Soma das integrais do spline natural:\\n\", natural_integral_a.sum(), \"\\n\"\n",
    "      \"Soma das integrais do spline fixo:\\n\", fixed_integral_a.sum(), \"\\n\")\n",
    "\n",
    "natural_integral_error_a = abs(0 - natural_integral_a.sum())\n",
    "fixed_integral_error_a = abs(0 - fixed_integral_a.sum())\n",
    "\n",
    "print(\"Erro da integral do spline natural:\\n\", natural_integral_error_a, \"\\n\")\n",
    "print(\"Erro da integral do spline fixo:\\n\", fixed_integral_error_a, \"\\n\")"
   ]
  },
  {
   "cell_type": "markdown",
   "id": "bdaaf7b9",
   "metadata": {},
   "source": [
    "#### Resolução para a Spline encontrada no item `b)`"
   ]
  },
  {
   "cell_type": "code",
   "execution_count": 9,
   "id": "7c0f243d",
   "metadata": {},
   "outputs": [
    {
     "name": "stdout",
     "output_type": "stream",
     "text": [
      "Valores das integrais do spline natural:\n",
      " [ 0.12121203  0.10342336  0.06895492  0.02424358 -0.02424358 -0.06895492\n",
      " -0.10342336 -0.12121203] \n",
      "\n",
      "Valores das integrais do spline fixo:\n",
      " [ 0.12180767  0.10326356  0.0689985   0.02422905 -0.02422905 -0.0689985\n",
      " -0.10326356 -0.12180767] \n",
      "\n",
      "Soma das integrais do spline natural:\n",
      " 9.85966863709109e-12 \n",
      "Soma das integrais do spline fixo:\n",
      " -1.6460721674604883e-11 \n",
      "\n",
      "Erro da integral do spline natural:\n",
      " 9.85966863709109e-12 \n",
      "\n",
      "Erro da integral do spline fixo:\n",
      " 1.6460721674604883e-11 \n",
      "\n"
     ]
    }
   ],
   "source": [
    "natural_integral_b = get_spline_funcs_integral(x_b, *natural_coef_b)\n",
    "fixed_integral_b = get_spline_funcs_integral(x_b, *fixed_coef_b)\n",
    "\n",
    "print(\"Valores das integrais do spline natural:\\n\", natural_integral_b, \"\\n\")\n",
    "print(\"Valores das integrais do spline fixo:\\n\", fixed_integral_b, \"\\n\")\n",
    "\n",
    "\n",
    "print(\"Soma das integrais do spline natural:\\n\", natural_integral_b.sum(), \"\\n\"\n",
    "      \"Soma das integrais do spline fixo:\\n\", fixed_integral_b.sum(), \"\\n\")\n",
    "\n",
    "natural_integral_error_b = abs(0 - natural_integral_b.sum())\n",
    "fixed_integral_error_b = abs(0 - fixed_integral_b.sum())\n",
    "\n",
    "print(\"Erro da integral do spline natural:\\n\", natural_integral_error_b, \"\\n\")\n",
    "print(\"Erro da integral do spline fixo:\\n\", fixed_integral_error_b, \"\\n\")"
   ]
  },
  {
   "cell_type": "markdown",
   "id": "c56487a7",
   "metadata": {},
   "source": [
    "### d) Para os itens `(a)` e `(b)`, calcule as derivadas do Spline e obtenha uma aproximação de `f′(0,5)` e `f′′(0,5)` compare os resultados com os valores reais"
   ]
  },
  {
   "cell_type": "markdown",
   "id": "4f2e66f3",
   "metadata": {},
   "source": [
    "Sabemos que a derivada analítica da função `f(x) = cos(π * x)` no ponto `0,5` é igual a `-π`.\n",
    "- Ou seja, `f´(0,5) = -π`.\n",
    "\n",
    "Sabemos que a segunda derivada analítica da função `f(x) = cos(π * x)` no ponto `0,5` é igual a `0`.\n",
    "- Ou seja, `f´´(0,5) = 0`.\n",
    "\n",
    "E sabemos que:\n",
    "\n",
    "Original: `S_i(x) = a_i​ + b_i​(x−xi​) + c_i​(x−xi​)^2 + d_i​(x−xi​)^3`\n",
    "\n",
    "Derivada: `S_i´(x) = b_i​ + 2 * c_i​(x−xi​) + 3 * d_i​(x−xi​)^2`\n",
    "\n",
    "Segunda derivada: `S_i´´(x) = 2* c_i​ + 6 * d_i​(x−xi​)`"
   ]
  },
  {
   "cell_type": "markdown",
   "id": "1b1ba9e3",
   "metadata": {},
   "source": [
    "#### Caso natural"
   ]
  },
  {
   "cell_type": "markdown",
   "id": "9156a459",
   "metadata": {},
   "source": [
    "##### Item `a)`"
   ]
  },
  {
   "cell_type": "code",
   "execution_count": 10,
   "id": "0c2b3758",
   "metadata": {},
   "outputs": [
    {
     "name": "stdout",
     "output_type": "stream",
     "text": [
      "=== SPLINE NATURAL - ITEM A ===\n",
      "A função do spline natural no ponto 0.5 é:\n",
      " (0.7071067811865476 + -2.0 * (x - 0.25) + -4.970562748477143 * (x - 0.25)**2 + 6.627416997969523 * (x - 0.25)**3) \n",
      "\n",
      "Valores calculados:\n",
      "S'(0.5) = -3.242640687119286\n",
      "S''(0.5) = 0.000000000000000\n",
      "\n",
      "Comparação com valores exatos:\n",
      "f'(0.5) exato = -3.141592653589793\n",
      "f'(0.5) spline = -3.242640687119286\n",
      "Erro absoluto f' = 0.101048033529493\n",
      "f''(0.5) exato = 0.000000000000000\n",
      "f''(0.5) spline = 0.000000000000000\n",
      "Erro absoluto f'' = 0.000000000000000\n"
     ]
    }
   ],
   "source": [
    "# Caso natural - item a)\n",
    "spline_func_0_5_a = get_spline_func_str(0.5, *natural_coef_a, x_a)\n",
    "derivative_func = get_derivative(spline_func_0_5_a, degree=1)\n",
    "derivative_func_2 = get_derivative(spline_func_0_5_a, degree=2)\n",
    "\n",
    "print(\"=== SPLINE NATURAL - ITEM A ===\")\n",
    "print(\"A função do spline natural no ponto 0.5 é:\\n\", spline_func_0_5_a, \"\\n\")\n",
    "\n",
    "# Avaliação das derivadas\n",
    "f_prime_05_natural_a = derivative_func(0.5)\n",
    "f_double_prime_05_natural_a = derivative_func_2(0.5)\n",
    "\n",
    "print(\"Valores calculados:\")\n",
    "print(f\"S'(0.5) = {f_prime_05_natural_a:.15f}\")\n",
    "print(f\"S''(0.5) = {f_double_prime_05_natural_a:.15f}\")\n",
    "\n",
    "# Comparação com valores exatos\n",
    "exact_f_prime_05 = -np.pi\n",
    "exact_f_double_prime_05 = 0.0\n",
    "natural_derivative_error_a = abs(exact_f_prime_05 - f_prime_05_natural_a)\n",
    "natural_double_derivative_error_a = abs(exact_f_double_prime_05 - f_double_prime_05_natural_a)\n",
    "\n",
    "print(\"\\nComparação com valores exatos:\")\n",
    "print(f\"f'(0.5) exato = {exact_f_prime_05:.15f}\")\n",
    "print(f\"f'(0.5) spline = {f_prime_05_natural_a:.15f}\")\n",
    "print(f\"Erro absoluto f' = {natural_derivative_error_a:.15f}\")\n",
    "\n",
    "print(f\"f''(0.5) exato = {exact_f_double_prime_05:.15f}\")\n",
    "print(f\"f''(0.5) spline = {f_double_prime_05_natural_a:.15f}\")\n",
    "print(f\"Erro absoluto f'' = {natural_double_derivative_error_a:.15f}\")"
   ]
  },
  {
   "cell_type": "markdown",
   "id": "33530ced",
   "metadata": {},
   "source": [
    "##### Item `b)`"
   ]
  },
  {
   "cell_type": "code",
   "execution_count": 11,
   "id": "34fe8cb4",
   "metadata": {},
   "outputs": [
    {
     "name": "stdout",
     "output_type": "stream",
     "text": [
      "=== SPLINE NATURAL - ITEM B ===\n",
      "A função do spline natural no ponto 0.5 é:\n",
      " (0.3826834323650898 + -2.894624272187673 * (x - 0.375) + -2.0021182481087676 * (x - 0.375)**2 + 5.338982033955243 * (x - 0.375)**3) \n",
      "\n",
      "Valores calculados:\n",
      "S'(0.5) = -3.144889051373213\n",
      "S''(0.5) = 0.000000029248898\n",
      "\n",
      "Comparação com valores exatos:\n",
      "f'(0.5) exato = -3.141592653589793\n",
      "f'(0.5) spline = -3.144889051373213\n",
      "Erro absoluto f' = 0.003296397783420\n",
      "f''(0.5) exato = 0.000000000000000\n",
      "f''(0.5) spline = 0.000000029248898\n",
      "Erro absoluto f'' = 0.000000029248898\n"
     ]
    }
   ],
   "source": [
    "# Caso natural - item a)\n",
    "spline_func_0_5_b = get_spline_func_str(0.5, *natural_coef_b, x_b)\n",
    "derivative_func = get_derivative(spline_func_0_5_b, degree=1)\n",
    "derivative_func_2 = get_derivative(spline_func_0_5_b, degree=2)\n",
    "\n",
    "print(\"=== SPLINE NATURAL - ITEM B ===\")\n",
    "print(\"A função do spline natural no ponto 0.5 é:\\n\", spline_func_0_5_b, \"\\n\")\n",
    "\n",
    "# Avaliação das derivadas\n",
    "f_prime_05_natural_b = derivative_func(0.5)\n",
    "f_double_prime_05_natural_b = derivative_func_2(0.5)\n",
    "\n",
    "print(\"Valores calculados:\")\n",
    "print(f\"S'(0.5) = {f_prime_05_natural_b:.15f}\")\n",
    "print(f\"S''(0.5) = {f_double_prime_05_natural_b:.15f}\")\n",
    "\n",
    "# Comparação com valores exatos\n",
    "exact_f_prime_05 = -np.pi\n",
    "exact_f_double_prime_05 = 0.0\n",
    "natural_derivative_error_b = abs(exact_f_prime_05 - f_prime_05_natural_b)\n",
    "natural_double_derivative_error_b = abs(exact_f_double_prime_05 - f_double_prime_05_natural_b)\n",
    "\n",
    "print(\"\\nComparação com valores exatos:\")\n",
    "print(f\"f'(0.5) exato = {exact_f_prime_05:.15f}\")\n",
    "print(f\"f'(0.5) spline = {f_prime_05_natural_b:.15f}\")\n",
    "print(f\"Erro absoluto f' = {natural_derivative_error_b:.15f}\")\n",
    "\n",
    "print(f\"f''(0.5) exato = {exact_f_double_prime_05:.15f}\")\n",
    "print(f\"f''(0.5) spline = {f_double_prime_05_natural_b:.15f}\")\n",
    "print(f\"Erro absoluto f'' = {natural_double_derivative_error_b:.15f}\")"
   ]
  },
  {
   "cell_type": "markdown",
   "id": "d41992e7",
   "metadata": {},
   "source": [
    "#### Caso fixado"
   ]
  },
  {
   "cell_type": "markdown",
   "id": "ab9c4a30",
   "metadata": {},
   "source": [
    "##### Item `a)`"
   ]
  },
  {
   "cell_type": "code",
   "execution_count": 12,
   "id": "1d32fa3d",
   "metadata": {},
   "outputs": [
    {
     "name": "stdout",
     "output_type": "stream",
     "text": [
      "=== SPLINE FIXO - ITEM A ===\n",
      "A função do spline fixo no ponto 0.5 é:\n",
      " (0.7071067811865476 + -2.2163883550375476 * (x - 0.25) + -3.6722326584624123 * (x - 0.25)**2 + 4.896310318511369 * (x - 0.25)**3) \n",
      "\n",
      "Valores calculados:\n",
      "S'(0.5) = -3.134446499547872\n",
      "S''(0.5) = 0.000000160842227\n",
      "\n",
      "Comparação com valores exatos:\n",
      "f'(0.5) exato = -3.141592653589793\n",
      "f'(0.5) spline = -3.134446499547872\n",
      "Erro absoluto f' = 0.007146154041921\n",
      "f''(0.5) exato = 0.000000000000000\n",
      "f''(0.5) spline = 0.000000160842227\n",
      "Erro absoluto f'' = 0.000000160842227\n"
     ]
    }
   ],
   "source": [
    "# Caso fixo - item a)\n",
    "spline_func_0_5_a = get_spline_func_str(0.5, *fixed_coef_a, x_a)\n",
    "derivative_func = get_derivative(spline_func_0_5_a, degree=1)\n",
    "derivative_func_2 = get_derivative(spline_func_0_5_a, degree=2)\n",
    "\n",
    "print(\"=== SPLINE FIXO - ITEM A ===\")\n",
    "print(\"A função do spline fixo no ponto 0.5 é:\\n\", spline_func_0_5_a, \"\\n\")\n",
    "\n",
    "# Avaliação das derivadas\n",
    "f_prime_05_fixed_a = derivative_func(0.5)\n",
    "f_double_prime_05_fixed_a = derivative_func_2(0.5)\n",
    "\n",
    "print(\"Valores calculados:\")\n",
    "print(f\"S'(0.5) = {f_prime_05_fixed_a:.15f}\")\n",
    "print(f\"S''(0.5) = {f_double_prime_05_fixed_a:.15f}\")\n",
    "\n",
    "# Comparação com valores exatos\n",
    "exact_f_prime_05 = -np.pi\n",
    "exact_f_double_prime_05 = 0.0\n",
    "fixed_derivative_error_a = abs(exact_f_prime_05 - f_prime_05_fixed_a)\n",
    "fixed_double_derivative_error_a = abs(exact_f_double_prime_05 - f_double_prime_05_fixed_a)\n",
    "\n",
    "print(\"\\nComparação com valores exatos:\")\n",
    "print(f\"f'(0.5) exato = {exact_f_prime_05:.15f}\")\n",
    "print(f\"f'(0.5) spline = {f_prime_05_fixed_a:.15f}\")\n",
    "print(f\"Erro absoluto f' = {fixed_derivative_error_a:.15f}\")\n",
    "\n",
    "print(f\"f''(0.5) exato = {exact_f_double_prime_05:.15f}\")\n",
    "print(f\"f''(0.5) spline = {f_double_prime_05_fixed_a:.15f}\")\n",
    "print(f\"Erro absoluto f'' = {fixed_double_derivative_error_a:.15f}\")"
   ]
  },
  {
   "cell_type": "markdown",
   "id": "7864d5cd",
   "metadata": {},
   "source": [
    "##### Item `b)`"
   ]
  },
  {
   "cell_type": "code",
   "execution_count": 13,
   "id": "5239b4e8",
   "metadata": {},
   "outputs": [
    {
     "name": "stdout",
     "output_type": "stream",
     "text": [
      "=== SPLINE FIXO - ITEM B ===\n",
      "A função do spline fixo no ponto 0.5 é:\n",
      " (0.3826834323650898 + -2.902062573541427 * (x - 0.375) + -1.9128586477493597 * (x - 0.375)**2 + 5.100956517720243 * (x - 0.375)**3) \n",
      "\n",
      "Valores calculados:\n",
      "S'(0.5) = -3.141169898710630\n",
      "S''(0.5) = 0.000000092791465\n",
      "\n",
      "Comparação com valores exatos:\n",
      "f'(0.5) exato = -3.141592653589793\n",
      "f'(0.5) spline = -3.141169898710630\n",
      "Erro absoluto f' = 0.000422754879163\n",
      "f''(0.5) exato = 0.000000000000000\n",
      "f''(0.5) spline = 0.000000092791465\n",
      "Erro absoluto f'' = 0.000000092791465\n"
     ]
    }
   ],
   "source": [
    "# Caso fixo - item b)\n",
    "spline_func_0_5_b = get_spline_func_str(0.5, *fixed_coef_b, x_b)\n",
    "derivative_func = get_derivative(spline_func_0_5_b, degree=1)\n",
    "derivative_func_2 = get_derivative(spline_func_0_5_b, degree=2)\n",
    "\n",
    "print(\"=== SPLINE FIXO - ITEM B ===\")\n",
    "print(\"A função do spline fixo no ponto 0.5 é:\\n\", spline_func_0_5_b, \"\\n\")\n",
    "\n",
    "# Avaliação das derivadas\n",
    "f_prime_05_fixed_b = derivative_func(0.5)\n",
    "f_double_prime_05_fixed_b = derivative_func_2(0.5)\n",
    "\n",
    "print(\"Valores calculados:\")\n",
    "print(f\"S'(0.5) = {f_prime_05_fixed_b:.15f}\")\n",
    "print(f\"S''(0.5) = {f_double_prime_05_fixed_b:.15f}\")\n",
    "\n",
    "# Comparação com valores exatos\n",
    "exact_f_prime_05 = -np.pi\n",
    "exact_f_double_prime_05 = 0.0\n",
    "fixed_derivative_error_b = abs(exact_f_prime_05 - f_prime_05_fixed_b)\n",
    "fixed_double_derivative_error_b = abs(exact_f_double_prime_05 - f_double_prime_05_fixed_b)\n",
    "\n",
    "print(\"\\nComparação com valores exatos:\")\n",
    "print(f\"f'(0.5) exato = {exact_f_prime_05:.15f}\")\n",
    "print(f\"f'(0.5) spline = {f_prime_05_fixed_b:.15f}\")\n",
    "print(f\"Erro absoluto f' = {fixed_derivative_error_b:.15f}\")\n",
    "\n",
    "print(f\"f''(0.5) exato = {exact_f_double_prime_05:.15f}\")\n",
    "print(f\"f''(0.5) spline = {f_double_prime_05_fixed_b:.15f}\")\n",
    "print(f\"Erro absoluto f'' = {fixed_double_derivative_error_b:.15f}\")"
   ]
  },
  {
   "cell_type": "markdown",
   "id": "695ee842",
   "metadata": {},
   "source": [
    "### e) Baseado nos resultados de `(c)` e `(d)` qual aproximação por Splines oferece melhores resultados. Justifique."
   ]
  },
  {
   "cell_type": "markdown",
   "id": "191feacf",
   "metadata": {},
   "source": [
    "#### Erros dos métodos na integração"
   ]
  },
  {
   "cell_type": "code",
   "execution_count": 16,
   "id": "1cd975e3",
   "metadata": {},
   "outputs": [
    {
     "data": {
      "text/html": [
       "<div>\n",
       "<style scoped>\n",
       "    .dataframe tbody tr th:only-of-type {\n",
       "        vertical-align: middle;\n",
       "    }\n",
       "\n",
       "    .dataframe tbody tr th {\n",
       "        vertical-align: top;\n",
       "    }\n",
       "\n",
       "    .dataframe thead th {\n",
       "        text-align: right;\n",
       "    }\n",
       "</style>\n",
       "<table border=\"1\" class=\"dataframe\">\n",
       "  <thead>\n",
       "    <tr style=\"text-align: right;\">\n",
       "      <th></th>\n",
       "      <th>Method</th>\n",
       "      <th>Integral Error</th>\n",
       "    </tr>\n",
       "  </thead>\n",
       "  <tbody>\n",
       "    <tr>\n",
       "      <th>0</th>\n",
       "      <td>Natural Spline (a)</td>\n",
       "      <td>0.000000e+00</td>\n",
       "    </tr>\n",
       "    <tr>\n",
       "      <th>1</th>\n",
       "      <td>Fixed Spline (a)</td>\n",
       "      <td>1.303118e-10</td>\n",
       "    </tr>\n",
       "    <tr>\n",
       "      <th>2</th>\n",
       "      <td>Natural Spline (b)</td>\n",
       "      <td>9.859669e-12</td>\n",
       "    </tr>\n",
       "    <tr>\n",
       "      <th>3</th>\n",
       "      <td>Fixed Spline (b)</td>\n",
       "      <td>1.646072e-11</td>\n",
       "    </tr>\n",
       "  </tbody>\n",
       "</table>\n",
       "</div>"
      ],
      "text/plain": [
       "               Method  Integral Error\n",
       "0  Natural Spline (a)    0.000000e+00\n",
       "1    Fixed Spline (a)    1.303118e-10\n",
       "2  Natural Spline (b)    9.859669e-12\n",
       "3    Fixed Spline (b)    1.646072e-11"
      ]
     },
     "execution_count": 16,
     "metadata": {},
     "output_type": "execute_result"
    }
   ],
   "source": [
    "integral_errors = np.array([\n",
    "    natural_integral_error_a,\n",
    "    fixed_integral_error_a,\n",
    "    natural_integral_error_b,\n",
    "    fixed_integral_error_b\n",
    "])\n",
    "integral_methods = [\n",
    "    \"Natural Spline (a)\",\n",
    "    \"Fixed Spline (a)\",\n",
    "    \"Natural Spline (b)\",\n",
    "    \"Fixed Spline (b)\"\n",
    "]\n",
    "\n",
    "df_integral = pd.DataFrame({\n",
    "    \"Method\": integral_methods,\n",
    "    \"Integral Error\": integral_errors\n",
    "})\n",
    "\n",
    "df_integral"
   ]
  },
  {
   "cell_type": "markdown",
   "id": "21a0bf16",
   "metadata": {},
   "source": [
    "#### Erros dos métodos na derivação"
   ]
  },
  {
   "cell_type": "code",
   "execution_count": 15,
   "id": "b2a539bd",
   "metadata": {},
   "outputs": [
    {
     "data": {
      "text/html": [
       "<div>\n",
       "<style scoped>\n",
       "    .dataframe tbody tr th:only-of-type {\n",
       "        vertical-align: middle;\n",
       "    }\n",
       "\n",
       "    .dataframe tbody tr th {\n",
       "        vertical-align: top;\n",
       "    }\n",
       "\n",
       "    .dataframe thead th {\n",
       "        text-align: right;\n",
       "    }\n",
       "</style>\n",
       "<table border=\"1\" class=\"dataframe\">\n",
       "  <thead>\n",
       "    <tr style=\"text-align: right;\">\n",
       "      <th></th>\n",
       "      <th>Method</th>\n",
       "      <th>f'(0.5) Error</th>\n",
       "      <th>f''(0.5) Error</th>\n",
       "    </tr>\n",
       "  </thead>\n",
       "  <tbody>\n",
       "    <tr>\n",
       "      <th>0</th>\n",
       "      <td>Natural Spline (a)</td>\n",
       "      <td>0.101048</td>\n",
       "      <td>0.000000e+00</td>\n",
       "    </tr>\n",
       "    <tr>\n",
       "      <th>1</th>\n",
       "      <td>Fixed Spline (a)</td>\n",
       "      <td>0.007146</td>\n",
       "      <td>1.608422e-07</td>\n",
       "    </tr>\n",
       "    <tr>\n",
       "      <th>2</th>\n",
       "      <td>Natural Spline (b)</td>\n",
       "      <td>0.003296</td>\n",
       "      <td>2.924890e-08</td>\n",
       "    </tr>\n",
       "    <tr>\n",
       "      <th>3</th>\n",
       "      <td>Fixed Spline (b)</td>\n",
       "      <td>0.000423</td>\n",
       "      <td>9.279147e-08</td>\n",
       "    </tr>\n",
       "  </tbody>\n",
       "</table>\n",
       "</div>"
      ],
      "text/plain": [
       "               Method  f'(0.5) Error  f''(0.5) Error\n",
       "0  Natural Spline (a)       0.101048    0.000000e+00\n",
       "1    Fixed Spline (a)       0.007146    1.608422e-07\n",
       "2  Natural Spline (b)       0.003296    2.924890e-08\n",
       "3    Fixed Spline (b)       0.000423    9.279147e-08"
      ]
     },
     "execution_count": 15,
     "metadata": {},
     "output_type": "execute_result"
    }
   ],
   "source": [
    "# DataFrame apenas para erros das derivadas\n",
    "derivative_errors = np.array([\n",
    "    natural_derivative_error_a,\n",
    "    fixed_derivative_error_a,\n",
    "    natural_derivative_error_b,\n",
    "    fixed_derivative_error_b\n",
    "], dtype=np.float64)\n",
    "\n",
    "double_derivative_errors = np.array([\n",
    "    natural_double_derivative_error_a,\n",
    "    fixed_double_derivative_error_a,\n",
    "    natural_double_derivative_error_b,\n",
    "    fixed_double_derivative_error_b\n",
    "], dtype=np.float64)\n",
    "\n",
    "derivative_methods = [\n",
    "    \"Natural Spline (a)\",\n",
    "    \"Fixed Spline (a)\",\n",
    "    \"Natural Spline (b)\",\n",
    "    \"Fixed Spline (b)\"\n",
    "]\n",
    "\n",
    "df_derivatives = pd.DataFrame({\n",
    "    \"Method\": derivative_methods,\n",
    "    \"f'(0.5) Error\": derivative_errors,\n",
    "    \"f''(0.5) Error\": double_derivative_errors\n",
    "})\n",
    "\n",
    "# Definindo tipos das colunas\n",
    "df_derivatives = df_derivatives.astype({\n",
    "    'Method': 'string',\n",
    "    \"f'(0.5) Error\": 'float64',\n",
    "    \"f''(0.5) Error\": 'float64'\n",
    "})\n",
    "\n",
    "df_derivatives"
   ]
  }
 ],
 "metadata": {
  "kernelspec": {
   "display_name": ".mn-venv",
   "language": "python",
   "name": "python3"
  },
  "language_info": {
   "codemirror_mode": {
    "name": "ipython",
    "version": 3
   },
   "file_extension": ".py",
   "mimetype": "text/x-python",
   "name": "python",
   "nbconvert_exporter": "python",
   "pygments_lexer": "ipython3",
   "version": "3.13.0"
  }
 },
 "nbformat": 4,
 "nbformat_minor": 5
}
