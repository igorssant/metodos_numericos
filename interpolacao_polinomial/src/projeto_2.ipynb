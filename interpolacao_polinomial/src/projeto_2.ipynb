{
 "cells": [
  {
   "cell_type": "markdown",
   "id": "a7629308",
   "metadata": {},
   "source": [
    "# Projeto 2 de Métodos Numéricos I"
   ]
  },
  {
   "cell_type": "markdown",
   "id": "9a0fc26c",
   "metadata": {},
   "source": [
    "## Importando os pacotes necessários"
   ]
  },
  {
   "cell_type": "code",
   "execution_count": null,
   "id": "82479854",
   "metadata": {},
   "outputs": [],
   "source": [
    "from methods.curve_adjusting import cubic_splines\n",
    "from utils.parser import evaluate_one_variable\n",
    "from numpy.typing import NDArray\n",
    "import numpy as np\n",
    "import sympy as sy"
   ]
  },
  {
   "cell_type": "markdown",
   "id": "961f3fbc",
   "metadata": {},
   "source": [
    "## Exercício"
   ]
  },
  {
   "cell_type": "markdown",
   "id": "b191f4f5",
   "metadata": {},
   "source": [
    "Utilize interpolação polinomial por partes para obter uma aproximação para a função `f(x) = cos(πx)` no intervalo `[0, 1]`, considere as alternativas:\n",
    "- Spline cúbico natural ou livre\n",
    "- Spline fixado\n",
    "\n",
    "Para ambos os casos:"
   ]
  },
  {
   "cell_type": "markdown",
   "id": "f282ef95",
   "metadata": {},
   "source": [
    "### a) Considere os seguintes pontos `x = 0; 0,25; 0,5; 0,75 e 1,0`"
   ]
  },
  {
   "cell_type": "code",
   "execution_count": null,
   "id": "7bc67a89",
   "metadata": {},
   "outputs": [],
   "source": []
  },
  {
   "cell_type": "markdown",
   "id": "08e8aefc",
   "metadata": {},
   "source": [
    "### b) Considere os seguintes pontos `x = 0; 0,125; 0,250; 0,375, 0,5; 0,625; 0,75; 0,875 e 1.0`"
   ]
  },
  {
   "cell_type": "code",
   "execution_count": null,
   "id": "0c2cd2fc",
   "metadata": {},
   "outputs": [],
   "source": []
  },
  {
   "cell_type": "markdown",
   "id": "b77392d9",
   "metadata": {},
   "source": [
    "### c) Para os itens `(a)` e `(b)`, integre o Spline no intervalo `[0, 1]` e compare com o valor exato da integral da função `f(x)`"
   ]
  },
  {
   "cell_type": "code",
   "execution_count": null,
   "id": "8cd350ee",
   "metadata": {},
   "outputs": [],
   "source": []
  },
  {
   "cell_type": "markdown",
   "id": "c56487a7",
   "metadata": {},
   "source": [
    "### d) Para os itens `(a)` e `(b)`, calcule as derivadas do Spline e obtenha uma aproximação de `f′(0,5)` e `f′′(0,5)` compare os resultados com os valores reais"
   ]
  },
  {
   "cell_type": "code",
   "execution_count": null,
   "id": "27bfaa80",
   "metadata": {},
   "outputs": [],
   "source": []
  },
  {
   "cell_type": "markdown",
   "id": "695ee842",
   "metadata": {},
   "source": [
    "### e) Baseado nos resultados de `(c)` e `(d)` qual aproxima ̧c ̃ao por Splines oferece melhores resultados. Justifique."
   ]
  },
  {
   "cell_type": "code",
   "execution_count": null,
   "id": "b2a539bd",
   "metadata": {},
   "outputs": [],
   "source": []
  }
 ],
 "metadata": {
  "kernelspec": {
   "display_name": ".mn-venv",
   "language": "python",
   "name": "python3"
  },
  "language_info": {
   "name": "python",
   "version": "3.13.0"
  }
 },
 "nbformat": 4,
 "nbformat_minor": 5
}
