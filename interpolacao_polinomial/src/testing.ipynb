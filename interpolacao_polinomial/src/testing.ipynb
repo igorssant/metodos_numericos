{
 "cells": [
  {
   "cell_type": "markdown",
   "id": "0e8d98ef",
   "metadata": {},
   "source": [
    "# Notebook de testes"
   ]
  },
  {
   "cell_type": "markdown",
   "id": "fae7aa07",
   "metadata": {},
   "source": [
    "## Importando os pacotes"
   ]
  },
  {
   "cell_type": "code",
   "execution_count": 1,
   "id": "a62fe01b",
   "metadata": {},
   "outputs": [],
   "source": [
    "from methods.curve_adjusting import natural_splines\n",
    "from methods.polynomial_interpolation import *\n",
    "from utils.parser import evaluate_one_variable\n",
    "from numpy.typing import NDArray\n",
    "import numpy as np\n",
    "import sympy as sy"
   ]
  },
  {
   "cell_type": "markdown",
   "id": "abdd8e2e",
   "metadata": {},
   "source": [
    "## Dados para testes"
   ]
  },
  {
   "cell_type": "code",
   "execution_count": 2,
   "id": "b1c2e9fd",
   "metadata": {},
   "outputs": [
    {
     "name": "stdout",
     "output_type": "stream",
     "text": [
      "pontos x:  [2.  2.5 4. ]\n",
      "pontos f(x):  [0.5  0.4  0.25]\n"
     ]
    }
   ],
   "source": [
    "func:str = \"1/x\"\n",
    "degree:int = 2\n",
    "points:NDArray = np.array([2, 2.5, 4], dtype=np.float64)\n",
    "pointwise_matrix:NDArray = np.array([points,\n",
    "                                     [evaluate_one_variable(func, point) for point in points]],\n",
    "                                    dtype=np.float64)\n",
    "print(\"pontos x: \", pointwise_matrix[0, :])\n",
    "print(\"pontos f(x): \", pointwise_matrix[1, :])"
   ]
  },
  {
   "cell_type": "markdown",
   "id": "a235336b",
   "metadata": {},
   "source": [
    "## Newton"
   ]
  },
  {
   "cell_type": "code",
   "execution_count": 3,
   "id": "6e5f8c32",
   "metadata": {},
   "outputs": [
    {
     "data": {
      "text/plain": [
       "(np.float64(0.45699999999999996), array([0.04 , 0.003]))"
      ]
     },
     "execution_count": 3,
     "metadata": {},
     "output_type": "execute_result"
    }
   ],
   "source": [
    "newton_interpolation(pointwise_matrix, np.float64(2.2))"
   ]
  },
  {
   "cell_type": "markdown",
   "id": "58119aa1",
   "metadata": {},
   "source": [
    "## Lagrange"
   ]
  },
  {
   "cell_type": "code",
   "execution_count": 4,
   "id": "80ae1f47",
   "metadata": {},
   "outputs": [
    {
     "name": "stdout",
     "output_type": "stream",
     "text": [
      "2.2  ::  0.45699999999999996\n",
      "3.5  ::  0.275\n"
     ]
    }
   ],
   "source": [
    "estimate_points:NDArray = np.array([2.2, 3.5], dtype=np.float64)\n",
    "\n",
    "for point in estimate_points:\n",
    "    print(point, \" :: \", lagrange_interpolation(pointwise_matrix, point), end=\"\\n\")"
   ]
  },
  {
   "cell_type": "markdown",
   "id": "7b7ce954",
   "metadata": {},
   "source": [
    "## SPLines"
   ]
  },
  {
   "cell_type": "code",
   "execution_count": 5,
   "id": "37ff23ad",
   "metadata": {},
   "outputs": [
    {
     "name": "stdout",
     "output_type": "stream",
     "text": [
      "N :  3\n",
      "Vetor h\n",
      " [1. 1. 1.]\n",
      "Matriz A\n",
      " [[1. 0. 0. 0.]\n",
      " [1. 4. 1. 0.]\n",
      " [0. 1. 4. 1.]\n",
      " [0. 0. 0. 1.]]\n",
      "Matriz B\n",
      " [ 0.         24.32201378  8.85747733  0.        ]\n"
     ]
    },
    {
     "data": {
      "text/plain": [
       "(array([1.        , 2.71828183, 7.3890561 ]),\n",
       " array([ 0.        , -0.24684212,  0.        ]),\n",
       " array([0.        , 5.89537185, 0.74052637, 0.        ]),\n",
       " array([ 0.        , -1.71828183,  0.        ]))"
      ]
     },
     "execution_count": 5,
     "metadata": {},
     "output_type": "execute_result"
    }
   ],
   "source": [
    "natural_splines(\n",
    "    np.array([0, 1, 2, 3], dtype=np.float64),\n",
    "    np.array([1, np.e, np.e**2, np.e**3], dtype=np.float64)\n",
    ")"
   ]
  }
 ],
 "metadata": {
  "kernelspec": {
   "display_name": ".mn-venv",
   "language": "python",
   "name": "python3"
  },
  "language_info": {
   "codemirror_mode": {
    "name": "ipython",
    "version": 3
   },
   "file_extension": ".py",
   "mimetype": "text/x-python",
   "name": "python",
   "nbconvert_exporter": "python",
   "pygments_lexer": "ipython3",
   "version": "3.13.0"
  }
 },
 "nbformat": 4,
 "nbformat_minor": 5
}
