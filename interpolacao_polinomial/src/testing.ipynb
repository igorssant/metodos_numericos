{
 "cells": [
  {
   "cell_type": "markdown",
   "id": "0e8d98ef",
   "metadata": {},
   "source": [
    "# Notebook de testes"
   ]
  },
  {
   "cell_type": "markdown",
   "id": "fae7aa07",
   "metadata": {},
   "source": [
    "## Importando os pacotes"
   ]
  },
  {
   "cell_type": "code",
   "execution_count": 1,
   "id": "a62fe01b",
   "metadata": {},
   "outputs": [],
   "source": [
    "from methods.curve_adjusting import natural_splines\n",
    "from methods.polynomial_interpolation import *\n",
    "from utils.parser import evaluate_one_variable\n",
    "from numpy.typing import NDArray\n",
    "import numpy as np\n",
    "import sympy as sy"
   ]
  },
  {
   "cell_type": "markdown",
   "id": "abdd8e2e",
   "metadata": {},
   "source": [
    "## Dados para testes"
   ]
  },
  {
   "cell_type": "code",
   "execution_count": 2,
   "id": "b1c2e9fd",
   "metadata": {},
   "outputs": [
    {
     "name": "stdout",
     "output_type": "stream",
     "text": [
      "pontos x:  [2.  2.5 4. ]\n",
      "pontos f(x):  [0.5  0.4  0.25]\n"
     ]
    }
   ],
   "source": [
    "func:str = \"1/x\"\n",
    "degree:int = 2\n",
    "points:NDArray = np.array([2, 2.5, 4], dtype=np.float64)\n",
    "pointwise_matrix:NDArray = np.array([points,\n",
    "                                     [evaluate_one_variable(func, point) for point in points]],\n",
    "                                    dtype=np.float64)\n",
    "print(\"pontos x: \", pointwise_matrix[0, :])\n",
    "print(\"pontos f(x): \", pointwise_matrix[1, :])"
   ]
  },
  {
   "cell_type": "markdown",
   "id": "a235336b",
   "metadata": {},
   "source": [
    "## Newton"
   ]
  },
  {
   "cell_type": "code",
   "execution_count": 3,
   "id": "6e5f8c32",
   "metadata": {},
   "outputs": [
    {
     "data": {
      "text/plain": [
       "(np.float64(0.45699999999999996), array([0.04 , 0.003]))"
      ]
     },
     "execution_count": 3,
     "metadata": {},
     "output_type": "execute_result"
    }
   ],
   "source": [
    "newton_interpolation(pointwise_matrix, np.float64(2.2))"
   ]
  },
  {
   "cell_type": "markdown",
   "id": "58119aa1",
   "metadata": {},
   "source": [
    "## Lagrange"
   ]
  },
  {
   "cell_type": "code",
   "execution_count": 4,
   "id": "80ae1f47",
   "metadata": {},
   "outputs": [
    {
     "name": "stdout",
     "output_type": "stream",
     "text": [
      "2.2  ::  0.45699999999999996\n",
      "3.5  ::  0.275\n"
     ]
    }
   ],
   "source": [
    "estimate_points:NDArray = np.array([2.2, 3.5], dtype=np.float64)\n",
    "\n",
    "for point in estimate_points:\n",
    "    print(point, \" :: \", lagrange_interpolation(pointwise_matrix, point), end=\"\\n\")"
   ]
  },
  {
   "cell_type": "markdown",
   "id": "7b7ce954",
   "metadata": {},
   "source": [
    "## SPLines"
   ]
  },
  {
   "cell_type": "code",
   "execution_count": 5,
   "id": "37ff23ad",
   "metadata": {},
   "outputs": [
    {
     "name": "stdout",
     "output_type": "stream",
     "text": [
      "Vetor h\n",
      " [1. 1. 1.]\n",
      "Matriz A\n",
      " [[1. 0. 0. 0.]\n",
      " [1. 4. 1. 0.]\n",
      " [0. 0. 0. 0.]\n",
      " [0. 0. 0. 1.]]\n",
      "Matriz B\n",
      " [0.         5.01232281 0.         0.        ]\n"
     ]
    },
    {
     "ename": "ValueError",
     "evalue": "Elemento nulo encontrado na diagonal.",
     "output_type": "error",
     "traceback": [
      "\u001b[31m---------------------------------------------------------------------------\u001b[39m",
      "\u001b[31mValueError\u001b[39m                                Traceback (most recent call last)",
      "\u001b[36mCell\u001b[39m\u001b[36m \u001b[39m\u001b[32mIn[5]\u001b[39m\u001b[32m, line 1\u001b[39m\n\u001b[32m----> \u001b[39m\u001b[32m1\u001b[39m \u001b[43mnatural_splines\u001b[49m\u001b[43m(\u001b[49m\n\u001b[32m      2\u001b[39m \u001b[43m    \u001b[49m\u001b[43mnp\u001b[49m\u001b[43m.\u001b[49m\u001b[43marray\u001b[49m\u001b[43m(\u001b[49m\u001b[43m[\u001b[49m\u001b[32;43m0\u001b[39;49m\u001b[43m,\u001b[49m\u001b[43m \u001b[49m\u001b[32;43m1\u001b[39;49m\u001b[43m,\u001b[49m\u001b[43m \u001b[49m\u001b[32;43m2\u001b[39;49m\u001b[43m,\u001b[49m\u001b[43m \u001b[49m\u001b[32;43m3\u001b[39;49m\u001b[43m]\u001b[49m\u001b[43m,\u001b[49m\u001b[43m \u001b[49m\u001b[43mdtype\u001b[49m\u001b[43m=\u001b[49m\u001b[43mnp\u001b[49m\u001b[43m.\u001b[49m\u001b[43mfloat64\u001b[49m\u001b[43m)\u001b[49m\u001b[43m,\u001b[49m\n\u001b[32m      3\u001b[39m \u001b[43m    \u001b[49m\u001b[43mnp\u001b[49m\u001b[43m.\u001b[49m\u001b[43marray\u001b[49m\u001b[43m(\u001b[49m\u001b[43m[\u001b[49m\u001b[32;43m1\u001b[39;49m\u001b[43m,\u001b[49m\u001b[43m \u001b[49m\u001b[43mnp\u001b[49m\u001b[43m.\u001b[49m\u001b[43me\u001b[49m\u001b[43m,\u001b[49m\u001b[43m \u001b[49m\u001b[43mnp\u001b[49m\u001b[43m.\u001b[49m\u001b[43me\u001b[49m\u001b[43m*\u001b[49m\u001b[43m*\u001b[49m\u001b[32;43m2\u001b[39;49m\u001b[43m,\u001b[49m\u001b[43m \u001b[49m\u001b[43mnp\u001b[49m\u001b[43m.\u001b[49m\u001b[43me\u001b[49m\u001b[43m*\u001b[49m\u001b[43m*\u001b[49m\u001b[32;43m3\u001b[39;49m\u001b[43m]\u001b[49m\u001b[43m,\u001b[49m\u001b[43m \u001b[49m\u001b[43mdtype\u001b[49m\u001b[43m=\u001b[49m\u001b[43mnp\u001b[49m\u001b[43m.\u001b[49m\u001b[43mfloat64\u001b[49m\u001b[43m)\u001b[49m\n\u001b[32m      4\u001b[39m \u001b[43m)\u001b[49m\n",
      "\u001b[36mFile \u001b[39m\u001b[32m~/Documents/UESC/ppgmc/analiseNumerica/metodos_numericos/interpolacao_polinomial/src/methods/curve_adjusting.py:50\u001b[39m, in \u001b[36mnatural_splines\u001b[39m\u001b[34m(X, Y)\u001b[39m\n\u001b[32m     47\u001b[39m \u001b[38;5;28mprint\u001b[39m(\u001b[33m\"\u001b[39m\u001b[33mMatriz B\u001b[39m\u001b[38;5;130;01m\\n\u001b[39;00m\u001b[33m\"\u001b[39m, B)\n\u001b[32m     48\u001b[39m augmented_matrix = get_augmented_matrix(A, B)\n\u001b[32m---> \u001b[39m\u001b[32m50\u001b[39m c = \u001b[43mgauss_seidel\u001b[49m\u001b[43m(\u001b[49m\u001b[43maugmented_matrix\u001b[49m\u001b[43m,\u001b[49m\u001b[43m \u001b[49m\u001b[32;43m1e-8\u001b[39;49m\u001b[43m,\u001b[49m\u001b[43m \u001b[49m\u001b[32;43m500\u001b[39;49m\u001b[43m)\u001b[49m\n\u001b[32m     52\u001b[39m \u001b[38;5;28;01mfor\u001b[39;00m j \u001b[38;5;129;01min\u001b[39;00m \u001b[38;5;28mrange\u001b[39m(\u001b[32m1\u001b[39m, n - \u001b[32m1\u001b[39m):\n\u001b[32m     53\u001b[39m     b[j] = (\u001b[32m1\u001b[39m / h[j - \u001b[32m1\u001b[39m]) * (a[j] - a[j - \u001b[32m1\u001b[39m]) - (h[j - \u001b[32m1\u001b[39m] / \u001b[32m3\u001b[39m) * (\u001b[32m2\u001b[39m * c[j - \u001b[32m1\u001b[39m] + c[j])\n",
      "\u001b[36mFile \u001b[39m\u001b[32m~/Documents/UESC/ppgmc/analiseNumerica/metodos_numericos/interpolacao_polinomial/src/utils/gauss_seidel.py:73\u001b[39m, in \u001b[36mgauss_seidel\u001b[39m\u001b[34m(augmented_matrix, tol, max_iter)\u001b[39m\n\u001b[32m     69\u001b[39m         solution[i] = (matrix[i, -\u001b[32m1\u001b[39m] - sum_value) / matrix[i, i]\n\u001b[32m     71\u001b[39m     \u001b[38;5;28;01mreturn\u001b[39;00m solution\n\u001b[32m---> \u001b[39m\u001b[32m73\u001b[39m \u001b[38;5;28;01mreturn\u001b[39;00m \u001b[43miterative_method\u001b[49m\u001b[43m(\u001b[49m\n\u001b[32m     74\u001b[39m \u001b[43m    \u001b[49m\u001b[43maugmented_matrix\u001b[49m\u001b[43m,\u001b[49m\n\u001b[32m     75\u001b[39m \u001b[43m    \u001b[49m\u001b[43mtol\u001b[49m\u001b[43m,\u001b[49m\n\u001b[32m     76\u001b[39m \u001b[43m    \u001b[49m\u001b[43mmax_iter\u001b[49m\u001b[43m,\u001b[49m\n\u001b[32m     77\u001b[39m \u001b[43m    \u001b[49m\u001b[43mcalculate_solution_gs\u001b[49m\u001b[43m,\u001b[49m\n\u001b[32m     78\u001b[39m \u001b[43m    \u001b[49m\u001b[33;43m\"\u001b[39;49m\u001b[33;43mO método de Gauss-Seidel\u001b[39;49m\u001b[33;43m\"\u001b[39;49m\u001b[43m,\u001b[49m\n\u001b[32m     79\u001b[39m \u001b[43m\u001b[49m\u001b[43m)\u001b[49m\n",
      "\u001b[36mFile \u001b[39m\u001b[32m~/Documents/UESC/ppgmc/analiseNumerica/metodos_numericos/interpolacao_polinomial/src/utils/gauss_seidel.py:100\u001b[39m, in \u001b[36miterative_method\u001b[39m\u001b[34m(augmented_matrix, tol, max_iter, calculate_solution_func, method_name)\u001b[39m\n\u001b[32m     98\u001b[39m n: \u001b[38;5;28mint\u001b[39m = augmented_matrix.shape[\u001b[32m0\u001b[39m]\n\u001b[32m     99\u001b[39m iter_count: \u001b[38;5;28mint\u001b[39m = \u001b[32m0\u001b[39m\n\u001b[32m--> \u001b[39m\u001b[32m100\u001b[39m previous_solution: NDArray = \u001b[43mcalculate_initial_solution\u001b[49m\u001b[43m(\u001b[49m\u001b[43maugmented_matrix\u001b[49m\u001b[43m)\u001b[49m\n\u001b[32m    101\u001b[39m current_solution: NDArray = np.zeros(n, dtype=np.float64)\n\u001b[32m    103\u001b[39m \u001b[38;5;28;01mwhile\u001b[39;00m iter_count < max_iter:\n",
      "\u001b[36mFile \u001b[39m\u001b[32m~/Documents/UESC/ppgmc/analiseNumerica/metodos_numericos/interpolacao_polinomial/src/utils/gauss_seidel.py:45\u001b[39m, in \u001b[36mcalculate_initial_solution\u001b[39m\u001b[34m(augmented_matrix)\u001b[39m\n\u001b[32m     43\u001b[39m \u001b[38;5;28;01mfor\u001b[39;00m i \u001b[38;5;129;01min\u001b[39;00m \u001b[38;5;28mrange\u001b[39m(n):\n\u001b[32m     44\u001b[39m     \u001b[38;5;28;01mif\u001b[39;00m augmented_matrix[i, i] == \u001b[32m0\u001b[39m:\n\u001b[32m---> \u001b[39m\u001b[32m45\u001b[39m         \u001b[38;5;28;01mraise\u001b[39;00m \u001b[38;5;167;01mValueError\u001b[39;00m(\u001b[33m\"\u001b[39m\u001b[33mElemento nulo encontrado na diagonal.\u001b[39m\u001b[33m\"\u001b[39m)\n\u001b[32m     47\u001b[39m     initial_guess[i] = augmented_matrix[i, -\u001b[32m1\u001b[39m] / augmented_matrix[i, i]\n\u001b[32m     49\u001b[39m \u001b[38;5;28;01mreturn\u001b[39;00m initial_guess\n",
      "\u001b[31mValueError\u001b[39m: Elemento nulo encontrado na diagonal."
     ]
    }
   ],
   "source": [
    "natural_splines(\n",
    "    np.array([0, 1, 2, 3], dtype=np.float64),\n",
    "    np.array([1, np.e, np.e**2, np.e**3], dtype=np.float64)\n",
    ")"
   ]
  }
 ],
 "metadata": {
  "kernelspec": {
   "display_name": ".mn-venv",
   "language": "python",
   "name": "python3"
  },
  "language_info": {
   "codemirror_mode": {
    "name": "ipython",
    "version": 3
   },
   "file_extension": ".py",
   "mimetype": "text/x-python",
   "name": "python",
   "nbconvert_exporter": "python",
   "pygments_lexer": "ipython3",
   "version": "3.13.0"
  }
 },
 "nbformat": 4,
 "nbformat_minor": 5
}
