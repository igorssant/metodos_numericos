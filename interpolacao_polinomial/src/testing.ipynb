{
 "cells": [
  {
   "cell_type": "markdown",
   "id": "0e8d98ef",
   "metadata": {},
   "source": [
    "# Notebook de testes"
   ]
  },
  {
   "cell_type": "markdown",
   "id": "fae7aa07",
   "metadata": {},
   "source": [
    "## Importando os pacotes"
   ]
  },
  {
   "cell_type": "code",
   "execution_count": 1,
   "id": "a62fe01b",
   "metadata": {},
   "outputs": [],
   "source": [
    "from methods.curve_adjusting import cubic_splines\n",
    "from methods.polynomial_interpolation import *\n",
    "from utils.parser import evaluate_one_variable\n",
    "from numpy.typing import NDArray\n",
    "import numpy as np\n",
    "import sympy as sy"
   ]
  },
  {
   "cell_type": "markdown",
   "id": "abdd8e2e",
   "metadata": {},
   "source": [
    "## Dados para testes"
   ]
  },
  {
   "cell_type": "code",
   "execution_count": 2,
   "id": "b1c2e9fd",
   "metadata": {},
   "outputs": [
    {
     "name": "stdout",
     "output_type": "stream",
     "text": [
      "pontos x:  [2.  2.5 4. ]\n",
      "pontos f(x):  [0.5  0.4  0.25]\n"
     ]
    }
   ],
   "source": [
    "func:str = \"1/x\"\n",
    "degree:int = 2\n",
    "points:NDArray = np.array([2, 2.5, 4], dtype=np.float64)\n",
    "pointwise_matrix:NDArray = np.array([points,\n",
    "                                     [evaluate_one_variable(func, point) for point in points]],\n",
    "                                    dtype=np.float64)\n",
    "print(\"pontos x: \", pointwise_matrix[0, :])\n",
    "print(\"pontos f(x): \", pointwise_matrix[1, :])"
   ]
  },
  {
   "cell_type": "markdown",
   "id": "a235336b",
   "metadata": {},
   "source": [
    "## Newton"
   ]
  },
  {
   "cell_type": "code",
   "execution_count": 3,
   "id": "6e5f8c32",
   "metadata": {},
   "outputs": [
    {
     "data": {
      "text/plain": [
       "(np.float64(0.45699999999999996), array([0.04 , 0.003]))"
      ]
     },
     "execution_count": 3,
     "metadata": {},
     "output_type": "execute_result"
    }
   ],
   "source": [
    "newton_interpolation(pointwise_matrix, np.float64(2.2))"
   ]
  },
  {
   "cell_type": "markdown",
   "id": "58119aa1",
   "metadata": {},
   "source": [
    "## Lagrange"
   ]
  },
  {
   "cell_type": "code",
   "execution_count": 4,
   "id": "80ae1f47",
   "metadata": {},
   "outputs": [
    {
     "name": "stdout",
     "output_type": "stream",
     "text": [
      "2.2  ::  0.45699999999999996\n",
      "3.5  ::  0.275\n"
     ]
    }
   ],
   "source": [
    "estimate_points:NDArray = np.array([2.2, 3.5], dtype=np.float64)\n",
    "\n",
    "for point in estimate_points:\n",
    "    print(point, \" :: \", lagrange_interpolation(pointwise_matrix, point), end=\"\\n\")"
   ]
  },
  {
   "cell_type": "markdown",
   "id": "7b7ce954",
   "metadata": {},
   "source": [
    "## SPLines"
   ]
  },
  {
   "cell_type": "code",
   "execution_count": 5,
   "id": "37ff23ad",
   "metadata": {},
   "outputs": [
    {
     "data": {
      "text/plain": [
       "(array([1.        , 2.71828183, 7.3890561 ]),\n",
       " array([1.46599763, 2.22285028, 8.80976965]),\n",
       " array([0.        , 0.7568526 , 5.83006677]),\n",
       " array([ 0.2522842 ,  1.69107139, -1.94335559]))"
      ]
     },
     "execution_count": 5,
     "metadata": {},
     "output_type": "execute_result"
    }
   ],
   "source": [
    "cubic_splines(\n",
    "    np.array([0, 1, 2, 3], dtype=np.float64),\n",
    "    np.array([1, np.e, np.e**2, np.e**3], dtype=np.float64)\n",
    ")"
   ]
  },
  {
   "cell_type": "code",
   "execution_count": 6,
   "id": "a0d68db1",
   "metadata": {},
   "outputs": [
    {
     "data": {
      "text/plain": [
       "(array([1.        , 2.71828183, 7.3890561 ]),\n",
       " array([0.2437754 , 2.66729471, 8.2542141 ]),\n",
       " array([2.        , 0.4235193 , 5.16340009]),\n",
       " array([-0.52549357,  1.57996026, -0.72113336]))"
      ]
     },
     "execution_count": 6,
     "metadata": {},
     "output_type": "execute_result"
    }
   ],
   "source": [
    "cubic_splines(\n",
    "    np.array([0, 1, 2, 3], dtype=np.float64),\n",
    "    np.array([1, np.e, np.e**2, np.e**3], dtype=np.float64),\n",
    "    dx_0 = np.float64(2.0),\n",
    "    dx_n = np.float64(3.0),\n",
    ")"
   ]
  },
  {
   "cell_type": "code",
   "execution_count": 7,
   "id": "d2dd5b1d",
   "metadata": {},
   "outputs": [
    {
     "ename": "RuntimeError",
     "evalue": "\n                           Para utilizar os SPLines fixados\n                           as derivadas *dx_0* e *dx_n* devem ser\n                           definidas.\n                           ",
     "output_type": "error",
     "traceback": [
      "\u001b[31m---------------------------------------------------------------------------\u001b[39m",
      "\u001b[31mRuntimeError\u001b[39m                              Traceback (most recent call last)",
      "\u001b[36mCell\u001b[39m\u001b[36m \u001b[39m\u001b[32mIn[7]\u001b[39m\u001b[32m, line 1\u001b[39m\n\u001b[32m----> \u001b[39m\u001b[32m1\u001b[39m \u001b[43mcubic_splines\u001b[49m\u001b[43m(\u001b[49m\n\u001b[32m      2\u001b[39m \u001b[43m    \u001b[49m\u001b[43mnp\u001b[49m\u001b[43m.\u001b[49m\u001b[43marray\u001b[49m\u001b[43m(\u001b[49m\u001b[43m[\u001b[49m\u001b[32;43m0\u001b[39;49m\u001b[43m,\u001b[49m\u001b[43m \u001b[49m\u001b[32;43m1\u001b[39;49m\u001b[43m,\u001b[49m\u001b[43m \u001b[49m\u001b[32;43m2\u001b[39;49m\u001b[43m,\u001b[49m\u001b[43m \u001b[49m\u001b[32;43m3\u001b[39;49m\u001b[43m]\u001b[49m\u001b[43m,\u001b[49m\u001b[43m \u001b[49m\u001b[43mdtype\u001b[49m\u001b[43m=\u001b[49m\u001b[43mnp\u001b[49m\u001b[43m.\u001b[49m\u001b[43mfloat64\u001b[49m\u001b[43m)\u001b[49m\u001b[43m,\u001b[49m\n\u001b[32m      3\u001b[39m \u001b[43m    \u001b[49m\u001b[43mnp\u001b[49m\u001b[43m.\u001b[49m\u001b[43marray\u001b[49m\u001b[43m(\u001b[49m\u001b[43m[\u001b[49m\u001b[32;43m1\u001b[39;49m\u001b[43m,\u001b[49m\u001b[43m \u001b[49m\u001b[43mnp\u001b[49m\u001b[43m.\u001b[49m\u001b[43me\u001b[49m\u001b[43m,\u001b[49m\u001b[43m \u001b[49m\u001b[43mnp\u001b[49m\u001b[43m.\u001b[49m\u001b[43me\u001b[49m\u001b[43m*\u001b[49m\u001b[43m*\u001b[49m\u001b[32;43m2\u001b[39;49m\u001b[43m,\u001b[49m\u001b[43m \u001b[49m\u001b[43mnp\u001b[49m\u001b[43m.\u001b[49m\u001b[43me\u001b[49m\u001b[43m*\u001b[49m\u001b[43m*\u001b[49m\u001b[32;43m3\u001b[39;49m\u001b[43m]\u001b[49m\u001b[43m,\u001b[49m\u001b[43m \u001b[49m\u001b[43mdtype\u001b[49m\u001b[43m=\u001b[49m\u001b[43mnp\u001b[49m\u001b[43m.\u001b[49m\u001b[43mfloat64\u001b[49m\u001b[43m)\u001b[49m\u001b[43m,\u001b[49m\n\u001b[32m      4\u001b[39m \u001b[43m    \u001b[49m\u001b[43mdx_0\u001b[49m\u001b[43m \u001b[49m\u001b[43m=\u001b[49m\u001b[43m \u001b[49m\u001b[43mnp\u001b[49m\u001b[43m.\u001b[49m\u001b[43mfloat64\u001b[49m\u001b[43m(\u001b[49m\u001b[32;43m2.0\u001b[39;49m\u001b[43m)\u001b[49m\n\u001b[32m      5\u001b[39m \u001b[43m)\u001b[49m\n",
      "\u001b[36mFile \u001b[39m\u001b[32m~/Documents/UESC/ppgmc/analiseNumerica/metodos_numericos/interpolacao_polinomial/src/methods/curve_adjusting.py:137\u001b[39m, in \u001b[36mcubic_splines\u001b[39m\u001b[34m(X, Y, dx_0, dx_n)\u001b[39m\n\u001b[32m    135\u001b[39m     \u001b[38;5;28;01mreturn\u001b[39;00m fixed_splines(X, Y, dx_0=dx_0, dx_n=dx_n)\n\u001b[32m    136\u001b[39m \u001b[38;5;28;01melse\u001b[39;00m:\n\u001b[32m--> \u001b[39m\u001b[32m137\u001b[39m     \u001b[38;5;28;01mraise\u001b[39;00m \u001b[38;5;167;01mRuntimeError\u001b[39;00m(\u001b[33m\"\"\"\u001b[39m\n\u001b[32m    138\u001b[39m \u001b[33m                       Para utilizar os SPLines fixados\u001b[39m\n\u001b[32m    139\u001b[39m \u001b[33m                       as derivadas *dx_0* e *dx_n* devem ser\u001b[39m\n\u001b[32m    140\u001b[39m \u001b[33m                       definidas.\u001b[39m\n\u001b[32m    141\u001b[39m \u001b[33m                       \u001b[39m\u001b[33m\"\"\"\u001b[39m)\n",
      "\u001b[31mRuntimeError\u001b[39m: \n                           Para utilizar os SPLines fixados\n                           as derivadas *dx_0* e *dx_n* devem ser\n                           definidas.\n                           "
     ]
    }
   ],
   "source": [
    "cubic_splines(\n",
    "    np.array([0, 1, 2, 3], dtype=np.float64),\n",
    "    np.array([1, np.e, np.e**2, np.e**3], dtype=np.float64),\n",
    "    dx_0 = np.float64(2.0)\n",
    ")"
   ]
  },
  {
   "cell_type": "code",
   "execution_count": 8,
   "id": "3b2f0bae",
   "metadata": {},
   "outputs": [
    {
     "ename": "RuntimeError",
     "evalue": "\n                           Para utilizar os SPLines fixados\n                           as derivadas *dx_0* e *dx_n* devem ser\n                           definidas.\n                           ",
     "output_type": "error",
     "traceback": [
      "\u001b[31m---------------------------------------------------------------------------\u001b[39m",
      "\u001b[31mRuntimeError\u001b[39m                              Traceback (most recent call last)",
      "\u001b[36mCell\u001b[39m\u001b[36m \u001b[39m\u001b[32mIn[8]\u001b[39m\u001b[32m, line 1\u001b[39m\n\u001b[32m----> \u001b[39m\u001b[32m1\u001b[39m \u001b[43mcubic_splines\u001b[49m\u001b[43m(\u001b[49m\n\u001b[32m      2\u001b[39m \u001b[43m    \u001b[49m\u001b[43mnp\u001b[49m\u001b[43m.\u001b[49m\u001b[43marray\u001b[49m\u001b[43m(\u001b[49m\u001b[43m[\u001b[49m\u001b[32;43m0\u001b[39;49m\u001b[43m,\u001b[49m\u001b[43m \u001b[49m\u001b[32;43m1\u001b[39;49m\u001b[43m,\u001b[49m\u001b[43m \u001b[49m\u001b[32;43m2\u001b[39;49m\u001b[43m,\u001b[49m\u001b[43m \u001b[49m\u001b[32;43m3\u001b[39;49m\u001b[43m]\u001b[49m\u001b[43m,\u001b[49m\u001b[43m \u001b[49m\u001b[43mdtype\u001b[49m\u001b[43m=\u001b[49m\u001b[43mnp\u001b[49m\u001b[43m.\u001b[49m\u001b[43mfloat64\u001b[49m\u001b[43m)\u001b[49m\u001b[43m,\u001b[49m\n\u001b[32m      3\u001b[39m \u001b[43m    \u001b[49m\u001b[43mnp\u001b[49m\u001b[43m.\u001b[49m\u001b[43marray\u001b[49m\u001b[43m(\u001b[49m\u001b[43m[\u001b[49m\u001b[32;43m1\u001b[39;49m\u001b[43m,\u001b[49m\u001b[43m \u001b[49m\u001b[43mnp\u001b[49m\u001b[43m.\u001b[49m\u001b[43me\u001b[49m\u001b[43m,\u001b[49m\u001b[43m \u001b[49m\u001b[43mnp\u001b[49m\u001b[43m.\u001b[49m\u001b[43me\u001b[49m\u001b[43m*\u001b[49m\u001b[43m*\u001b[49m\u001b[32;43m2\u001b[39;49m\u001b[43m,\u001b[49m\u001b[43m \u001b[49m\u001b[43mnp\u001b[49m\u001b[43m.\u001b[49m\u001b[43me\u001b[49m\u001b[43m*\u001b[49m\u001b[43m*\u001b[49m\u001b[32;43m3\u001b[39;49m\u001b[43m]\u001b[49m\u001b[43m,\u001b[49m\u001b[43m \u001b[49m\u001b[43mdtype\u001b[49m\u001b[43m=\u001b[49m\u001b[43mnp\u001b[49m\u001b[43m.\u001b[49m\u001b[43mfloat64\u001b[49m\u001b[43m)\u001b[49m\u001b[43m,\u001b[49m\n\u001b[32m      4\u001b[39m \u001b[43m    \u001b[49m\u001b[43mdx_n\u001b[49m\u001b[43m \u001b[49m\u001b[43m=\u001b[49m\u001b[43m \u001b[49m\u001b[43mnp\u001b[49m\u001b[43m.\u001b[49m\u001b[43mfloat64\u001b[49m\u001b[43m(\u001b[49m\u001b[32;43m3.0\u001b[39;49m\u001b[43m)\u001b[49m\n\u001b[32m      5\u001b[39m \u001b[43m)\u001b[49m\n",
      "\u001b[36mFile \u001b[39m\u001b[32m~/Documents/UESC/ppgmc/analiseNumerica/metodos_numericos/interpolacao_polinomial/src/methods/curve_adjusting.py:137\u001b[39m, in \u001b[36mcubic_splines\u001b[39m\u001b[34m(X, Y, dx_0, dx_n)\u001b[39m\n\u001b[32m    135\u001b[39m     \u001b[38;5;28;01mreturn\u001b[39;00m fixed_splines(X, Y, dx_0=dx_0, dx_n=dx_n)\n\u001b[32m    136\u001b[39m \u001b[38;5;28;01melse\u001b[39;00m:\n\u001b[32m--> \u001b[39m\u001b[32m137\u001b[39m     \u001b[38;5;28;01mraise\u001b[39;00m \u001b[38;5;167;01mRuntimeError\u001b[39;00m(\u001b[33m\"\"\"\u001b[39m\n\u001b[32m    138\u001b[39m \u001b[33m                       Para utilizar os SPLines fixados\u001b[39m\n\u001b[32m    139\u001b[39m \u001b[33m                       as derivadas *dx_0* e *dx_n* devem ser\u001b[39m\n\u001b[32m    140\u001b[39m \u001b[33m                       definidas.\u001b[39m\n\u001b[32m    141\u001b[39m \u001b[33m                       \u001b[39m\u001b[33m\"\"\"\u001b[39m)\n",
      "\u001b[31mRuntimeError\u001b[39m: \n                           Para utilizar os SPLines fixados\n                           as derivadas *dx_0* e *dx_n* devem ser\n                           definidas.\n                           "
     ]
    }
   ],
   "source": [
    "cubic_splines(\n",
    "    np.array([0, 1, 2, 3], dtype=np.float64),\n",
    "    np.array([1, np.e, np.e**2, np.e**3], dtype=np.float64),\n",
    "    dx_n = np.float64(3.0)\n",
    ")"
   ]
  }
 ],
 "metadata": {
  "kernelspec": {
   "display_name": ".mn-venv",
   "language": "python",
   "name": "python3"
  },
  "language_info": {
   "codemirror_mode": {
    "name": "ipython",
    "version": 3
   },
   "file_extension": ".py",
   "mimetype": "text/x-python",
   "name": "python",
   "nbconvert_exporter": "python",
   "pygments_lexer": "ipython3",
   "version": "3.13.0"
  }
 },
 "nbformat": 4,
 "nbformat_minor": 5
}
