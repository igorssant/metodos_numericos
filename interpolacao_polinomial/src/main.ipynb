{
 "cells": [
  {
   "cell_type": "markdown",
   "id": "c123ab69",
   "metadata": {},
   "source": [
    "# LISTA 2 DE MÉTODOS NUMÉRICOS I"
   ]
  },
  {
   "cell_type": "markdown",
   "id": "98d84581",
   "metadata": {},
   "source": [
    "Interpolação Polinomial"
   ]
  },
  {
   "cell_type": "markdown",
   "id": "3ef5538e",
   "metadata": {},
   "source": [
    "## Importando os pacotes que serão utilizados"
   ]
  },
  {
   "cell_type": "code",
   "execution_count": null,
   "id": "216dc97f",
   "metadata": {},
   "outputs": [],
   "source": [
    "from methods.polynomial_interpolation import *\n",
    "from utils.parser import evaluate_one_variable\n",
    "from numpy.typing import NDArray\n",
    "import numpy as np\n",
    "import sympy as sy"
   ]
  },
  {
   "cell_type": "markdown",
   "id": "a008de9b",
   "metadata": {},
   "source": [
    "## Resolução das questões"
   ]
  },
  {
   "cell_type": "markdown",
   "id": "737b001c",
   "metadata": {},
   "source": [
    "### Questão 2"
   ]
  },
  {
   "cell_type": "markdown",
   "id": "9aacdcd7",
   "metadata": {},
   "source": [
    "Dada a função f (x) = ln(x + 1), e os pontos x0=0,0; x1=0,6; x2=0,9 e x3 =1,1. Construa os polinômios de interpolação de Lagrange nos seguintes casos:\n",
    "- a) Polinômio de grau 1, com os pontos x0 e x3 ,\n",
    "- b) Polinômio de grau 2, com os pontos x0 , x1 e x3 ,\n",
    "- c) Polinômio de grau 3, com os pontos x0 , x1 , x2 e x3 ."
   ]
  },
  {
   "cell_type": "code",
   "execution_count": null,
   "id": "440ecb34",
   "metadata": {},
   "outputs": [],
   "source": [
    "func:str = \"ln(x + 1)\"\n",
    "degree:int = 2\n",
    "points:NDArray = np.array([0.0, 0.6, 0.0, 1.1], dtype=np.float64)\n",
    "pointwise_matrix:NDArray = np.array([points,\n",
    "                                     [evaluate_one_variable(func, point) for point in points]],\n",
    "                                    dtype=np.float64)\n",
    "print(\"pontos x: \", pointwise_matrix[0, :])\n",
    "print(\"pontos f(x): \", pointwise_matrix[1, :])"
   ]
  },
  {
   "cell_type": "markdown",
   "id": "b634bedd",
   "metadata": {},
   "source": [
    "#### Caso a)"
   ]
  },
  {
   "cell_type": "code",
   "execution_count": null,
   "id": "f85b31ef",
   "metadata": {},
   "outputs": [],
   "source": []
  },
  {
   "cell_type": "markdown",
   "id": "3b8eaa26",
   "metadata": {},
   "source": [
    "#### Caso b)"
   ]
  },
  {
   "cell_type": "code",
   "execution_count": null,
   "id": "9b635739",
   "metadata": {},
   "outputs": [],
   "source": []
  },
  {
   "cell_type": "markdown",
   "id": "507beadd",
   "metadata": {},
   "source": [
    "#### Caso c)"
   ]
  },
  {
   "cell_type": "code",
   "execution_count": null,
   "id": "7da6ff9b",
   "metadata": {},
   "outputs": [],
   "source": []
  }
 ],
 "metadata": {
  "kernelspec": {
   "display_name": ".mn-venv",
   "language": "python",
   "name": "python3"
  },
  "language_info": {
   "codemirror_mode": {
    "name": "ipython",
    "version": 3
   },
   "file_extension": ".py",
   "mimetype": "text/x-python",
   "name": "python",
   "nbconvert_exporter": "python",
   "pygments_lexer": "ipython3",
   "version": "3.13.0"
  }
 },
 "nbformat": 4,
 "nbformat_minor": 5
}
