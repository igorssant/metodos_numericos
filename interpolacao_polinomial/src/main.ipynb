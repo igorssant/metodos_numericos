{
 "cells": [
  {
   "cell_type": "markdown",
   "id": "c123ab69",
   "metadata": {},
   "source": [
    "# LISTA 2 DE MÉTODOS NUMÉRICOS I"
   ]
  },
  {
   "cell_type": "markdown",
   "id": "98d84581",
   "metadata": {},
   "source": [
    "Interpolação Polinomial"
   ]
  },
  {
   "cell_type": "markdown",
   "id": "3ef5538e",
   "metadata": {},
   "source": [
    "## Importando os pacotes que serão utilizados"
   ]
  },
  {
   "cell_type": "code",
   "execution_count": 1,
   "id": "216dc97f",
   "metadata": {},
   "outputs": [],
   "source": [
    "from methods.polynomial_interpolation import *\n",
    "from utils.parser import evaluate_one_variable\n",
    "from matplotlib import pyplot as plt\n",
    "from numpy.typing import NDArray\n",
    "import numpy as np\n",
    "import sympy as sy"
   ]
  },
  {
   "cell_type": "markdown",
   "id": "a008de9b",
   "metadata": {},
   "source": [
    "## Resolução das questões"
   ]
  },
  {
   "cell_type": "markdown",
   "id": "737b001c",
   "metadata": {},
   "source": [
    "### Questão 2"
   ]
  },
  {
   "cell_type": "markdown",
   "id": "9aacdcd7",
   "metadata": {},
   "source": [
    "Dada a função f (x) = ln(x + 1), e os pontos x0=0,0; x1=0,6; x2=0,9 e x3 =1,1. Construa os polinômios de interpolação de Lagrange nos seguintes casos:\n",
    "- a) Polinômio de grau 1, com os pontos x0 e x3 ,\n",
    "- b) Polinômio de grau 2, com os pontos x0 , x1 e x3 ,\n",
    "- c) Polinômio de grau 3, com os pontos x0 , x1 , x2 e x3 ."
   ]
  },
  {
   "cell_type": "code",
   "execution_count": 2,
   "id": "440ecb34",
   "metadata": {},
   "outputs": [],
   "source": [
    "func:str = \"ln(x + 1)\"\n",
    "degree:list[int] = list(range(1,4))\n",
    "points:NDArray = np.array([0.0, 0.6, 0.9, 1.1], dtype=np.float64)\n",
    "xi:np.float64\n",
    "specific_points:NDArray\n",
    "pointwise_matrix:NDArray"
   ]
  },
  {
   "cell_type": "markdown",
   "id": "b634bedd",
   "metadata": {},
   "source": [
    "#### Caso a)"
   ]
  },
  {
   "cell_type": "code",
   "execution_count": 3,
   "id": "9f23e94c",
   "metadata": {},
   "outputs": [],
   "source": [
    "specific_points:NDArray = np.array([points[0], points[3]])\n",
    "pointwise_matrix:NDArray = np.array([specific_points,\n",
    "                                     [evaluate_one_variable(func, point) for point in specific_points]],\n",
    "                                    dtype=np.float64)"
   ]
  },
  {
   "cell_type": "code",
   "execution_count": 4,
   "id": "f85b31ef",
   "metadata": {},
   "outputs": [
    {
     "data": {
      "text/plain": [
       "np.float64(0.20234654856255743)"
      ]
     },
     "execution_count": 4,
     "metadata": {},
     "output_type": "execute_result"
    }
   ],
   "source": [
    "xi = np.float64(0.3)\n",
    "lagrange_interpolation(pointwise_matrix, degree[0], xi)"
   ]
  },
  {
   "cell_type": "code",
   "execution_count": 5,
   "id": "37d682c7",
   "metadata": {},
   "outputs": [
    {
     "data": {
      "text/plain": [
       "np.float64(0.5058663714063936)"
      ]
     },
     "execution_count": 5,
     "metadata": {},
     "output_type": "execute_result"
    }
   ],
   "source": [
    "xi = np.float64(0.75)\n",
    "lagrange_interpolation(pointwise_matrix, degree[0], xi)"
   ]
  },
  {
   "cell_type": "markdown",
   "id": "3b8eaa26",
   "metadata": {},
   "source": [
    "#### Caso b)"
   ]
  },
  {
   "cell_type": "code",
   "execution_count": 6,
   "id": "e465655f",
   "metadata": {},
   "outputs": [],
   "source": [
    "specific_points = np.array([points[0], points[1], points[3]])\n",
    "pointwise_matrix = np.array([specific_points,\n",
    "                            [evaluate_one_variable(func, point) for point in specific_points]],\n",
    "                            dtype=np.float64)"
   ]
  },
  {
   "cell_type": "code",
   "execution_count": 7,
   "id": "682197fb",
   "metadata": {},
   "outputs": [
    {
     "data": {
      "text/plain": [
       "np.float64(0.254594974259054)"
      ]
     },
     "execution_count": 7,
     "metadata": {},
     "output_type": "execute_result"
    }
   ],
   "source": [
    "xi = np.float64(0.3)\n",
    "lagrange_interpolation(pointwise_matrix, degree[1], xi)"
   ]
  },
  {
   "cell_type": "code",
   "execution_count": 8,
   "id": "9b635739",
   "metadata": {},
   "outputs": [
    {
     "data": {
      "text/plain": [
       "np.float64(0.5630130870119368)"
      ]
     },
     "execution_count": 8,
     "metadata": {},
     "output_type": "execute_result"
    }
   ],
   "source": [
    "xi = np.float64(0.75)\n",
    "lagrange_interpolation(pointwise_matrix, degree[1], xi)"
   ]
  },
  {
   "cell_type": "markdown",
   "id": "507beadd",
   "metadata": {},
   "source": [
    "#### Caso c)"
   ]
  },
  {
   "cell_type": "code",
   "execution_count": 9,
   "id": "7b6c99ff",
   "metadata": {},
   "outputs": [],
   "source": [
    "pointwise_matrix = np.array([points,\n",
    "                            [evaluate_one_variable(func, point) for point in points]],\n",
    "                            dtype=np.float64)"
   ]
  },
  {
   "cell_type": "code",
   "execution_count": 10,
   "id": "e0b2e40e",
   "metadata": {},
   "outputs": [
    {
     "data": {
      "text/plain": [
       "np.float64(0.2604244126425875)"
      ]
     },
     "execution_count": 10,
     "metadata": {},
     "output_type": "execute_result"
    }
   ],
   "source": [
    "xi = np.float64(0.3)\n",
    "lagrange_interpolation(pointwise_matrix, degree[2], xi)"
   ]
  },
  {
   "cell_type": "code",
   "execution_count": 11,
   "id": "7da6ff9b",
   "metadata": {},
   "outputs": [
    {
     "data": {
      "text/plain": [
       "np.float64(0.559825112895942)"
      ]
     },
     "execution_count": 11,
     "metadata": {},
     "output_type": "execute_result"
    }
   ],
   "source": [
    "xi = np.float64(0.75)\n",
    "lagrange_interpolation(pointwise_matrix, degree[2], xi)"
   ]
  },
  {
   "cell_type": "markdown",
   "id": "e8a5348c",
   "metadata": {},
   "source": [
    "### Questão 3"
   ]
  },
  {
   "cell_type": "markdown",
   "id": "4d626147",
   "metadata": {},
   "source": [
    "A função de Runge é definida como f(x) = 1/(1 + x^2).\n",
    "- a) Desejamos construir o polinômio interpolante de Lagrange no intervalo [−5,5] com pontos equidistantes para n = 4, 6, 8 e 12.\n",
    "- b) Em cada caso construa um gráfico contendo a função de Runge, os pontos de interpolação e o Polinômio de Lagrange.\n",
    "- c) A partir dos gráficos comente sobre a acurácia da interpolação no centro do intervalo, e nos extremos. Explique o comportamento observado.\n",
    "- d) Pesquise na literatura e encontre uma alternativa para aprimorar a interpolação descartando o uso de Splines ou qualquer estratégia de interpolação por partes."
   ]
  },
  {
   "cell_type": "code",
   "execution_count": 12,
   "id": "8ceb7542",
   "metadata": {},
   "outputs": [],
   "source": [
    "func:str = \"1 / (1 + x**2)\"\n",
    "degree:list[int] = [4, 6, 8, 12]\n",
    "brackets:NDArray = np.array(list(range(-5, 6)), dtype=np.float64)\n",
    "equidistant_points:list[NDArray] = []\n",
    "res:NDArray = np.zeros(4, dtype=np.float64)"
   ]
  },
  {
   "cell_type": "markdown",
   "id": "473bbcfb",
   "metadata": {},
   "source": [
    "#### Caso a)"
   ]
  },
  {
   "cell_type": "code",
   "execution_count": 13,
   "id": "383e8df6",
   "metadata": {},
   "outputs": [],
   "source": [
    "temp:NDArray = np.zeros((4, 12), dtype=np.float64)\n",
    "\n",
    "for n, row in zip(degree, range(4)):\n",
    "    for i in range(n):\n",
    "        h:np.float64 = np.float64((brackets[9] - brackets[0]) / (n - 1))\n",
    "        temp[row, i] = brackets[0] + i * h\n",
    "    \n",
    "for row in range(temp.shape[0] - 1):\n",
    "    zero_indices:NDArray = np.where(temp[row, :] == 0)[0]\n",
    "    first_zero_index:int = zero_indices[0]\n",
    "    equidistant_points.append(temp[row, :first_zero_index].copy())\n",
    "\n",
    "equidistant_points.append(temp[3].copy())\n",
    "temp = None"
   ]
  },
  {
   "cell_type": "code",
   "execution_count": 14,
   "id": "7beaa353",
   "metadata": {},
   "outputs": [
    {
     "name": "stdout",
     "output_type": "stream",
     "text": [
      "[0.43891403 0.81575122 0.96649814 0.99805008]\n"
     ]
    }
   ],
   "source": [
    "for row in range(4):\n",
    "    pointwise_matrix:NDArray = np.array([equidistant_points[row],\n",
    "                                        [evaluate_one_variable(func, point) for point in equidistant_points[row]]],\n",
    "                                        dtype=np.float64)\n",
    "    res[row] = lagrange_interpolation(pointwise_matrix,\n",
    "                                      equidistant_points[row].shape[0] - 1,\n",
    "                                      np.float64(0.0))\n",
    "\n",
    "print(res)"
   ]
  },
  {
   "cell_type": "markdown",
   "id": "dd301fad",
   "metadata": {},
   "source": [
    "#### Caso b)"
   ]
  },
  {
   "cell_type": "code",
   "execution_count": 15,
   "id": "51122f8f",
   "metadata": {},
   "outputs": [
    {
     "data": {
      "image/png": "[encoded data removed]",
      "text/plain": [
       "<Figure size 1200x800 with 1 Axes>"
      ]
     },
     "metadata": {},
     "output_type": "display_data"
    }
   ],
   "source": [
    "plt.figure(figsize=(12, 8))\n",
    "plt.plot(res)\n",
    "plt.show()"
   ]
  }
 ],
 "metadata": {
  "kernelspec": {
   "display_name": ".mn-venv",
   "language": "python",
   "name": "python3"
  },
  "language_info": {
   "codemirror_mode": {
    "name": "ipython",
    "version": 3
   },
   "file_extension": ".py",
   "mimetype": "text/x-python",
   "name": "python",
   "nbconvert_exporter": "python",
   "pygments_lexer": "ipython3",
   "version": "3.13.0"
  }
 },
 "nbformat": 4,
 "nbformat_minor": 5
}
